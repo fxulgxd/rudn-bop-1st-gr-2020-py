{
 "cells": [
  {
   "cell_type": "markdown",
   "metadata": {},
   "source": [
    "# Лабораторная работа 2. Циклы и списки."
   ]
  },
  {
   "cell_type": "markdown",
   "metadata": {},
   "source": [
    "# Пример 1. \"Сравнение двух чисел\""
   ]
  },
  {
   "cell_type": "markdown",
   "metadata": {},
   "source": [
    "Рассмотрим программу, которая умеет сравнивать два числа. Логика её работы приведена ниже:"
   ]
  },
  {
   "cell_type": "code",
   "execution_count": 6,
   "metadata": {},
   "outputs": [
    {
     "data": {
      "image/png": "[encoded data removed]",
      "text/plain": [
       "<IPython.core.display.Image object>"
      ]
     },
     "execution_count": 6,
     "metadata": {},
     "output_type": "execute_result"
    }
   ],
   "source": [
    "from IPython.display import Image\n",
    "Image(\"Схема сравнения чисел.png\")"
   ]
  },
  {
   "cell_type": "code",
   "execution_count": 1,
   "metadata": {},
   "outputs": [
    {
     "name": "stdout",
     "output_type": "stream",
     "text": [
      "Введите целое число a: 1\n",
      "Введите целое число b: 2\n",
      "a - наименьшее из двух чисел\n"
     ]
    }
   ],
   "source": [
    "a = int(input('Введите целое число a: '))\n",
    "b = int(input('Введите целое число b: '))\n",
    "\n",
    "if a < b:\n",
    "    print('a - наименьшее из двух чисел')\n",
    "elif a == b:\n",
    "    print('a и b равны')\n",
    "else:\n",
    "    print('b - наименьшее из двух чисел')"
   ]
  },
  {
   "cell_type": "markdown",
   "metadata": {},
   "source": [
    "# Упражнение 1. На сколько?"
   ]
  },
  {
   "cell_type": "markdown",
   "metadata": {},
   "source": [
    "**Задание:** добавьте в текст предыдущей программы вычисление разницы между этими числами и выводите эту информацию в сообщении с результатом."
   ]
  },
  {
   "cell_type": "code",
   "execution_count": 1,
   "metadata": {},
   "outputs": [
    {
     "name": "stdout",
     "output_type": "stream",
     "text": [
      "Введите первое целое число: 12\n",
      "Введите второе целое число: 5\n",
      "Второе число меньше первого.\n",
      "Разница между числами равна 7\n"
     ]
    }
   ],
   "source": [
    "num1 = int(input('Введите первое целое число: '))\n",
    "num2 = int(input('Введите второе целое число: '))\n",
    "\n",
    "if num1 < num2:\n",
    "    print('Первое число меньше второго.')\n",
    "elif num1 == num2:\n",
    "    print('Введённые числа равны.')\n",
    "else:\n",
    "    print('Второе число меньше первого.')\n",
    "\n",
    "if num1 - num2:  # условие не выполнится, если числа будут равны\n",
    "    print('Разница между числами равна {}'.format(abs(num1 - num2)))"
   ]
  },
  {
   "cell_type": "markdown",
   "metadata": {},
   "source": [
    "# Упражнение 2. \"Сравнение трёх чисел\""
   ]
  },
  {
   "cell_type": "markdown",
   "metadata": {},
   "source": [
    "**Задание:** добавьте к сравнению третье число и выведите результат с информацией о величине максимального и минимального числа.\n",
    "\n",
    "Какое наименьшее число операторов сравнения (`>`, `<`, `>=`, `<=`) необходимо для решения этой задачи?"
   ]
  },
  {
   "cell_type": "code",
   "execution_count": 3,
   "metadata": {},
   "outputs": [
    {
     "name": "stdout",
     "output_type": "stream",
     "text": [
      "Введите целое число a: 12\n",
      "Введите целое число b: 13\n",
      "Введите целое число c: 14\n",
      "Максимальное число - c (14), минимальное - a (12)\n",
      "Наименьшее количество операторов сравнения, которое у меня получилось, равно 17\n"
     ]
    }
   ],
   "source": [
    "a = int(input('Введите целое число a: '))\n",
    "b = int(input('Введите целое число b: '))\n",
    "c = int(input('Введите целое число c: '))\n",
    "\n",
    "if a > b:\n",
    "    if a > c > b:\n",
    "        print('Максимальное число - a (%i), минимальное - b (%i)' % (a, b))\n",
    "    elif b > c:\n",
    "        print('Максимальное число - a (%i), минимальное - c (%i)' % (a, c))\n",
    "    elif c > a:\n",
    "        print('Максимальное число - c (%i), минимальное - b (%i)' % (c, b))\n",
    "    elif b == c:\n",
    "        print('Максимальное число - a (%i), минимальные числа - b и c (%i)' % (a, b))\n",
    "elif b > c:\n",
    "    if b > a > c:\n",
    "        print('Максимальное число - b (%i), минимальное - c (%i)' % (b, c))\n",
    "    elif c > a:\n",
    "        print('Максимальное число - b (%i), минимальное - a (%i)' % (b, a))\n",
    "    elif c == a:\n",
    "        print('Максимальное число - b (%i), минимальные числа - c и a (%i)' % (b, c))\n",
    "elif c > a:\n",
    "    if c > b > a:\n",
    "        print('Максимальное число - c (%i), минимальное - a (%i)' % (c, a))\n",
    "    elif a == b:\n",
    "        print('Максимальное число - c (%i), минимальные числа - a и b (%i)' % (c, a))\n",
    "elif a == b == c:\n",
    "    print('Максимум и минимум равен одним и тем же числам a, b и c - %i' % a)\n",
    "    \n",
    "print('Наименьшее количество операторов сравнения, которое у меня получилось, равно 17')"
   ]
  },
  {
   "cell_type": "code",
   "execution_count": 4,
   "metadata": {},
   "outputs": [
    {
     "name": "stdout",
     "output_type": "stream",
     "text": [
      "Введите первое целое число: 3\n",
      "Введите второе целое число: 6\n",
      "Введите третье целое число: 9\n",
      "Минимум: первое число (3). Максимум: третье число (9).\n",
      "Число явных инструкций if - 5.\n"
     ]
    }
   ],
   "source": [
    "calls = ['первое', 'второе', 'третье']\n",
    "numbers = [int(input(f'Введите {calls[i]} целое число: ')) for i in range(3)]\n",
    "\n",
    "# индексы минимальных и максимальных чисел\n",
    "minimums = [i for i in range(3) if numbers[i] == min(numbers)]\n",
    "maximums = [i for i in range(3) if numbers[i] == max(numbers)]\n",
    "\n",
    "if len(set(numbers)) != 1:\n",
    "    print('Минимум: {} {} ({}). Максимум: {} {} ({}).'.format(' и '.join(calls[i] for i in range(3) if i in minimums),\n",
    "                                                              'числа' if len(minimals) > 1 else 'число',\n",
    "                                                              numbers[minimals[0]],\n",
    "                                                              ' и '.join(calls[i] for i in range(3) if i in maximums),\n",
    "                                                              'числа' if len(maximums) > 1 else 'число',\n",
    "                                                              numbers[maximums[0]]\n",
    "                                                              ))\n",
    "else:\n",
    "    print(f'Числа идентичны - {numbers[0]}.')\n",
    "    \n",
    "print('Число явных инструкций if - 5.')"
   ]
  },
  {
   "cell_type": "markdown",
   "metadata": {},
   "source": [
    "# Пример 2. \"Метание мяча в деталях\""
   ]
  },
  {
   "cell_type": "markdown",
   "metadata": {},
   "source": [
    "Рассмотрим пример, иллюстрирующий математическую модель, описывающую траекторию полета мяча в воздухе. Из второго закона Ньютона, предполагая отсутствие сопротивления воздуха, мы можем вывести зависимость вертикального положения мяча от времени $t$:\n",
    "\n",
    "\n",
    "$$y(t)=v_0t−\\frac{1}{2}gt^2,$$\n",
    "\n",
    "\n",
    "где $v_0$ — начальная скорость, $g$ — ускорение свободного падения, значение которого положим равным 9.80665 $м/c^2$.\n",
    "\n",
    "(Обратите внимание, какие красивые формулы! Текстовые ячейки Jupyter поддерживают набор формул в синтаксисе вёрстки LaTeX, наиболее популярного набора макрорасширений (или макропакета) системы компьютерной вёрстки TeX.)"
   ]
  },
  {
   "cell_type": "markdown",
   "metadata": {},
   "source": [
    "Теперь нас будет интересовать траектория полёта меча. Зададим исходные данные:"
   ]
  },
  {
   "cell_type": "code",
   "execution_count": 5,
   "metadata": {},
   "outputs": [],
   "source": [
    "# Программа для вычисления положения мяча при вертикальном движении\n",
    "v0 = 5  # Начальная скорость\n",
    "g = 9.80665  # Ускорение свободного падения\n",
    "t_max = 2 * v0 / g"
   ]
  },
  {
   "cell_type": "markdown",
   "metadata": {},
   "source": [
    "и определим несколько моментов времени."
   ]
  },
  {
   "cell_type": "markdown",
   "metadata": {},
   "source": [
    "До этого момента все наши переменные могли содержать только одно число, будь оно хоть целым (`int`), хоть с плавающей точкой (`float`). Но иногда числа естественным образом группируются. Например, последовательность моментов времени представляют собой группу. Для групп в Python есть несколько специальных типов объектов. Мы рассмотрим тип `list` — список, который позволяет организовывать эти группы в последовательности. При этом мы можем с помощью списков работать как с группой целиком, так и с членами этой группы по отдельности. А ещё список может состоять из объектов разного типа, в том числе и из самих списков."
   ]
  },
  {
   "cell_type": "code",
   "execution_count": 6,
   "metadata": {},
   "outputs": [
    {
     "name": "stdout",
     "output_type": "stream",
     "text": [
      "Число моментов времени: 5\n"
     ]
    }
   ],
   "source": [
    "t = [0, 1 / 4 * t_max, 1 / 2 * t_max, 3 / 4 * t_max, t_max]  # список моментов времени\n",
    "n = len(t)  # функция len() определяет \"длину\" списка (количество эллементов)\n",
    "print(f\"Число моментов времени: {n}\")"
   ]
  },
  {
   "cell_type": "markdown",
   "metadata": {},
   "source": [
    "Организуем с помощью цикла `for` перебор этих моментов:"
   ]
  },
  {
   "cell_type": "code",
   "execution_count": 7,
   "metadata": {},
   "outputs": [
    {
     "name": "stdout",
     "output_type": "stream",
     "text": [
      "В момент времени 0.00000000e+00 высота равна 0.00000000e+00.\n",
      "В момент времени 2.54929053e-01 высота равна 9.55983950e-01.\n",
      "В момент времени 5.09858106e-01 высота равна 1.27464527e+00.\n",
      "В момент времени 7.64787160e-01 высота равна 9.55983950e-01.\n",
      "В момент времени 1.01971621e+00 высота равна 0.00000000e+00.\n"
     ]
    }
   ],
   "source": [
    "for i in [0, 1, 2, 3, 4]:\n",
    "    y = v0 * t[i] - 1 / 2 * g * t[i] ** 2\n",
    "    print(\"В момент времени {:14.8e} высота равна {:14.8e}.\".format(t[i], y))"
   ]
  },
  {
   "cell_type": "markdown",
   "metadata": {},
   "source": [
    "Теперь наша переменная `t` ссылается на объект типа `list`, который содержит последовательность. Все элементы в этом случае являются объектами типа `int`.\n",
    "\n",
    "Любой элемент в списке связан со своим индексом, который определяет позицию элемента в списке. Первый элемент имеет индекс `0`, второй элемент — индекс `1` и так далее. Для того, чтобы вызвать какой-то элемент списка, достаточно вызвать его по индексу: `t[3]`.\n",
    "\n",
    "Элементы в списках можно удалять, добавлять, изменять, вставлять и так далее. Делается это с помощью методов. Методы определяются через точку.\n",
    "\n",
    "Обо всех методах того или иного объекта можно узнать через специальную функцию `dir(<объект>)`.\n",
    "\n",
    "Например метод append для списка `y` запишется как `y.append(v)`, и этот метод добавит элемент `v` в конец списка `y`. А метод `y.insert(i,v)` вставит новый элемент `v` на позицию `i`. "
   ]
  },
  {
   "cell_type": "code",
   "execution_count": 8,
   "metadata": {},
   "outputs": [
    {
     "name": "stdout",
     "output_type": "stream",
     "text": [
      "[0.0, 0.9559839496668078, 1.2746452662224104, 0.9559839496668081, 0.0] <class 'list'>\n"
     ]
    }
   ],
   "source": [
    "y = []  # создаем пустой список\n",
    "for i in [0, 1, 2, 3, 4]:\n",
    "    y.append(v0 * t[i] - 1 / 2 * g * t[i] ** 2)  # дописываем значение в конец списка\n",
    "print(y, type(y))"
   ]
  },
  {
   "cell_type": "markdown",
   "metadata": {},
   "source": [
    "Добавим ещё несколько моментов времени:"
   ]
  },
  {
   "cell_type": "code",
   "execution_count": 9,
   "metadata": {},
   "outputs": [
    {
     "name": "stdout",
     "output_type": "stream",
     "text": [
      "[0, 0.12746452662224103, 0.25492905324448206, 0.38239357986672307, 0.5098581064889641, 0.6373226331112052, 0.7647871597334461, 0.8922516863556872, 1.0197162129779282] 9\n"
     ]
    }
   ],
   "source": [
    "t.insert(1, 1 / 8 * t_max)\n",
    "t.insert(3, 3 / 8 * t_max)\n",
    "t.insert(5, 5 / 8 * t_max)\n",
    "t.insert(7, 7 / 8 * t_max)\n",
    "n = len(t)\n",
    "print(t, n)"
   ]
  },
  {
   "cell_type": "markdown",
   "metadata": {},
   "source": [
    "Вычислим значения `y` в новые моменты времени и вставим их список:"
   ]
  },
  {
   "cell_type": "code",
   "execution_count": 10,
   "metadata": {},
   "outputs": [
    {
     "name": "stdout",
     "output_type": "stream",
     "text": [
      "[0.0, 0.5576573039723045, 0.9559839496668078, 1.1949799370835097, 1.2746452662224104, 1.1949799370835101, 0.9559839496668081, 0.557657303972305, 0.0]\n"
     ]
    }
   ],
   "source": [
    "for i in [1, 3, 5, 7]:\n",
    "    y.insert(i, v0 * t[i] - 1 / 2 * g * t[i] ** 2)  # дописываем значение в заданные позиции списка\n",
    "print(y)"
   ]
  },
  {
   "cell_type": "markdown",
   "metadata": {},
   "source": [
    "С помощью `del t[i]` мы можем удалять любые элементы. Метод `t.index(v)` позволяет определить, под каким индексом расположен интересующий нас элемент."
   ]
  },
  {
   "cell_type": "code",
   "execution_count": 11,
   "metadata": {},
   "outputs": [
    {
     "name": "stdout",
     "output_type": "stream",
     "text": [
      "[0, 0.12746452662224103, 0.25492905324448206, 0.38239357986672307, 0.5098581064889641, 0.6373226331112052, 0.7647871597334461, 0.8922516863556872, 1.0197162129779282]\n",
      "[0.12746452662224103, 0.25492905324448206, 0.38239357986672307, 0.5098581064889641, 0.6373226331112052, 0.7647871597334461, 0.8922516863556872, 1.0197162129779282]\n"
     ]
    }
   ],
   "source": [
    "print(t)\n",
    "del t[0]\n",
    "print(t)"
   ]
  },
  {
   "cell_type": "code",
   "execution_count": 12,
   "metadata": {},
   "outputs": [
    {
     "data": {
      "text/plain": [
       "0"
      ]
     },
     "execution_count": 12,
     "metadata": {},
     "output_type": "execute_result"
    }
   ],
   "source": [
    "y.index(0)"
   ]
  },
  {
   "cell_type": "markdown",
   "metadata": {},
   "source": [
    "Поскольку прохождение по списку и создание соответствующего нового списка является часто встречаемой задачей, в Python имеется компактный синтаксис для решения этой проблемы, который часто называют генерацией списка. В общем виде это выглядит так:\n",
    "\n"
   ]
  },
  {
   "cell_type": "code",
   "execution_count": 13,
   "metadata": {},
   "outputs": [
    {
     "name": "stdout",
     "output_type": "stream",
     "text": [
      "[0.0, 0.10197162129779283, 0.20394324259558566, 0.30591486389337846, 0.4078864851911713, 0.5098581064889641, 0.6118297277867569, 0.7138013490845497, 0.8157729703823426, 0.9177445916801354, 1.0197162129779282]\n"
     ]
    }
   ],
   "source": [
    "n = 10\n",
    "t = [i / n * t_max for i in range(n + 1)]\n",
    "print(t)"
   ]
  },
  {
   "cell_type": "markdown",
   "metadata": {},
   "source": [
    "Модифицируем сценарий из 1-й лабораторной. \n",
    "\n",
    "## Программа на Python с векторизацией и построением графиков для иллюстрации использования цикла `for`.\n",
    "\n",
    "Предположим, мы хотим найти максимальную высоту в течение какого-то времени. Один из вариантов реализации поиска может быть следующим: вычисляем все значения высоты (в данном примере — 1000 значений), сохраняем их в массив, а затем пробегаем по массиву, чтобы найти максимальное значение. "
   ]
  },
  {
   "cell_type": "code",
   "execution_count": 17,
   "metadata": {},
   "outputs": [
    {
     "name": "stdout",
     "output_type": "stream",
     "text": [
      "Максимальная высота равна 1.275 м.\n"
     ]
    },
    {
     "data": {
      "image/png": "[encoded data removed]",
      "text/plain": [
       "<Figure size 648x504 with 1 Axes>"
      ]
     },
     "metadata": {
      "needs_background": "light"
     },
     "output_type": "display_data"
    }
   ],
   "source": [
    "import numpy as np\n",
    "import matplotlib.pyplot as plt\n",
    "\n",
    "v0 = 5.0\n",
    "g = 9.80665  # Ускорение свободного падения\n",
    "\n",
    "t_max = 2 * v0 / g\n",
    "\n",
    "t = np.linspace(0, t_max, 1000)\n",
    "y = v0 * t - .5 * g * t ** 2\n",
    "\n",
    "max_height = y[0]\n",
    "for i in range(1, 1000):\n",
    "    if y[i] > max_height:\n",
    "        max_height = y[i]\n",
    "\n",
    "print('Максимальная высота равна {:.3f} м.'.format(max_height))\n",
    "\n",
    "plt.figure(figsize=(9, 7))\n",
    "\n",
    "plt.plot(t, y)\n",
    "plt.xlabel(u'Время (с)')\n",
    "plt.ylabel(u'Высота (м)')\n",
    "plt.show()"
   ]
  },
  {
   "cell_type": "code",
   "execution_count": 18,
   "metadata": {},
   "outputs": [
    {
     "name": "stdout",
     "output_type": "stream",
     "text": [
      "Теперь последовательность t имеет 1000 эллементов и тип <class 'numpy.ndarray'>.\n"
     ]
    }
   ],
   "source": [
    "print(f'Теперь последовательность t имеет {len(t)} эллементов и тип {type(t)}.')"
   ]
  },
  {
   "cell_type": "markdown",
   "metadata": {},
   "source": [
    "Как вы заметили, ещё одним удобным вариантом для группировки эллементов служат массиивы библиотеки `numpy`. Функция этой библиотеки `linspace(<от>, <до>, <количество эллементов>)` создает набор чисел с равным шагом из заданного диапазона."
   ]
  },
  {
   "cell_type": "markdown",
   "metadata": {},
   "source": [
    "Для иллюстрации еще одной стандартной циклической конструкции — цикла `while` — рассмотрим другую модификацию сценария из лабораторной 1. Теперь мы изменим его так, чтобы сценарий находил время полета мяча. Предположим, что мы подбросили мяч с немного меньшей начальной скоростью (4.5 м/с). Так как мы будем рассматривать первую секунду полета, то высота в конце этого интервала будет отрицательной. Это означает, что мяч упал ниже своего начального положения. В нашем массиве `y` мы будем иметь ряд отрицательных значений, которые расположены в конце массива. \n",
    "\n",
    "В следующем сценарии нужно момент времени, когда значение высоты становится отрицательным, т.е. когда мяч пересекает прямую `y = 0`. Вот один из вариантов:"
   ]
  },
  {
   "cell_type": "code",
   "execution_count": 16,
   "metadata": {},
   "outputs": [
    {
     "name": "stdout",
     "output_type": "stream",
     "text": [
      "Высота равна нулю в момент времени 0.91742.\n"
     ]
    },
    {
     "data": {
      "image/png": "[encoded data removed]",
      "text/plain": [
       "<Figure size 648x504 with 1 Axes>"
      ]
     },
     "metadata": {
      "needs_background": "light"
     },
     "output_type": "display_data"
    }
   ],
   "source": [
    "v0 = 4.5\n",
    "g = 9.81\n",
    "t = np.linspace(0, 1, 1000)\n",
    "y = v0 * t - .5 * g * t ** 2\n",
    "\n",
    "i = 0\n",
    "while y[i] >= 0:\n",
    "    i += 1\n",
    "\n",
    "print('Высота равна нулю в момент времени {:.5f}.'.format(.5 * (t[i - 1] + t[i])))\n",
    "\n",
    "plt.figure(figsize=(9, 7))\n",
    "\n",
    "plt.plot(t, y)\n",
    "plt.xlabel(u'Время (с)')\n",
    "plt.ylabel(u'Высота (м)')\n",
    "plt.show()"
   ]
  },
  {
   "cell_type": "markdown",
   "metadata": {},
   "source": [
    "В приведенном примере цикл `while` выполняется до тех пор, пока булево выражение `y[i] > 0` возвращает значение `True`. Отметим, что в этом случае счетчик цикла `i` введен и инициализирован (`i = 0`) до начала выполнения цикла и обновляется (`i += 1`) внутри цикла. Таким образом, для каждой итерации `i` явно увеличивается на `1`.\n",
    "\n",
    "В отличие от цикла `for`, программист не должен определять количество итераций при использовании цикла `while`. Цикл просто выполняется, пока булево выражение не вернет значение `False`. Таким образом, в этом случае счетчик цикла не обязателен. Кроме того, если в цикле `while` используется счетчик, то он не увеличивается автоматически, это нужно делать явно. Конечно, как и в цикле `for` и в инструкции `if`, в теле цикла `while` может быть несколько строк кода. Любой цикл `for` может быть реализован с помощью `while`, но циклы `while` являются более общими, и не все из них можно реализовать с помощью `for`.\n",
    "\n",
    "Следует быть осторожным с так называемыми бесконечными циклами. Могут возникнуть (непреднамеренно) случаи, когда тест в инструкции `while` никогда не вернет значение `False`, и сценарий не сможет выйти из цикла."
   ]
  },
  {
   "cell_type": "markdown",
   "metadata": {},
   "source": [
    "# Упражнение 3. $\\pi$"
   ]
  },
  {
   "cell_type": "markdown",
   "metadata": {},
   "source": [
    "Число Пи — несомненно, одна из основных констант, значение которой было известно еще в древности. Оно используется везде: от кройки и шитья до расчетов гармонических колебаний в физике и радиотехнике.\n",
    "\n",
    "Но чему она равна? Есть ли у этого числа какая-то внутренняя структура, неизвестная закономерность? Узнать это хотели многие. Самый простой и очевидный способ — взять и измерить. Примерно так вероятно и поступали в древности, хотя точность, разумеется, была невысокой. Еще в древнем Вавилоне значение числа Пи было известно как 25/8. Затем Архимед предложил первый математический метод вычисления числа Пи с помощью расчета вписанных в круг многоугольников. Это позволяло вычислять значение не «напрямую», с циркулем и линейкой, а математически, что обеспечивало гораздо большую точность. И, наконец, в 3-м веке нашей эры китайский математик Лю Хуэй придумал первый итерационный алгоритм — алгоритм, в котором число вычисляется не одной формулой, а последовательностью шагов (итераций), где каждая последующая итерация увеличивает точность.\n",
    "\n",
    "Кроме того:\n",
    "\n",
    "- число Пи является иррациональным: оно не может быть выражено с помощью дроби вида m/n. Это было доказано только в 1761 году;\n",
    "- число Пи является трансцендентным: оно не является корнем какого-либо уравнения с целочисленными коэффициентами. Это было доказано в 1882 году;\n",
    "- число Пи является бесконечным. Интересное следствие предыдущего пункта: в числе Пи можно найти практически любое число, например свой собственный номер телефона, вопрос лишь в длине последовательности которую придется просмотреть.\n",
    "\n",
    "Перейдем к формулам вычисления $\\pi$:\n",
    "\n",
    "Формула Мадхавы-Лейбница (15 век):\n",
    "\n",
    "$$\\frac{1}{1} - \\frac{1}{3} + \\frac{1}{5} - \\frac{1}{7} + \\frac{1}{9} - ... = \\frac{\\pi}{4}$$\n",
    "\n",
    "Формула Валлиса (17 век):\n",
    "\n",
    "$$\\frac{2}{1} * \\frac{2}{3} * \\frac{4}{3} * \\frac{4}{5} * \\frac{6}{5} * \\frac{6}{7} * \\frac{8}{7} * \\frac{8}{9} ... = \\frac{\\pi}{2}$$\n",
    "\n",
    "**Задание:** напишите программу, вычисляющую значение числа $\\pi$ по этим формулам в первые `n` итераций. Выводите все итерации и текущее значение числа $\\pi$ с 10 знаками после запятой в следующеем формате:\n",
    "\n",
    "`<номер итерации>  <ф. Мадхавы-Лейбница>  <ф. Валлиса>`"
   ]
  },
  {
   "cell_type": "code",
   "execution_count": 19,
   "metadata": {},
   "outputs": [
    {
     "name": "stdout",
     "output_type": "stream",
     "text": [
      "Введите количество итераций: 500000\n",
      "По формуле Мадхавы-Лейбница приближение числа π равно 3.141590653589692.\n",
      "По формуле Валлиса приближение числа π равно 3.141589512004502.\n"
     ]
    }
   ],
   "source": [
    "# итерации не выводятся\n",
    "iterations = int(input('Введите количество итераций: '))\n",
    "\n",
    "π_quart = 0  # Python поддерживает именование переменных символами Unicode\n",
    "for i in range(iterations):\n",
    "    π_quart += ((-1) ** i) / (1 + 2 * i)\n",
    "print(f'По формуле Мадхавы-Лейбница приближение числа π равно {π_quart * 4}.')\n",
    "\n",
    "π_half = 1\n",
    "for i in range(iterations):\n",
    "    π_half *= (2 + 2 * (i // 2)) / (1 + 2 * ((i + 1) // 2))\n",
    "print(f'По формуле Валлиса приближение числа π равно {π_half * 2}.')"
   ]
  },
  {
   "cell_type": "markdown",
   "metadata": {},
   "source": [
    "# Домашнее задание (базовое):"
   ]
  },
  {
   "cell_type": "markdown",
   "metadata": {},
   "source": [
    "# Задание 1. Счастливое число"
   ]
  },
  {
   "cell_type": "markdown",
   "metadata": {},
   "source": [
    "Дано четырехзначное число. Определите, является ли его десятичная запись симметричной. Если число симметричное, то выведите `1`, иначе выведите любое другое целое число. Число может иметь меньше четырех знаков, тогда нужно считать, что его десятичная запись дополняется слева нулями."
   ]
  },
  {
   "cell_type": "code",
   "execution_count": 20,
   "metadata": {},
   "outputs": [
    {
     "name": "stdout",
     "output_type": "stream",
     "text": [
      "4994\n",
      "1\n"
     ]
    }
   ],
   "source": [
    "def symmetric(number):\n",
    "    length = len(number)\n",
    "    for i in range(length // 2):\n",
    "        if number[i] != number[length - i - 1]:\n",
    "            return False\n",
    "    return True\n",
    "\n",
    "\n",
    "num = str(int(input()))\n",
    "if len(num) < 4:\n",
    "    num = \"0\" * (4 - len(num)) + num\n",
    "print(int(symmetric(num)))"
   ]
  },
  {
   "cell_type": "markdown",
   "metadata": {},
   "source": [
    "# Задание 2. Високосный год"
   ]
  },
  {
   "cell_type": "markdown",
   "metadata": {},
   "source": [
    "Дано натуральное число. Требуется определить, является ли год с данным номером високосным. Если год является високосным, то выведите `YES`, иначе выведите `NO`. Напомним, что в соответствии с григорианским календарем, год является високосным, если его номер кратен `4`, но не кратен `100`, или же если он кратен `400`."
   ]
  },
  {
   "cell_type": "code",
   "execution_count": 21,
   "metadata": {},
   "outputs": [
    {
     "name": "stdout",
     "output_type": "stream",
     "text": [
      "Введите год: 2004\n",
      "Вывод: YES.\n"
     ]
    }
   ],
   "source": [
    "def is_leap(x):\n",
    "    if x % 400 == 0:\n",
    "        return \"YES\"\n",
    "    if (x % 4 == 0) and (x % 100 != 0):\n",
    "        return \"YES\"\n",
    "    return \"NO\"\n",
    "\n",
    "\n",
    "print(f'Вывод: {is_leap(int(input(\"Введите год: \")))}.')"
   ]
  },
  {
   "cell_type": "markdown",
   "metadata": {},
   "source": [
    "# Задание 3. Коровы"
   ]
  },
  {
   "cell_type": "markdown",
   "metadata": {},
   "source": [
    "Для целого числа `n`, введённого пользователем, закончите фразу “На лугу пасется...” одним из возможных продолжений — “n коров”, “n корова” или “n коровы”, — правильно склоняя слово “корова”."
   ]
  },
  {
   "cell_type": "code",
   "execution_count": 22,
   "metadata": {},
   "outputs": [
    {
     "name": "stdout",
     "output_type": "stream",
     "text": [
      "Так сколько же у вас коров? 22\n",
      "На лугу пасется 22 коровы.\n"
     ]
    }
   ],
   "source": [
    "def declension(x):\n",
    "    if x % 10 == 1:\n",
    "        return \"корова\"\n",
    "    if x in [12, 13, 14]:\n",
    "        return \"коров\"\n",
    "    if x % 10 in [2, 3, 4]:\n",
    "        return \"коровы\"\n",
    "    return \"коров\"\n",
    "\n",
    "\n",
    "i = int(input('Так сколько же у вас коров? '))\n",
    "print(f'На лугу пасется {i} {declension(i)}.')"
   ]
  },
  {
   "cell_type": "markdown",
   "metadata": {},
   "source": [
    "# Задание 4. Минимальный делитель"
   ]
  },
  {
   "cell_type": "markdown",
   "metadata": {},
   "source": [
    "Дано целое число, не меньшее `2`. Выведите его наименьший натуральный делитель, отличный от `1`. \n",
    "Напишите программу в 2-х вариантах - с помощью циклов `for` и `while`."
   ]
  },
  {
   "cell_type": "code",
   "execution_count": 24,
   "metadata": {},
   "outputs": [
    {
     "name": "stdout",
     "output_type": "stream",
     "text": [
      "Введите целое число: 121\n",
      "Минимальный делитель числа (первый способ): 11.\n",
      "Минимальный делитель числа (второй способ): 11.\n"
     ]
    }
   ],
   "source": [
    "num = int(input('Введите целое число: '))\n",
    "# вариант первый\n",
    "minimal_divider = num\n",
    "for i in range(2, int(num ** 0.5 + 1)):\n",
    "    if num % i == 0:\n",
    "        minimal_divider = i\n",
    "        break\n",
    "print(f'Минимальный делитель числа (первый способ): {minimal_divider}.')\n",
    "\n",
    "# вариант второй\n",
    "minimal_divider = 2\n",
    "while num % minimal_divider:\n",
    "    minimal_divider += 1\n",
    "print(f'Минимальный делитель числа (второй способ): {minimal_divider}.')"
   ]
  },
  {
   "cell_type": "markdown",
   "metadata": {},
   "source": [
    "# Задание 5. Последовательность"
   ]
  },
  {
   "cell_type": "markdown",
   "metadata": {},
   "source": [
    "Программа получает на вход последовательность целых неотрицательных чисел, каждое число записано в отдельной строке. Последовательность завершается числом `0`, при считывании которого программа должна закончить свою работу и вывести количество членов последовательности (не считая завершающего числа `0`).\n",
    "После завершения ввода данных программа запрашивает пользователя какую операцию с ними нужно выполнить:\n",
    "\n",
    "```\n",
    "1. Найти сумму введённых чисел.\n",
    "2. Найти произведение введённых чисел.\n",
    "3. Найти среднее значение введённых чисел.\n",
    "4. Найти максимальное из введённых чисел.\n",
    "5. Найти минимальное из введённых чисел.\n",
    "6. Определить количество чётных и нечётных эллементов.\n",
    "```\n",
    "\n",
    "После получения ответа от пользователя программа выполняет расчёт и выводит результат."
   ]
  },
  {
   "cell_type": "code",
   "execution_count": 25,
   "metadata": {},
   "outputs": [
    {
     "name": "stdout",
     "output_type": "stream",
     "text": [
      "Введите число (или 0, чтобы закончить): 12\n",
      "Введите число (или 0, чтобы закончить): 6\n",
      "Введите число (или 0, чтобы закончить): 8\n",
      "Введите число (или 0, чтобы закончить): 4\n",
      "Введите число (или 0, чтобы закончить): 0\n",
      "Что нужно сделать с введенными числами?\n",
      "1. Найти сумму введённых чисел.\n",
      "2. Найти произведение введённых чисел.\n",
      "3. Найти среднее значение введённых чисел.\n",
      "4. Найти максимальное из введённых чисел.\n",
      "5. Найти минимальное из введённых чисел.\n",
      "6. Определить количество чётных и нечётных эллементов.\n",
      "Введите номер опции: 1\n",
      "Сумма чисел равна 30.\n"
     ]
    }
   ],
   "source": [
    "numbers = []\n",
    "\n",
    "while True:\n",
    "    k = int(input('Введите число (или 0, чтобы закончить): '))\n",
    "    if not k:\n",
    "        break\n",
    "    numbers.append(k)\n",
    "\n",
    "print('Что нужно сделать с введенными числами?')\n",
    "print('1. Найти сумму введённых чисел.')\n",
    "print('2. Найти произведение введённых чисел.')\n",
    "print('3. Найти среднее значение введённых чисел.')\n",
    "print('4. Найти максимальное из введённых чисел.')\n",
    "print('5. Найти минимальное из введённых чисел.')\n",
    "print('6. Определить количество чётных и нечётных эллементов.')\n",
    "op = int(input('Введите номер опции: '))\n",
    "\n",
    "if op == 1:\n",
    "    print(f'Сумма чисел равна {sum(numbers)}.')\n",
    "elif op == 2:\n",
    "    mul = 1\n",
    "    for num in numbers:\n",
    "        mul *= num\n",
    "    print(f'Произведение чисел равно {mul}.')\n",
    "elif op == 3:\n",
    "    print(f'Среднее значение чисел равно {sum(numbers) / len(numbers)}.')\n",
    "elif op == 4:\n",
    "    print(f'Максимум среди чисел равен {max(numbers)}.')\n",
    "elif op == 5:\n",
    "    print(f'Минимум среди чисел равен {min(numbers)}.')\n",
    "elif op == 6:\n",
    "    evens = 0\n",
    "    odds = 0\n",
    "    for num in numbers:\n",
    "        if num % 2 == 0:\n",
    "            evens += 1\n",
    "        else:\n",
    "            odds += 1\n",
    "    print('Четных элементов - {}, нечетных - {}'.format(evens, odds))"
   ]
  },
  {
   "cell_type": "markdown",
   "metadata": {},
   "source": [
    "# Домашнее задание (дополнительное):"
   ]
  },
  {
   "cell_type": "markdown",
   "metadata": {},
   "source": [
    "# Задание. \"Без всяких условностей\" "
   ]
  },
  {
   "cell_type": "markdown",
   "metadata": {},
   "source": [
    "Напишите программу, которая принимает два целых числа `A` и `B` и выводит наибольшее значение из них. \n",
    "\n",
    "При решении задачи можно пользоваться только целочисленными арифметическими операциями. Нельзя пользоваться нелинейными конструкциями: ветвлениями, циклами, функциями."
   ]
  },
  {
   "cell_type": "code",
   "execution_count": 26,
   "metadata": {
    "scrolled": true
   },
   "outputs": [
    {
     "name": "stdout",
     "output_type": "stream",
     "text": [
      "Введите первое число: 12\n",
      "Введите второе число: 44\n",
      "Максимальное из двух чисел равно 44.\n"
     ]
    }
   ],
   "source": [
    "a = int(input('Введите первое число: '))\n",
    "b = int(input('Введите второе число: '))\n",
    "\n",
    "print(f'Максимальное из двух чисел равно {int((a + b + abs(a - b)) / 2)}.')"
   ]
  },
  {
   "cell_type": "markdown",
   "metadata": {},
   "source": [
    "# Задание. \"Котлеты\" "
   ]
  },
  {
   "cell_type": "markdown",
   "metadata": {},
   "source": [
    "На сковородку одновременно можно положить `k` котлет. Каждую котлету нужно с каждой стороны обжаривать `m` минут непрерывно. За какое наименьшее время удастся поджарить с обеих сторон `n` котлет?\n",
    "Программа получает на вход три числа: `k`, `m`,`n`. И выводит одно число: наименьшее количество минут."
   ]
  },
  {
   "cell_type": "code",
   "execution_count": 27,
   "metadata": {},
   "outputs": [
    {
     "name": "stdout",
     "output_type": "stream",
     "text": [
      "Введите количество котлет, которые можно положить одновременно: 5\n",
      "Введите количество минут, требуемое для обжарки одной стороны котлеты: 2\n",
      "Введите количество котлет: 20\n",
      "Понадобится минут: 16.00.\n"
     ]
    }
   ],
   "source": [
    "amount_of_cutlets_at_same_time = int(input('Введите количество котлет, которые можно положить одновременно: '))\n",
    "time_of_roasters = float(input('Введите количество минут, требуемое для обжарки одной стороны котлеты: '))\n",
    "amount_of_cutlets = int(input('Введите количество котлет: '))\n",
    "\n",
    "if amount_of_cutlets <= amount_of_cutlets_at_same_time:\n",
    "    time = 2 * time_of_roasters\n",
    "elif (amount_of_cutlets * 2) % amount_of_cutlets_at_same_time == 0:\n",
    "    time = time_of_roasters * ((amount_of_cutlets * 2) // amount_of_cutlets_at_same_time)\n",
    "else:\n",
    "    time = time_of_roasters * (1 + ((amount_of_cutlets * 2) // amount_of_cutlets_at_same_time))\n",
    "\n",
    "print('Понадобится минут: {:.2f}.'.format(time))"
   ]
  },
  {
   "cell_type": "markdown",
   "metadata": {},
   "source": [
    "# Задание. \"Угадай число\""
   ]
  },
  {
   "cell_type": "markdown",
   "metadata": {},
   "source": [
    "Пользователь загадывает число от `1` до `N`. Программа запрашивает у пользователя `N`. Требуется отгадать загаданное число, задав как можно меньше вопросов. \n",
    "\n",
    "*Подсказка: обычно подобные задачи решают с помощью цикла.*"
   ]
  },
  {
   "cell_type": "code",
   "execution_count": 28,
   "metadata": {},
   "outputs": [],
   "source": [
    "def question(mid):\n",
    "    print(f'Загаданное число - {mid}?')\n",
    "    print('1. Да')\n",
    "    print('2. Нет, мое число меньше')\n",
    "    print('3. Нет, мое число больше')\n",
    "    return int(input('Ответ: '))"
   ]
  },
  {
   "cell_type": "code",
   "execution_count": 29,
   "metadata": {},
   "outputs": [
    {
     "name": "stdout",
     "output_type": "stream",
     "text": [
      "Введите длину списка натуральных чисел, из которого вы загадали число: 7\n",
      "Загаданное число - 4?\n",
      "1. Да\n",
      "2. Нет, мое число меньше\n",
      "3. Нет, мое число больше\n",
      "Ответ: 2\n",
      "Загаданное число - 2?\n",
      "1. Да\n",
      "2. Нет, мое число меньше\n",
      "3. Нет, мое число больше\n",
      "Ответ: 2\n",
      "Загаданное число - 1?\n",
      "1. Да\n",
      "2. Нет, мое число меньше\n",
      "3. Нет, мое число больше\n",
      "Ответ: 2\n",
      "Так нельзя, ты сжульничал!\n"
     ]
    }
   ],
   "source": [
    "length = int(input('Введите длину списка натуральных чисел, из которого вы загадали число: '))\n",
    "left = 1\n",
    "right = length\n",
    "\n",
    "while True:\n",
    "    curr = (right + left) // 2\n",
    "    op = question(curr)\n",
    "    if op == 1:\n",
    "        print('Я угадал!')\n",
    "        break\n",
    "    if left == right:\n",
    "        print('Так нельзя, ты сжульничал!')\n",
    "        break\n",
    "    if op == 2:\n",
    "        right = curr - 1\n",
    "    elif op == 3:\n",
    "        left = curr + 1"
   ]
  }
 ],
 "metadata": {
  "kernelspec": {
   "display_name": "Python 3",
   "language": "python",
   "name": "python3"
  },
  "language_info": {
   "codemirror_mode": {
    "name": "ipython",
    "version": 3
   },
   "file_extension": ".py",
   "mimetype": "text/x-python",
   "name": "python",
   "nbconvert_exporter": "python",
   "pygments_lexer": "ipython3",
   "version": "3.8.5"
  }
 },
 "nbformat": 4,
 "nbformat_minor": 2
}
