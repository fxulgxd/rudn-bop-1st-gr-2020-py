{
 "cells": [
  {
   "cell_type": "markdown",
   "metadata": {},
   "source": [
    "# Лабораторная работа 11. ООП."
   ]
  },
  {
   "cell_type": "markdown",
   "metadata": {},
   "source": [
    "# Упражнение 1. Формула.\n",
    "\n",
    "Напишите класс \"Формула\" для создания символьной записи формулы и её вычисления. Класс должен содержать атрибуты:\n",
    "- список операций производимых над переменной \"x\", \n",
    "- метод для вывода всех операторов и вывода определённого оператора по его номеру,\n",
    "- метод для составления формулы как строки скомпанованной из заданных операторов, \n",
    "- метод для изменения оператора,\n",
    "- метод для подстановки значения x и вычисления значения формулы (например, с помощью функции `eval()` :-) )."
   ]
  },
  {
   "cell_type": "code",
   "execution_count": 1,
   "metadata": {},
   "outputs": [],
   "source": [
    "import numpy as np\n",
    "import math\n",
    "import scipy\n",
    "import sympy as sm\n",
    "\n",
    "class Formula:\n",
    "    def about():\n",
    "        print('Класс формул. Работает следующим образом:\\n\\t1) вводятся переменные, используемые в формуле\\n\\t2) вводится формула')\n",
    "        print('\\t3) теперь можно выполнять алгебраические операции и вычислять значения.')\n",
    "    \n",
    "    def __init__(self, raw = None, symbols = None):\n",
    "        if raw is None:\n",
    "            self.input()\n",
    "        else:\n",
    "            self.symbols = []\n",
    "            self.raw = raw\n",
    "        self.addSymbols()\n",
    "        self.tryToComplete()\n",
    "    \n",
    "    def input(self):\n",
    "        print('В следующих строках введите переменные и константы (символьные обозначения, по одному в строке, например: x). ' +\n",
    "              'Когда закончите ввод, оставьте строку ввода пустой.')\n",
    "        i = True\n",
    "        self.symbols = []\n",
    "        while i:\n",
    "            k = input('Введите переменную или константу: ')\n",
    "            if k != '':\n",
    "                self.symbols.append(k)\n",
    "            else:\n",
    "                i = False\n",
    "        self.raw = input('Теперь введите формулу. Используйте операции языка Python, а также функции, определённые в пакетах:\\n\\t' + \n",
    "                         '1) NumPy (обращение - np.X)\\n\\t2) Scipy(обращение - scipy.X)\\n\\t3) SymPy (обращение - sm.X)\\n\\t' +\n",
    "                         '4) math (обращение - math.X)\\n')\n",
    "      \n",
    "    def addSymbols(self):\n",
    "        for symbol in self.symbols:\n",
    "            exec('%s = sm.symbols(\"%s\")' % (symbol, symbol))\n",
    "            globals()[symbol] = eval(symbol)\n",
    "        \n",
    "    def tryToComplete(self):\n",
    "        try:\n",
    "            self.fr = eval(self.raw)\n",
    "        except:\n",
    "            raise AttributeError('Формулу невозможно привести, так как Python не обладает необходимыми методами.')\n",
    "    \n",
    "    def out(self):\n",
    "        print(self.fr)\n",
    "        \n",
    "    def f(self, **kwargs):\n",
    "        for arg in kwargs.keys():\n",
    "            exec('%s = %s' % (arg, kwargs[arg]))\n",
    "        return eval('%s' % self.fr)"
   ]
  },
  {
   "cell_type": "code",
   "execution_count": 2,
   "metadata": {},
   "outputs": [
    {
     "name": "stdout",
     "output_type": "stream",
     "text": [
      "Класс формул. Работает следующим образом:\n",
      "\t1) вводятся переменные, используемые в формуле\n",
      "\t2) вводится формула\n",
      "\t3) теперь можно выполнять алгебраические операции и вычислять значения.\n"
     ]
    }
   ],
   "source": [
    "Formula.about()"
   ]
  },
  {
   "cell_type": "code",
   "execution_count": 3,
   "metadata": {},
   "outputs": [
    {
     "name": "stdout",
     "output_type": "stream",
     "text": [
      "В следующих строках введите переменные и константы (символьные обозначения, по одному в строке, например: x). Когда закончите ввод, оставьте строку ввода пустой.\n",
      "Введите переменную или константу: x\n",
      "Введите переменную или константу: \n",
      "Теперь введите формулу. Используйте операции языка Python, а также функции, определённые в пакетах:\n",
      "\t1) NumPy (обращение - np.X)\n",
      "\t2) Scipy(обращение - scipy.X)\n",
      "\t3) SymPy (обращение - sm.X)\n",
      "\t4) math (обращение - math.X)\n",
      "x ** 2 - 16\n"
     ]
    }
   ],
   "source": [
    "A = Formula()"
   ]
  },
  {
   "cell_type": "code",
   "execution_count": 4,
   "metadata": {},
   "outputs": [
    {
     "name": "stdout",
     "output_type": "stream",
     "text": [
      "x**2 - 16\n"
     ]
    }
   ],
   "source": [
    "A.out()"
   ]
  },
  {
   "cell_type": "code",
   "execution_count": 5,
   "metadata": {},
   "outputs": [
    {
     "name": "stdout",
     "output_type": "stream",
     "text": [
      "0\n"
     ]
    }
   ],
   "source": [
    "print(A.f(x = 4, log = 'math.log', sin = 'math.sin'))"
   ]
  },
  {
   "cell_type": "code",
   "execution_count": 72,
   "metadata": {},
   "outputs": [
    {
     "name": "stdout",
     "output_type": "stream",
     "text": [
      "-0.17654666791480436\n"
     ]
    }
   ],
   "source": [
    "print(A.f(x = 19, log = 'math.log', sin = 'math.sin'))"
   ]
  },
  {
   "cell_type": "code",
   "execution_count": 11,
   "metadata": {},
   "outputs": [
    {
     "name": "stdout",
     "output_type": "stream",
     "text": [
      "В следующих строках введите переменные и константы (символьные обозначения, по одному в строке, например: x). Когда закончите ввод, оставьте строку ввода пустой.\n",
      "Введите переменную или константу: f\n",
      "Введите переменную или константу: x\n",
      "Введите переменную или константу: \n",
      "Теперь введите формулу. Используйте операции языка Python, а также функции, определённые в пакетах:\n",
      "\t1) NumPy (обращение - np.X)\n",
      "\t2) Scipy(обращение - scipy.X)\n",
      "\t3) SymPy (обращение - sm.X)\n",
      "\t4) math (обращение - math.X)\n",
      "f - x ** 3 + 16 * x ** 2\n"
     ]
    }
   ],
   "source": [
    "B = Formula()"
   ]
  },
  {
   "cell_type": "code",
   "execution_count": 13,
   "metadata": {},
   "outputs": [
    {
     "name": "stdout",
     "output_type": "stream",
     "text": [
      "f + 192.0\n"
     ]
    }
   ],
   "source": [
    "print(B.f(x = 4))"
   ]
  },
  {
   "cell_type": "markdown",
   "metadata": {},
   "source": [
    "# Упражнение 2. Больше формул!\n",
    "\n",
    "Определите для объектов класса \"Формула\" алгебраические операции: `+`, `-`, `*`, `/`."
   ]
  },
  {
   "cell_type": "code",
   "execution_count": 6,
   "metadata": {},
   "outputs": [],
   "source": [
    "import numpy as np\n",
    "import math\n",
    "import scipy\n",
    "import sympy as sm"
   ]
  },
  {
   "cell_type": "code",
   "execution_count": 7,
   "metadata": {},
   "outputs": [],
   "source": [
    "class Formula:\n",
    "    def about():\n",
    "        print('Класс формул. Работает следующим образом:\\n\\t1) вводятся переменные, используемые в формуле\\n\\t2) вводится формула')\n",
    "        print('\\t3) теперь можно выполнять алгебраические операции и вычислять значения.')\n",
    "    \n",
    "    def __init__(self, raw = None, symbols = None, notSetup = False):\n",
    "        if notSetup:\n",
    "            return\n",
    "        if raw is None:\n",
    "            self.input()\n",
    "        else:\n",
    "            self.symbols = symbols\n",
    "            self.raw = raw\n",
    "        self.addSymbols()\n",
    "        self.tryToComplete()\n",
    "    \n",
    "    def input(self):\n",
    "        print('В следующих строках введите переменные и константы (символьные обозначения, по одному в строке, например: x). ' +\n",
    "              'Когда закончите ввод, оставьте строку ввода пустой.')\n",
    "        i = True\n",
    "        self.symbols = []\n",
    "        while i:\n",
    "            k = input('Введите переменную или константу: ')\n",
    "            if k != '':\n",
    "                self.symbols.append(k)\n",
    "            else:\n",
    "                i = False\n",
    "        self.raw = input('Теперь введите формулу. Используйте операции языка Python, а также функции, определённые в пакетах:\\n\\t' + \n",
    "                         '1) NumPy (обращение - np.X)\\n\\t2) Scipy(обращение - scipy.X)\\n\\t3) SymPy (обращение - sm.X)\\n\\t' +\n",
    "                         '4) math (обращение - math.X)\\n')\n",
    "      \n",
    "    def addSymbols(self):\n",
    "        for symbol in self.symbols:\n",
    "            exec('%s = sm.symbols(\"%s\")' % (symbol, symbol))\n",
    "            globals()[symbol] = eval(symbol)\n",
    "        \n",
    "    def tryToComplete(self):\n",
    "        try:\n",
    "            self.fr = eval(self.raw)\n",
    "        except:\n",
    "            raise AttributeError('Формулу невозможно привести, так как Python не обладает необходимыми методами.')\n",
    "    \n",
    "    def out(self):\n",
    "        print(self.fr)\n",
    "        \n",
    "    def f(self, **kwargs):\n",
    "        for arg in kwargs.keys():\n",
    "            exec('%s = %f' % (arg, kwargs[arg]))\n",
    "        return eval('%s' % self.fr)\n",
    "    \n",
    "    def __add__(self1, self2):\n",
    "        self = Formula(None, None, True)\n",
    "        self.symbols = list(set(self1.symbols + self2.symbols))\n",
    "        self.addSymbols()\n",
    "        self.fr = self1.fr + self2.fr\n",
    "        return self\n",
    "    \n",
    "    def __sub__(self1, self2):\n",
    "        self = Formula(None, None, True)\n",
    "        self.symbols = list(set(self1.symbols + self2.symbols))\n",
    "        self.addSymbols()\n",
    "        self.fr = self1.fr - self2.fr\n",
    "        return self\n",
    "    \n",
    "    def __mul__(self1, self2):\n",
    "        self = Formula(None, None, True)\n",
    "        self.symbols = list(set(self1.symbols + self2.symbols))\n",
    "        self.addSymbols()\n",
    "        self.fr = self1.fr * self2.fr\n",
    "        return self\n",
    "    \n",
    "    def __truediv__(self1, self2):\n",
    "        self = Formula(None, None, True)\n",
    "        self.symbols = list(set(self1.symbols + self2.symbols))\n",
    "        self.addSymbols()\n",
    "        self.fr = self1.fr / self2.fr\n",
    "        return self"
   ]
  },
  {
   "cell_type": "code",
   "execution_count": 8,
   "metadata": {},
   "outputs": [
    {
     "name": "stdout",
     "output_type": "stream",
     "text": [
      "2*x**2\n"
     ]
    }
   ],
   "source": [
    "F1 = Formula(raw = 'x ** 2 - 16', symbols = ['x'])\n",
    "F2 = Formula(raw = 'x ** 2 + 16', symbols = ['x'])\n",
    "(F1 + F2).out()"
   ]
  },
  {
   "cell_type": "markdown",
   "metadata": {},
   "source": [
    "# Упражнение 3. Вспомнить всё.\n",
    "\n",
    "# Тортик.\n",
    "\n",
    "За столом сидят `n` гостей (вводится с клавиатуры), перед которыми стоит пирог. Пирог и его части можно делить только пополам. Определите, сколько раз нужно делить пирог на ещё более мелкие части, чтобы:\n",
    "- каждому из гостей достался хотя бы 1 кусок;\n",
    "- как минимум половине гостей досталось по 2 куска;\n",
    "- каждому гостю досталось по 1 куску и при этом ещё хотя бы 10 кусков осталось в запасе."
   ]
  },
  {
   "cell_type": "code",
   "execution_count": 9,
   "metadata": {},
   "outputs": [],
   "source": [
    "from math import ceil, log\n",
    "\n",
    "def firstAppropiation(n):\n",
    "    return ceil(log(n, 2))\n",
    "\n",
    "def secondAppropiation(n):\n",
    "    return ceil(log(1.5 * n, 2))\n",
    "\n",
    "def thirdAppropiation(n):\n",
    "    return ceil(log(n + 10, 2))"
   ]
  },
  {
   "cell_type": "code",
   "execution_count": 10,
   "metadata": {},
   "outputs": [
    {
     "data": {
      "text/plain": [
       "4"
      ]
     },
     "execution_count": 10,
     "metadata": {},
     "output_type": "execute_result"
    }
   ],
   "source": [
    "thirdAppropiation(5)"
   ]
  },
  {
   "cell_type": "markdown",
   "metadata": {},
   "source": [
    "# Явный Фибоначчи.\n",
    "\n",
    "Для `n`-го члена в последовательности Фибоначчи существует явная формула:\n",
    "\n",
    "$$x_n = \\frac{1}{2} \\left( \\left( \\frac{1 + \\sqrt{5}}{2} \\right)^{n+1} - \\left( \\frac{1 - \\sqrt{5}}{2} \\right)^{n+1} \\right) $$\n",
    "\n",
    "Поскольку операции с вещественными числами происходят с конечной точностью, то с ростом `n` результат вычисления по этой формуле будет все больше отличаться от настоящего числа Фибоначчи. Найдите `n`, начиная с которого, отличие от истинного значения превысит `0.001`."
   ]
  },
  {
   "cell_type": "code",
   "execution_count": 11,
   "metadata": {},
   "outputs": [
    {
     "name": "stdout",
     "output_type": "stream",
     "text": [
      "Введите кастомную точность: 0.001\n"
     ]
    }
   ],
   "source": [
    "epsilon = float(input('Введите кастомную точность: '))"
   ]
  },
  {
   "cell_type": "code",
   "execution_count": 12,
   "metadata": {},
   "outputs": [],
   "source": [
    "from math import sqrt as SQ"
   ]
  },
  {
   "cell_type": "code",
   "execution_count": 13,
   "metadata": {},
   "outputs": [],
   "source": [
    "def Fibonacci(n):\n",
    "    fib = [0] * max(2, n)\n",
    "    fib[0] = 1\n",
    "    fib[1] = 1\n",
    "    for i in range(2, n):\n",
    "        fib[i] = fib[i - 1] + fib[i - 2]\n",
    "    return fib[n - 1]"
   ]
  },
  {
   "cell_type": "code",
   "execution_count": 14,
   "metadata": {},
   "outputs": [],
   "source": [
    "#def ClearFibonacci(n):\n",
    "#    return 0.5 * (((1 + 5 ** 0.5)/2) ** (n + 1) - ((1 - 5 ** 0.5)/2) ** (n + 1))\n",
    "def ClearFibonacci(n):\n",
    "    return 0.5 * (((1 + SQ(5))/2) ** (n + 1) - ((1 - SQ(5))/2) ** (n + 1))"
   ]
  },
  {
   "cell_type": "code",
   "execution_count": 15,
   "metadata": {},
   "outputs": [],
   "source": [
    "def trouverSaPlaceDansLaVie():\n",
    "    print('Процедура находит n, начиная с которого результаты Fibonacci и ClearFibonacci отличаются более чем на epsilon, ' + \n",
    "          'простым перебором.')\n",
    "    n = 1 # начинаем поиск с третьего члена\n",
    "    while True:\n",
    "        if abs(Fibonacci(n) - ClearFibonacci(n - 1)) <= epsilon:\n",
    "            n += 1\n",
    "        else:\n",
    "            print(n)\n",
    "            print(Fibonacci(n))\n",
    "            print(ClearFibonacci(n - 1))\n",
    "            return"
   ]
  },
  {
   "cell_type": "code",
   "execution_count": 16,
   "metadata": {},
   "outputs": [
    {
     "name": "stdout",
     "output_type": "stream",
     "text": [
      "Процедура находит n, начиная с которого результаты Fibonacci и ClearFibonacci отличаются более чем на epsilon, простым перебором.\n",
      "1\n",
      "1\n",
      "1.118033988749895\n"
     ]
    }
   ],
   "source": [
    "trouverSaPlaceDansLaVie()"
   ]
  },
  {
   "cell_type": "markdown",
   "metadata": {},
   "source": [
    "В то время как я подумал о неисправленной программе (где у меня появлялось переполнение памяти), я нашёл это:\n",
    "\n",
    "> The problem is that you're using doubles to calculate the value and the doubles are overflowing. Doubles give exact solutions only to about the 85th Fibonacci number.\n",
    "If you want a fast and accurate calculation you're better off using an algorithm based on a better recurrence relationship, and using python bignum integers.\n",
    "\n",
    "> **Перевод:** Проблема в том, что вы используете double для вычисления значения, а double переполняется. Двойные числа дают точные решения только около 85-го числа Фибоначчи.\n",
    "Если вы хотите быстрых и точных вычислений, вам лучше использовать алгоритм, основанный на лучших отношениях повторяемости, и использовать целые числа Python Bignum.\n",
    "\n",
    "При этом:\n",
    "\n",
    "> If you do want to perform your calculations using doubles and the explicit formulae, then the formulae can be tweaked to give something faster that doesn't overflow until about the 1500th fibonacci number, and remains the same accuracy as your version:\n",
    "\n",
    "> **Перевод:** Если вы хотите выполнить свои вычисления с использованием двойных чисел и явных формул, то формулы можно настроить так, чтобы получить что-то более быстрое, которое не переполняется до 1500-го числа Фибоначчи и остается той же точности, что и ваша версия.\n",
    "\n",
    "```\n",
    "def fib(n):\n",
    "    return round( ((1+math.sqrt(5))/2)**n / math.sqrt(5) )\n",
    "```"
   ]
  },
  {
   "cell_type": "markdown",
   "metadata": {},
   "source": [
    "Решил улучшить, так сказать."
   ]
  },
  {
   "cell_type": "code",
   "execution_count": 17,
   "metadata": {},
   "outputs": [],
   "source": [
    "def updatedClearFibonacci(n):\n",
    "    return ((1 + 5 ** 0.5)/2) ** n / (5 ** 0.5)"
   ]
  },
  {
   "cell_type": "code",
   "execution_count": 18,
   "metadata": {},
   "outputs": [],
   "source": [
    "def trouverSaPlaceDansLaVie2():\n",
    "    print('Процедура находит n, начиная с которого результаты Fibonacci и ClearFibonacci отличаются более чем на epsilon, ' + \n",
    "          'простым перебором.')\n",
    "    n = 3 # начинаем поиск с третьего члена\n",
    "    while True:\n",
    "        if abs(Fibonacci(n) - updatedClearFibonacci(n)) <= epsilon:\n",
    "            n += 1\n",
    "        else:\n",
    "            print(n)\n",
    "            print(Fibonacci(n))\n",
    "            print(updatedClearFibonacci(n))\n",
    "            return"
   ]
  },
  {
   "cell_type": "code",
   "execution_count": 19,
   "metadata": {},
   "outputs": [
    {
     "name": "stdout",
     "output_type": "stream",
     "text": [
      "Процедура находит n, начиная с которого результаты Fibonacci и ClearFibonacci отличаются более чем на epsilon, простым перебором.\n",
      "3\n",
      "2\n",
      "1.8944271909999157\n"
     ]
    }
   ],
   "source": [
    "trouverSaPlaceDansLaVie2()"
   ]
  },
  {
   "cell_type": "markdown",
   "metadata": {},
   "source": [
    "ВАУ! Формула даёт сбой на третьем же элементе ахахаха"
   ]
  },
  {
   "cell_type": "markdown",
   "metadata": {},
   "source": [
    "Зато нашёл такой код:\n",
    "\n",
    "```\n",
    "def fib(n, memo={0:0, 1:1}):\n",
    "    if n not in memo:\n",
    "        memo[n] = fib(n-1) + fib(n-2)\n",
    "    return memo[n]\n",
    "```\n",
    "\n",
    "И слегка подучил Markdown по [этому туториалу.](https://github.com/adam-p/markdown-here/wiki/Markdown-Cheatsheet)"
   ]
  },
  {
   "cell_type": "markdown",
   "metadata": {},
   "source": [
    "Теперь поищем ещё чего-нибудь. Например:\n",
    "\n",
    "> Python supports arbitrarily large integers naturally:<br>\n",
    "*`10 ** 1000`<br>\n",
    "100000000000000000000000000000000000000000000000000000000000000000000000000000 000000000000000000000000000000000000000000000000000000000000000000000000000000 000000000000000000000000000000000000000000000000000000000000000000000000000000 000000000000000000000000000000000000000000000000000000000000000000000000000000 000000000000000000000000000000000000000000000000000000000000000000000000000000 000000000000000000000000000000000000000000000000000000000000000000000000000000 000000000000000000000000000000000000000000000000000000000000000000000000000000 000000000000000000000000000000000000000000000000000000000000000000000000000000 000000000000000000000000000000000000000000000000000000000000000000000000000000 000000000000000000000000000000000000000000000000000000000000000000000000000000 000000000000000000000000000000000000000000000000000000000000000000000000000000 000000000000000000000000000000000000000000000000000000000000000000000000000000 00000000000000000000000000000000000000000000000000000000000000000*<br>\n",
    "You could even get, for example of a huge integer value, fib(4000000).\n",
    "But still it does not (for now) supports an arbitrarily large float !!\n",
    "If you need one big, large, float then check up on the decimal Module. There are examples of use on these forums: [OverflowError: (34, 'Result too large')](https://stackoverflow.com/questions/20201706/overflowerror-34-result-too-large)\n",
    "\n",
    "> **Перевод:** Python поддерживает произвольно большие целые числа. Вы можете даже получить, например, огромное целочисленное значение fib (4000000). Но все же он (пока) не поддерживает сколь угодно большое нецелочисленное число! Если вам нужно одно такое, проверьте модуль decimal. На форуме есть примеры использования.\n",
    "\n",
    "По ссылке нам предлагают удивительный код:\n",
    "\n",
    "```\n",
    "import decimal\n",
    "decimal.getcontext().prec = 100\n",
    "def pi():\n",
    "    pi = decimal.Decimal(0)\n",
    "    for k in range(350):\n",
    "        pi += (decimal.Decimal(4)/(decimal.Decimal(8)*decimal.Decimal(k+1))...)\n",
    "```\n",
    "        \n",
    "Проверим?"
   ]
  },
  {
   "cell_type": "code",
   "execution_count": 20,
   "metadata": {},
   "outputs": [],
   "source": [
    "from decimal import Decimal\n",
    "import decimal\n",
    "\n",
    "decimal.getcontext().prec = 100\n",
    "\n",
    "def completedClearFibonacci(n):\n",
    "    return Decimal(0.5) * ((Decimal(1 + 5 ** 0.5)/2) ** Decimal(n + 1) - (Decimal(1 - 5 ** 0.5)/2) ** Decimal(n + 1))"
   ]
  },
  {
   "cell_type": "code",
   "execution_count": 21,
   "metadata": {},
   "outputs": [],
   "source": [
    "def fib(n, memo={0:0, 1:1}):\n",
    "    if n not in memo:\n",
    "        memo[n] = fib(n-1) + fib(n-2)\n",
    "    return memo[n]"
   ]
  },
  {
   "cell_type": "code",
   "execution_count": 22,
   "metadata": {},
   "outputs": [],
   "source": [
    "def trouverSaPlaceDansLaVie_FINAL():\n",
    "    print('Процедура находит n, начиная с которого результаты Fibonacci и ClearFibonacci отличаются более чем на epsilon, ' + \n",
    "          'простым перебором.')\n",
    "    n = 3 # начинаем поиск с третьего члена\n",
    "    while True:\n",
    "        if abs(fib(n) - completedClearFibonacci(n - 1)) <= epsilon:\n",
    "            n += 1\n",
    "        else:\n",
    "            print(n)\n",
    "            print(fib(n))\n",
    "            print(completedClearFibonacci(n - 1))\n",
    "            return"
   ]
  },
  {
   "cell_type": "code",
   "execution_count": 23,
   "metadata": {},
   "outputs": [
    {
     "name": "stdout",
     "output_type": "stream",
     "text": [
      "Процедура находит n, начиная с которого результаты Fibonacci и ClearFibonacci отличаются более чем на epsilon, простым перебором.\n",
      "3\n",
      "2\n",
      "2.236067977499789940854357834\n"
     ]
    }
   ],
   "source": [
    "trouverSaPlaceDansLaVie_FINAL()"
   ]
  },
  {
   "cell_type": "markdown",
   "metadata": {},
   "source": [
    "Знаков действительно стало больше. Но я не понял, когда формула начинает считать число точно.\n",
    "\n",
    "Вообще, всё, что я понял из этого задания - что Python изначально считает корни с конечной точностью. Или формула не работает.\n",
    "\n",
    "**А В ВИКИПЕДИИ-ТО ДЕЛЯТ НЕ НА ДВА, А НА КОРЕНЬ ИЗ ПЯТИ!**\n",
    "\n",
    "$$x_n = \\frac{\\left( \\frac{1 + \\sqrt{5}}{2} \\right)^{n+1} - \\left( \\frac{1 - \\sqrt{5}}{2} \\right)^{n+1}}{\\sqrt{5}} $$"
   ]
  },
  {
   "cell_type": "code",
   "execution_count": 24,
   "metadata": {},
   "outputs": [],
   "source": [
    "from math import sqrt as SQ"
   ]
  },
  {
   "cell_type": "code",
   "execution_count": 25,
   "metadata": {},
   "outputs": [],
   "source": [
    "def Fibonacci(n):\n",
    "    fib = [0]*max(2,n)\n",
    "    fib[0] = 1\n",
    "    fib[1] = 1\n",
    "    for i in range(2, n):\n",
    "        fib[i] = fib[i - 1] + fib[i - 2]\n",
    "    return fib[n - 1]"
   ]
  },
  {
   "cell_type": "code",
   "execution_count": 26,
   "metadata": {},
   "outputs": [
    {
     "name": "stdout",
     "output_type": "stream",
     "text": [
      "1.0\n",
      "1.0\n",
      "2.0\n",
      "3.0000000000000004\n"
     ]
    }
   ],
   "source": [
    "def ClearFibonacci(n):\n",
    "    return (((1 + SQ(5))/2) ** (n + 1) - ((1 - SQ(5))/2) ** (n + 1)) / SQ(5)\n",
    "\n",
    "print(ClearFibonacci(0))\n",
    "print(ClearFibonacci(1))\n",
    "print(ClearFibonacci(2))\n",
    "print(ClearFibonacci(3))"
   ]
  },
  {
   "cell_type": "code",
   "execution_count": 27,
   "metadata": {},
   "outputs": [],
   "source": [
    "def trouverSaPlaceDansLaVie():\n",
    "    print('Процедура находит n, начиная с которого результаты Fibonacci и ClearFibonacci отличаются более чем на epsilon, ' + \n",
    "          'простым перебором.')\n",
    "    n = 1 # начинаем поиск с первого члена\n",
    "    while True:\n",
    "        if abs(Fibonacci(n) - ClearFibonacci(n - 1)) <= epsilon:\n",
    "            n += 1\n",
    "        else:\n",
    "            print(n)\n",
    "            print(Fibonacci(n))\n",
    "            print(ClearFibonacci(n - 1))\n",
    "            return"
   ]
  },
  {
   "cell_type": "code",
   "execution_count": 28,
   "metadata": {},
   "outputs": [
    {
     "name": "stdout",
     "output_type": "stream",
     "text": [
      "Процедура находит n, начиная с которого результаты Fibonacci и ClearFibonacci отличаются более чем на epsilon, простым перебором.\n",
      "58\n",
      "591286729879\n",
      "591286729879.0012\n"
     ]
    }
   ],
   "source": [
    "trouverSaPlaceDansLaVie()"
   ]
  },
  {
   "cell_type": "markdown",
   "metadata": {},
   "source": [
    "# Кубики.\n",
    "\n",
    "В детском садике `n` детей играют в следующую игру. Перед ними гора из `m` кубиков, первый ребёнок вынимает из кучи 1 кубик, каждый последующий ребёнок в два раза больше предыдущего, и так по кругу. Если число кубиков, которые нужно вынуть, превышает 25, из него вычитается 25 и отсчёт идёт от уменьшенного числа, например, вместо 32 кубиков будет вынуто 7, затем 14 и т. д. Проигравшим считается тот, кто не смог вытащить нужное число кубиков (в куче осталось недостаточно). Определите проигравшего."
   ]
  },
  {
   "cell_type": "code",
   "execution_count": 29,
   "metadata": {},
   "outputs": [],
   "source": [
    "def numberGenerator(init = 1, max = 25):\n",
    "    sequence = []\n",
    "    while init not in sequence:\n",
    "        if init <= max:\n",
    "            sequence.append(init)\n",
    "        else:\n",
    "            init -= max\n",
    "            if init in sequence:\n",
    "                break\n",
    "            sequence.append(init)\n",
    "        init *= 2\n",
    "    return sequence"
   ]
  },
  {
   "cell_type": "code",
   "execution_count": 30,
   "metadata": {},
   "outputs": [
    {
     "name": "stdout",
     "output_type": "stream",
     "text": [
      "Все возможные ходы детей последовательно перечислены здесь: 1, 2, 4, 8, 16, 7, 14, 3, 6, 12, 24, 23, 21, 17, 9, 18, 11, 22, 19, 13.\n"
     ]
    }
   ],
   "source": [
    "print('Все возможные ходы детей последовательно перечислены здесь:', ', '.join(map(str, numberGenerator())) + '.')"
   ]
  },
  {
   "cell_type": "code",
   "execution_count": 31,
   "metadata": {},
   "outputs": [],
   "source": [
    "def bunchSolver(cubes, kids):\n",
    "    init = 1 #int(input('Введите количество кубиков, которое вынимает первый ребёнок: '))\n",
    "    max = 25 #int(input('Введите максимальное количество кубиков, которое может вытянуть ребёнок: '))\n",
    "    sequence = numberGenerator(init, max)\n",
    "    currentStep = 0\n",
    "    while cubes >= 0:\n",
    "        cubes -= sequence[currentStep % len(sequence)]\n",
    "        currentStep += 1\n",
    "    return (currentStep) % kids or kids"
   ]
  },
  {
   "cell_type": "code",
   "execution_count": 32,
   "metadata": {},
   "outputs": [
    {
     "name": "stdout",
     "output_type": "stream",
     "text": [
      "Введите количество кубиков: 25\n",
      "Введите число детей (минимум один ребёнок): 3\n",
      "Проиграл 2-й ребёнок.\n"
     ]
    }
   ],
   "source": [
    "cubes = int(input('Введите количество кубиков: '))\n",
    "kids = int(input('Введите число детей (минимум один ребёнок): '))\n",
    "print('Проиграл %i-й ребёнок.' % bunchSolver(cubes, kids))"
   ]
  },
  {
   "cell_type": "code",
   "execution_count": 33,
   "metadata": {},
   "outputs": [
    {
     "name": "stdout",
     "output_type": "stream",
     "text": [
      "Детей - 2, кубиков - 3. Проиграл 1-й ребёнок.\n",
      "Детей - 3, кубиков - 1. Проиграл 2-й ребёнок.\n",
      "Детей - 5, кубиков - 15. Проиграл 5-й ребёнок.\n"
     ]
    }
   ],
   "source": [
    "print('Детей - %i, кубиков - %i. Проиграл %i-й ребёнок.' % (2, 3, bunchSolver(3, 2)))\n",
    "print('Детей - %i, кубиков - %i. Проиграл %i-й ребёнок.' % (3, 1, bunchSolver(1, 3)))\n",
    "print('Детей - %i, кубиков - %i. Проиграл %i-й ребёнок.' % (5, 15, bunchSolver(15, 5)))"
   ]
  }
 ],
 "metadata": {
  "kernelspec": {
   "display_name": "Python 3",
   "language": "python",
   "name": "python3"
  },
  "language_info": {
   "codemirror_mode": {
    "name": "ipython",
    "version": 3
   },
   "file_extension": ".py",
   "mimetype": "text/x-python",
   "name": "python",
   "nbconvert_exporter": "python",
   "pygments_lexer": "ipython3",
   "version": "3.8.5"
  }
 },
 "nbformat": 4,
 "nbformat_minor": 2
}
