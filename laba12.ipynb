{
 "cells": [
  {
   "cell_type": "markdown",
   "metadata": {},
   "source": [
    "# Лабораторная работа 12. Многозадачность: процессы и потоки.\n",
    "\n",
    "Многозадачность (параллельность исполнения) – расщепление последовательности выполнения программы на несколько самостоятельных (возможно, со своими локальными переменными, стеками и т.п.) подпрограмм, выполняющих каждый свою задачу и не отвлекающихся на то, как реализованы решения смежных задач, и выполнение этих подпрограмм одновременно (в каком-то смысле).\n",
    "\n",
    "Подходы к реализации:\n",
    "\n",
    "- процессы – каждая задача выполняется в своём изолированном процессе естественно, многозадачность вытесняющая, изоляция означает и большую надёжность, и меньшие возможности по взаимодействию; \n",
    "- потоки – каждая задача выполняется в своём потоке ОС или виртуальной машины, распределение по ядрам и переключения внезапные (вытесняющая многозадачность), но все задачи существуют в едином пространстве и могут обмениваться данными через общую память;\n",
    "- сопрограммы – фрагменты задач поочерёдно выполняются в рамках одного и того же потока, переключения явные (кооперативная многозадачность)."
   ]
  },
  {
   "cell_type": "markdown",
   "metadata": {},
   "source": [
    "# 1. Процессы"
   ]
  },
  {
   "cell_type": "markdown",
   "metadata": {},
   "source": [
    "Ветвление процессов является традиционным способом организации параллельных вычислений и представляет собой фундаментальную часть инструментального набора Unix. Ветвление процессов – это самый простой способ запуска независимых программ, как отличных, так и не отличных от вызывающей программы.\n",
    "\n",
    "После операции ветвления исходный экземпляр программы называется родительским процессом, а копия, созданная с помощью функции `os.fork`, называется дочерним процессом. Вообще говоря, родитель может воспроизвести любое число потомков, а потомки могут создать собственные дочерние процессы – все ответвленные процессы выполняются независимо и параллельно под управлением операционной системы, и дочерние процессы могут продолжать выполняться даже после завершения родительского процесса.\n",
    "\n",
    "Поскольку эта функция создает копию вызывающей программы, она возвращает различные значения в каждой копии: ноль – в дочернем процессе и числовой идентификатор ID процесса нового потомка – в родительском процессе.\n",
    "\n",
    "Поскольку ветвление процессов является частью модели программирования в Unix, этот сценарий замечательно будет функционировать в Unix, Linux и в современных версиях Mac OS. К сожалению, этот сценарий не будет работать под управлением стандартной версии Python в Windows, потому что функция `fork` не стыкуется с моделью Windows. \n",
    "\n",
    "Тем не менее в Windows сценарии на языке Python всегда могут порождать потоки выполнения, а также использовать пакет multiprocessing. Этот модуль обеспечивает альтернативный и переносимый способ запуска процессов. Другим вариантом является использование Python вместе с системами типа Cygwin, обеспечивающих полную Unix-подобную функциональность для Windows.\n",
    "\n",
    "Для работы с библиотекой `multiprocessing` и запуска параллельных процессов можно использовать среду [PyCharm](https://www.jetbrains.com/ru-ru/pycharm/download/#section=windows)."
   ]
  },
  {
   "cell_type": "markdown",
   "metadata": {},
   "source": [
    "# `multiprocessing`\n",
    "\n",
    "\n",
    "[Документация Python](https://docs.python.org/3/library/multiprocessing.html)"
   ]
  },
  {
   "cell_type": "code",
   "execution_count": 1,
   "metadata": {},
   "outputs": [
    {
     "data": {
      "text/plain": [
       "2"
      ]
     },
     "execution_count": 1,
     "metadata": {},
     "output_type": "execute_result"
    }
   ],
   "source": [
    "import multiprocessing\n",
    "\n",
    "multiprocessing.cpu_count()"
   ]
  },
  {
   "cell_type": "markdown",
   "metadata": {},
   "source": [
    "Процесс как поток и взаимодействие порождающих и порождаемых потоков:"
   ]
  },
  {
   "cell_type": "code",
   "execution_count": 1,
   "metadata": {},
   "outputs": [
    {
     "name": "stdout",
     "output_type": "stream",
     "text": [
      "start\n",
      "10  I'm process 60745 The time is Fri May 22 12:56:13 2020\n",
      "9  I'm process 60745 The time is Fri May 22 12:56:15 2020\n",
      "8  I'm process 60745 The time is Fri May 22 12:56:17 2020\n",
      "7  I'm process 60745 The time is Fri May 22 12:56:19 2020\n",
      "6  I'm process 60745 The time is Fri May 22 12:56:21 2020\n",
      "end\n",
      "5  I'm process 60745 The time is Fri May 22 12:56:23 2020\n",
      "4  I'm process 60745 The time is Fri May 22 12:56:25 2020\n"
     ]
    }
   ],
   "source": [
    "# import multiprocessing\n",
    "\n",
    "import multiprocessing.dummy as multiprocessing\n",
    "from os import getpid\n",
    "import time\n",
    "\n",
    "def clock(interval):\n",
    "    n=10\n",
    "    while bool(n):\n",
    "        print(n, \" I'm process\", getpid(), 'The time is %s' % time.ctime())\n",
    "        time.sleep(interval)\n",
    "        n-=1\n",
    "\n",
    "if __name__ == '__main__':\n",
    "    p = multiprocessing.Process(target=clock, args=(2,))\n",
    "    print('start')\n",
    "    p.start()\n",
    "    p.join(10)\n",
    "    print('end')"
   ]
  },
  {
   "cell_type": "code",
   "execution_count": 2,
   "metadata": {},
   "outputs": [
    {
     "name": "stdout",
     "output_type": "stream",
     "text": [
      " I'm PROCESS 60745 hahaha!!!\n",
      "3  I'm process 60745 The time is Fri May 22 12:56:27 2020\n",
      "2  I'm process 60745 The time is Fri May 22 12:56:29 2020\n",
      "1  I'm process 60745 The time is Fri May 22 12:56:31 2020\n"
     ]
    }
   ],
   "source": [
    "print(\" I'm PROCESS\", getpid(),'hahaha!!!')"
   ]
  },
  {
   "cell_type": "markdown",
   "metadata": {},
   "source": [
    "# Пулы процессов"
   ]
  },
  {
   "cell_type": "markdown",
   "metadata": {},
   "source": [
    "Пусть есть три функции `a`, `b` ,`c`: "
   ]
  },
  {
   "cell_type": "code",
   "execution_count": 3,
   "metadata": {},
   "outputs": [],
   "source": [
    "def a(x):\n",
    "    time.sleep(x)\n",
    "    print('a выполнен')\n",
    "    return 'a'\n",
    "def b(x):\n",
    "    time.sleep(x)\n",
    "    print('b выполнен')    \n",
    "    return 'b'\n",
    "def c(x):\n",
    "    time.sleep(x)\n",
    "    print('c выполнен')    \n",
    "    return 'c'"
   ]
  },
  {
   "cell_type": "markdown",
   "metadata": {},
   "source": [
    "Их необходимо вызвать в отдельных потоках (процессах), дождаться результата их выполнения и выдать ответ:"
   ]
  },
  {
   "cell_type": "code",
   "execution_count": 4,
   "metadata": {},
   "outputs": [
    {
     "name": "stdout",
     "output_type": "stream",
     "text": [
      "a выполнен\n",
      "a выполнен\n",
      "a выполнен\n",
      "['a', 'a', 'a']\n",
      "4.053399562835693\n"
     ]
    }
   ],
   "source": [
    "if __name__ == '__main__':\n",
    "\n",
    "    time_a = 2\n",
    "    time_b = 4\n",
    "    time_c = 1\n",
    "\n",
    "    t0 = time.time()\n",
    "\n",
    "    p = multiprocessing.Pool()\n",
    "\n",
    "    results = p.starmap(a, [[time_a], [time_b], [time_c]])\n",
    "    print(results)\n",
    "    p.close()\n",
    "    p.join()\n",
    "\n",
    "    print(time.time() - t0)"
   ]
  },
  {
   "cell_type": "markdown",
   "metadata": {},
   "source": [
    "Теперь их необходимо вызвать в отдельных потоках (процессах) и спустя некоторое время проверить, завершились они или нет, выдать результат:"
   ]
  },
  {
   "cell_type": "code",
   "execution_count": 5,
   "metadata": {},
   "outputs": [
    {
     "name": "stdout",
     "output_type": "stream",
     "text": [
      "a выполнен\n",
      "c выполнен\n"
     ]
    },
    {
     "ename": "TimeoutError",
     "evalue": "",
     "output_type": "error",
     "traceback": [
      "\u001b[0;31m---------------------------------------------------------------------------\u001b[0m",
      "\u001b[0;31mTimeoutError\u001b[0m                              Traceback (most recent call last)",
      "\u001b[0;32m<ipython-input-5-9c9dd300ff7e>\u001b[0m in \u001b[0;36m<module>\u001b[0;34m\u001b[0m\n\u001b[1;32m      8\u001b[0m \u001b[0;34m\u001b[0m\u001b[0m\n\u001b[1;32m      9\u001b[0m \u001b[0mTIMEOUT\u001b[0m \u001b[0;34m=\u001b[0m \u001b[0;36m3\u001b[0m\u001b[0;34m\u001b[0m\u001b[0;34m\u001b[0m\u001b[0m\n\u001b[0;32m---> 10\u001b[0;31m \u001b[0mprint\u001b[0m\u001b[0;34m(\u001b[0m\u001b[0mresults\u001b[0m\u001b[0;34m.\u001b[0m\u001b[0mget\u001b[0m\u001b[0;34m(\u001b[0m\u001b[0mTIMEOUT\u001b[0m\u001b[0;34m)\u001b[0m\u001b[0;34m)\u001b[0m\u001b[0;34m\u001b[0m\u001b[0;34m\u001b[0m\u001b[0m\n\u001b[0m\u001b[1;32m     11\u001b[0m \u001b[0;34m\u001b[0m\u001b[0m\n\u001b[1;32m     12\u001b[0m \u001b[0mp\u001b[0m\u001b[0;34m.\u001b[0m\u001b[0mclose\u001b[0m\u001b[0;34m(\u001b[0m\u001b[0;34m)\u001b[0m\u001b[0;34m\u001b[0m\u001b[0;34m\u001b[0m\u001b[0m\n",
      "\u001b[0;32m/usr/lib/python3.8/multiprocessing/pool.py\u001b[0m in \u001b[0;36mget\u001b[0;34m(self, timeout)\u001b[0m\n\u001b[1;32m    762\u001b[0m         \u001b[0mself\u001b[0m\u001b[0;34m.\u001b[0m\u001b[0mwait\u001b[0m\u001b[0;34m(\u001b[0m\u001b[0mtimeout\u001b[0m\u001b[0;34m)\u001b[0m\u001b[0;34m\u001b[0m\u001b[0;34m\u001b[0m\u001b[0m\n\u001b[1;32m    763\u001b[0m         \u001b[0;32mif\u001b[0m \u001b[0;32mnot\u001b[0m \u001b[0mself\u001b[0m\u001b[0;34m.\u001b[0m\u001b[0mready\u001b[0m\u001b[0;34m(\u001b[0m\u001b[0;34m)\u001b[0m\u001b[0;34m:\u001b[0m\u001b[0;34m\u001b[0m\u001b[0;34m\u001b[0m\u001b[0m\n\u001b[0;32m--> 764\u001b[0;31m             \u001b[0;32mraise\u001b[0m \u001b[0mTimeoutError\u001b[0m\u001b[0;34m\u001b[0m\u001b[0;34m\u001b[0m\u001b[0m\n\u001b[0m\u001b[1;32m    765\u001b[0m         \u001b[0;32mif\u001b[0m \u001b[0mself\u001b[0m\u001b[0;34m.\u001b[0m\u001b[0m_success\u001b[0m\u001b[0;34m:\u001b[0m\u001b[0;34m\u001b[0m\u001b[0;34m\u001b[0m\u001b[0m\n\u001b[1;32m    766\u001b[0m             \u001b[0;32mreturn\u001b[0m \u001b[0mself\u001b[0m\u001b[0;34m.\u001b[0m\u001b[0m_value\u001b[0m\u001b[0;34m\u001b[0m\u001b[0;34m\u001b[0m\u001b[0m\n",
      "\u001b[0;31mTimeoutError\u001b[0m: "
     ]
    },
    {
     "name": "stdout",
     "output_type": "stream",
     "text": [
      "b выполнен\n"
     ]
    }
   ],
   "source": [
    "time_a = 2\n",
    "time_b = 4\n",
    "time_c = 1\n",
    "\n",
    "p = multiprocessing.Pool()\n",
    "\n",
    "results = p.map_async(lambda fx: fx[0](fx[1]),[[a,time_a],[b,time_b],[c,time_c]])\n",
    "\n",
    "TIMEOUT = 3\n",
    "print(results.get(TIMEOUT))\n",
    "\n",
    "p.close()\n",
    "p.join()"
   ]
  },
  {
   "cell_type": "markdown",
   "metadata": {},
   "source": [
    "Если все процессы успевают закончится за время `TIMEOUT`, то результат выполнения такой же, как и в предыдущем случае, но если хоть одна из процедур не успевает завершится, выдается исключение `TimeoutError`. "
   ]
  },
  {
   "cell_type": "markdown",
   "metadata": {},
   "source": [
    "Наконец, их необходимо вызвать в отдельных потоках (процессах), дождаться результата функции `a`, выдать результат:"
   ]
  },
  {
   "cell_type": "code",
   "execution_count": 8,
   "metadata": {},
   "outputs": [
    {
     "name": "stdout",
     "output_type": "stream",
     "text": [
      "a выполнен\n",
      "['a']\n",
      "c выполнен\n",
      "b выполнен\n",
      "6.0188844203948975\n"
     ]
    }
   ],
   "source": [
    "time_a = 2\n",
    "time_b = 6\n",
    "time_c = 1\n",
    "\n",
    "t0 = time.time()\n",
    "\n",
    "p = multiprocessing.Pool()\n",
    "\n",
    "results=[]\n",
    "for r in p.imap(lambda fx: fx[0](fx[1]),[[a,time_a],[b,time_b],[c,time_c]]):\n",
    "     results.append(r)\n",
    "     break\n",
    "\n",
    "print(results)\n",
    "p.close()\n",
    "p.join()\n",
    "\n",
    "print(time.time() - t0)"
   ]
  },
  {
   "cell_type": "markdown",
   "metadata": {},
   "source": [
    "Как видно, хотя отработали 2 функции из 3, результат мы получили только для приоритетной. Чтобы получить результаты всех выполенных функций, следует использовать `imap_unordered`."
   ]
  },
  {
   "cell_type": "markdown",
   "metadata": {},
   "source": [
    "Вариант с синхронизацией:"
   ]
  },
  {
   "cell_type": "code",
   "execution_count": 6,
   "metadata": {},
   "outputs": [
    {
     "name": "stdout",
     "output_type": "stream",
     "text": [
      "a выполнен\n",
      "['a']\n",
      "c выполнен\n",
      "b выполнен\n",
      "5.020582437515259\n"
     ]
    }
   ],
   "source": [
    "time_a = 2\n",
    "time_b = 5\n",
    "time_c = 1\n",
    "\n",
    "t0 = time.time()\n",
    "\n",
    "p = multiprocessing.Pool()\n",
    "\n",
    "results=[]\n",
    "\n",
    "for r  in p.imap_unordered(lambda fx: fx[0](fx[1]),[[a,time_a],[b,time_b],[c,time_c]]):\n",
    "    results.append(r)\n",
    "    if  r =='a':\n",
    "        break\n",
    "        \n",
    "print(results)\n",
    "p.close()\n",
    "p.join()       \n",
    "        \n",
    "print(time.time() - t0)"
   ]
  },
  {
   "cell_type": "markdown",
   "metadata": {},
   "source": [
    "Вариант без синхронизации:"
   ]
  },
  {
   "cell_type": "code",
   "execution_count": 7,
   "metadata": {},
   "outputs": [
    {
     "name": "stdout",
     "output_type": "stream",
     "text": [
      "a выполнен\n",
      "['a']\n",
      "2.012425661087036\n",
      "c выполнен\n",
      "b выполнен\n"
     ]
    }
   ],
   "source": [
    "time_a = 2\n",
    "time_b = 5\n",
    "time_c = 1\n",
    "\n",
    "t0 = time.time()\n",
    "\n",
    "p = multiprocessing.Pool()\n",
    "\n",
    "results=[]\n",
    "\n",
    "for r  in p.imap_unordered(lambda fx: fx[0](fx[1]),[[a,time_a],[b,time_b],[c,time_c]]):\n",
    "    results.append(r)\n",
    "    if  r =='a':\n",
    "        break\n",
    "        \n",
    "print(results)\n",
    "#p.close()\n",
    "#p.join()       \n",
    "        \n",
    "print(time.time() - t0)"
   ]
  },
  {
   "cell_type": "markdown",
   "metadata": {},
   "source": [
    "# Ручной пул."
   ]
  },
  {
   "cell_type": "code",
   "execution_count": 8,
   "metadata": {},
   "outputs": [],
   "source": [
    "def doubler(number, index):\n",
    "    result = number * 2\n",
    "    proc = getpid()\n",
    "    print('%i doubled to %i by process id: %i and thread %i, ' %(number, result, proc, index))\n",
    "    time.sleep(0.1)"
   ]
  },
  {
   "cell_type": "code",
   "execution_count": 9,
   "metadata": {},
   "outputs": [
    {
     "name": "stdout",
     "output_type": "stream",
     "text": [
      "5 doubled to 10 by process id: 60745 and thread 0, \n",
      "10 doubled to 20 by process id: 60745 and thread 1, \n",
      "15 doubled to 30 by process id: 60745 and thread 2, \n",
      "20 doubled to 40 by process id: 60745 and thread 3, \n",
      "25 doubled to 50 by process id: 60745 and thread 4, \n",
      "0.11324453353881836\n"
     ]
    }
   ],
   "source": [
    "t0 = time.time()\n",
    "    \n",
    "numbers = [5, 10, 15, 20, 25]\n",
    "procs = []\n",
    "    \n",
    "for index, number in enumerate(numbers):\n",
    "    proc = multiprocessing.Process(target=doubler, args=(number,index,))\n",
    "    procs.append(proc)\n",
    "    proc.start()\n",
    "    \n",
    "for proc in procs:\n",
    "    proc.join()\n",
    "    \n",
    "print(time.time() - t0)"
   ]
  },
  {
   "cell_type": "code",
   "execution_count": 10,
   "metadata": {},
   "outputs": [
    {
     "name": "stdout",
     "output_type": "stream",
     "text": [
      "5 doubled to 10 by process id: 60745 and thread 0, \n",
      "10 doubled to 20 by process id: 60745 and thread 1, \n",
      "15 doubled to 30 by process id: 60745 and thread 2, \n",
      "20 doubled to 40 by process id: 60745 and thread 3, \n",
      "25 doubled to 50 by process id: 60745 and thread 4, \n",
      "0.5135326385498047\n"
     ]
    }
   ],
   "source": [
    "t0 = time.time()\n",
    "\n",
    "for index, number in enumerate(numbers):\n",
    "    doubler(number, index)\n",
    "    \n",
    "print(time.time() - t0)"
   ]
  },
  {
   "cell_type": "markdown",
   "metadata": {},
   "source": [
    "# 2. Потоки"
   ]
  },
  {
   "cell_type": "markdown",
   "metadata": {
    "collapsed": true
   },
   "source": [
    "Возьмём рекурсивную функцию для вычисления факториала:"
   ]
  },
  {
   "cell_type": "code",
   "execution_count": 11,
   "metadata": {},
   "outputs": [],
   "source": [
    "threadId = 1\n",
    " \n",
    "def factorial(n):\n",
    "    global threadId\n",
    "    if n < 1:                                        # тривиальный случай\n",
    "        print(\"%s: %d\" % (\"Нить\", threadId))\n",
    "        threadId += 1\n",
    "        return 1\n",
    "    else:\n",
    "        returnNumber = n * factorial(n - 1)          # рекурсивный вызов\n",
    "        print(str(n) + '! = ' + str(returnNumber))\n",
    "        return returnNumber"
   ]
  },
  {
   "cell_type": "code",
   "execution_count": 12,
   "metadata": {},
   "outputs": [
    {
     "name": "stdout",
     "output_type": "stream",
     "text": [
      "Нить: 1\n",
      "1! = 1\n",
      "2! = 2\n",
      "3! = 6\n",
      "4! = 24\n",
      "5! = 120\n"
     ]
    },
    {
     "data": {
      "text/plain": [
       "120"
      ]
     },
     "execution_count": 12,
     "metadata": {},
     "output_type": "execute_result"
    }
   ],
   "source": [
    "factorial(5)"
   ]
  },
  {
   "cell_type": "markdown",
   "metadata": {},
   "source": [
    "Вызов функции факториала с помощью `thread`:"
   ]
  },
  {
   "cell_type": "code",
   "execution_count": 13,
   "metadata": {
    "scrolled": true
   },
   "outputs": [
    {
     "name": "stdout",
     "output_type": "stream",
     "text": [
      "Нить: 2\n",
      "1! = 1\n",
      "2! = 2\n",
      "3! = 6\n",
      "4! = 24\n",
      "Нить: 3\n",
      "1! = 1\n",
      "2! = 2\n",
      "3! = 6\n",
      "4! = 24\n",
      "5! = 120\n"
     ]
    }
   ],
   "source": [
    "from threading import Thread \n",
    "\n",
    "thread1 = Thread(target=factorial, args=(4,))\n",
    "thread2 = Thread(target=factorial, args=(5,))\n",
    "\n",
    "thread1.start()\n",
    "thread2.start()\n",
    "thread1.join()\n",
    "thread2.join()"
   ]
  },
  {
   "cell_type": "markdown",
   "metadata": {},
   "source": [
    "Пул потоков (`concurrent.futures.Future`):"
   ]
  },
  {
   "cell_type": "code",
   "execution_count": 14,
   "metadata": {},
   "outputs": [
    {
     "name": "stdout",
     "output_type": "stream",
     "text": [
      "Нить: 4\n",
      "Нить: 5\n",
      "1! = 1\n",
      "Нить: 6\n",
      "1! = 1\n",
      "2! = 2\n",
      "Нить: 7\n",
      "1! = 1\n",
      "Нить: 82! = 2\n",
      "3! = 6\n",
      "Нить: 8\n",
      "1! = 1\n",
      "1! = 1\n",
      "2! = 2\n",
      "3! = 6\n",
      "4! = 24\n",
      "\n",
      "2! = 2\n",
      "3! = 6\n",
      "4! = 24\n",
      "5! = 120\n",
      "120\n",
      "2\n",
      "1\n",
      "6\n",
      "1\n",
      "24\n",
      "Нить: 10\n",
      "1! = 1\n",
      "2! = 2\n",
      "3! = 6\n",
      "4! = 24\n",
      "5! = 120\n",
      "6! = 720\n",
      "Нить: 11\n",
      "1! = 1\n",
      "2! = 2\n",
      "3! = 6\n",
      "4! = 24\n",
      "5! = 120\n",
      "6! = 720\n",
      "7! = 5040\n",
      "Нить: 12\n",
      "1! = 1\n",
      "2! = 2\n",
      "3! = 6\n",
      "4! = 24\n",
      "5! = 120\n",
      "6! = 720\n",
      "7! = 5040\n",
      "8! = 40320\n",
      "Нить: 13\n",
      "1! = 1\n",
      "2! = 2\n",
      "3! = 6\n",
      "4! = 24\n",
      "5! = 120\n",
      "6! = 720\n",
      "7! = 5040\n",
      "8! = 40320\n",
      "9! = 362880\n",
      "720\n",
      "5040\n",
      "40320\n",
      "362880\n"
     ]
    }
   ],
   "source": [
    "from concurrent.futures import ThreadPoolExecutor, as_completed\n",
    "\n",
    "with ThreadPoolExecutor(max_workers=3) as pool:\n",
    "    \n",
    "    results = [pool.submit(factorial, i) for i in range(10)]\n",
    "    \n",
    "    for future in as_completed(results):\n",
    "        print(future.result())"
   ]
  },
  {
   "cell_type": "markdown",
   "metadata": {
    "collapsed": true
   },
   "source": [
    "В многопоточной программе доступ к объектам иногда нужно синхронизировать. Часто для синхронизации потоков используют блокировки. Любые блокировки замедляют выполнение программы. Лучше избегать использование блокировок и отдавать предпочтение обмену данными через очереди."
   ]
  },
  {
   "cell_type": "markdown",
   "metadata": {},
   "source": [
    "# Упражнение 1. Сложение многоразрядных чисел.\n",
    "\n",
    "Рассмотрим программу для сложения чисел произвольной длинны, заданных в символьном виде:"
   ]
  },
  {
   "cell_type": "code",
   "execution_count": 15,
   "metadata": {},
   "outputs": [],
   "source": [
    "def add_multinumbers(a, b):\n",
    "    c = ''\n",
    "    n = max(len(a), len(b))\n",
    "    r = 0\n",
    "    for i in range(n-1,-1,-1):\n",
    "        d = int(a[i]) + int(b[i]) + r\n",
    "        c = str(d%10)+c\n",
    "        r = d//10\n",
    "    c = str(r)+c   \n",
    "    return c"
   ]
  },
  {
   "cell_type": "code",
   "execution_count": 16,
   "metadata": {},
   "outputs": [
    {
     "data": {
      "text/plain": [
       "'00120155961412'"
      ]
     },
     "execution_count": 16,
     "metadata": {},
     "output_type": "execute_result"
    }
   ],
   "source": [
    "a = '0116934317835'\n",
    "b = '0003221643577'\n",
    "add_multinumbers(a, b)"
   ]
  },
  {
   "cell_type": "markdown",
   "metadata": {},
   "source": [
    "Недостатком этой программы является её низкая эффективность для достаточно больших чисел. Напишите программу расспаралеливающую вызов этой прграммы по разным процессам и сравните временные затраты.\n",
    "\n",
    "Сделайте распаралеливание в двух вариантах:\n",
    "1. наивном, с перещётом при переходе разрядов;\n",
    "2. спекулятивном, с расчётом в двух вариантах: `a + b` и `a + b + 1` с последующем выбором нужного варианта."
   ]
  },
  {
   "cell_type": "code",
   "execution_count": 17,
   "metadata": {},
   "outputs": [],
   "source": [
    "from threading import Thread\n",
    "from concurrent.futures import ThreadPoolExecutor, as_completed\n",
    "import multiprocessing as mp\n",
    "import time"
   ]
  },
  {
   "cell_type": "code",
   "execution_count": 18,
   "metadata": {},
   "outputs": [],
   "source": [
    "def AM1(num1, num2, position):\n",
    "    add = ''\n",
    "    numberOfRanges = max(len(num1), len(num2))\n",
    "    mover = 0\n",
    "    for index in range(numberOfRanges - 1, -1, -1):\n",
    "        addOfRange = int(num1[index]) + int(num2[index]) + mover\n",
    "        add = str(addOfRange % 10) + add\n",
    "        mover = addOfRange // 10\n",
    "    add = str(mover) + add\n",
    "    return [position, add]"
   ]
  },
  {
   "cell_type": "code",
   "execution_count": 19,
   "metadata": {},
   "outputs": [],
   "source": [
    "def AM2(a, b):\n",
    "    c = ''\n",
    "    c1 = ''\n",
    "    n = max(len(a), len(b))\n",
    "    r = 0\n",
    "    # нулевой разряд\n",
    "    d = int(a[0]) + int(b[0]) + r\n",
    "    c = str(d % 10)\n",
    "    c1 = str(d % 10 + 1)\n",
    "    r = d // 10\n",
    "    r1 = (d + 1) // 10\n",
    "    for i in range(n - 2, -1, -1):\n",
    "        d = int(a[i]) + int(b[i]) + r\n",
    "        d1 = int(a[i]) + int(b[i]) + r1\n",
    "        c = str(d % 10) + c\n",
    "        c1 = str(d1 % 10) + c1\n",
    "        r = d // 10\n",
    "        r1 = d1 // 10\n",
    "    c = str(r) + c\n",
    "    с1 = str(r1) + c1\n",
    "    return c, c1, position"
   ]
  },
  {
   "cell_type": "code",
   "execution_count": 20,
   "metadata": {},
   "outputs": [],
   "source": [
    "def master(a, b):\n",
    "    t0 = time.time()\n",
    "    len_a = len(a)\n",
    "    len_b = len(b)\n",
    "    # приведём числа к одному количеству разрядов для удобного получения срезов\n",
    "    max_len = max(len_a, len_b) + 1\n",
    "    a = '0' * (max_len - len_a - 1) + a\n",
    "    b = '0' * (max_len - len_b - 1) + b\n",
    "    # настроим параметры среза по количеству ядер\n",
    "    processesNumber = mp.cpu_count()\n",
    "    currentLow = 0\n",
    "    dispersal = max(len_a, len_b) // processesNumber\n",
    "    shift = max(len_a, len_b) % processesNumber\n",
    "    currentHigh = dispersal\n",
    "    print('Dispersal, shift, currentHigh, currentLow:', dispersal, shift, currentHigh, currentLow)\n",
    "    # получим параметры для запуска процессов\n",
    "    setup = []\n",
    "    for i in range(processesNumber):\n",
    "        if shift > 0:\n",
    "            currentShift = 1\n",
    "            shift -= 1\n",
    "        else:\n",
    "            currentShift = 0\n",
    "        print('Current shift is', currentShift)\n",
    "        print('Part of \"a\" is', '0' + a[currentLow : currentHigh + currentShift])\n",
    "        print('Part of \"b\" is', '0' + b[currentLow : currentHigh + currentShift])\n",
    "        setup.append(['0' + a[currentLow : currentHigh + currentShift], \n",
    "                      '0' + b[currentLow : currentHigh + currentShift],\n",
    "                      i])\n",
    "        currentLow += dispersal + currentShift\n",
    "        currentHigh += dispersal + currentShift\n",
    "    print('Подготовка параллельных вычислений заняла', time.time() - t0, 'сек.')\n",
    "    return setup"
   ]
  },
  {
   "cell_type": "code",
   "execution_count": 21,
   "metadata": {},
   "outputs": [
    {
     "name": "stdout",
     "output_type": "stream",
     "text": [
      "Введите первое число: 123456789987654321\n",
      "Введите второе число: 987654321123456789\n",
      "Dispersal, shift, currentHigh, currentLow: 9 0 9 0\n",
      "Current shift is 0\n",
      "Part of \"a\" is 0123456789\n",
      "Part of \"b\" is 0987654321\n",
      "Current shift is 0\n",
      "Part of \"a\" is 0987654321\n",
      "Part of \"b\" is 0123456789\n",
      "Подготовка параллельных вычислений заняла 0.001168966293334961 сек.\n",
      "Результат: 1111111111111111110\n",
      "Вычисление заняло 0.11054062843322754 сек.\n"
     ]
    },
    {
     "ename": "TypeError",
     "evalue": "AM1() missing 1 required positional argument: 'position'",
     "output_type": "error",
     "traceback": [
      "\u001b[0;31m---------------------------------------------------------------------------\u001b[0m",
      "\u001b[0;31mTypeError\u001b[0m                                 Traceback (most recent call last)",
      "\u001b[0;32m<ipython-input-21-c56ec2ad3201>\u001b[0m in \u001b[0;36m<module>\u001b[0;34m\u001b[0m\n\u001b[1;32m     22\u001b[0m     \u001b[0mprint\u001b[0m\u001b[0;34m(\u001b[0m\u001b[0;34m'Вычисление заняло'\u001b[0m\u001b[0;34m,\u001b[0m \u001b[0mt2\u001b[0m\u001b[0;34m,\u001b[0m \u001b[0;34m'сек.'\u001b[0m\u001b[0;34m)\u001b[0m\u001b[0;34m\u001b[0m\u001b[0;34m\u001b[0m\u001b[0m\n\u001b[1;32m     23\u001b[0m     \u001b[0mt3\u001b[0m \u001b[0;34m=\u001b[0m \u001b[0mtime\u001b[0m\u001b[0;34m.\u001b[0m\u001b[0mtime\u001b[0m\u001b[0;34m(\u001b[0m\u001b[0;34m)\u001b[0m\u001b[0;34m\u001b[0m\u001b[0;34m\u001b[0m\u001b[0m\n\u001b[0;32m---> 24\u001b[0;31m     \u001b[0mc\u001b[0m \u001b[0;34m=\u001b[0m \u001b[0mAM1\u001b[0m\u001b[0;34m(\u001b[0m\u001b[0ma\u001b[0m\u001b[0;34m,\u001b[0m \u001b[0mb\u001b[0m\u001b[0;34m)\u001b[0m\u001b[0;34m\u001b[0m\u001b[0;34m\u001b[0m\u001b[0m\n\u001b[0m\u001b[1;32m     25\u001b[0m     \u001b[0mprint\u001b[0m\u001b[0;34m(\u001b[0m\u001b[0;34m'Без параллельных вычислений:'\u001b[0m\u001b[0;34m,\u001b[0m \u001b[0mtime\u001b[0m\u001b[0;34m.\u001b[0m\u001b[0mtime\u001b[0m\u001b[0;34m(\u001b[0m\u001b[0;34m)\u001b[0m \u001b[0;34m-\u001b[0m \u001b[0mt3\u001b[0m\u001b[0;34m,\u001b[0m \u001b[0;34m'сек.'\u001b[0m\u001b[0;34m)\u001b[0m\u001b[0;34m\u001b[0m\u001b[0;34m\u001b[0m\u001b[0m\n\u001b[1;32m     26\u001b[0m     \u001b[0;31m# к слову, здесь становится непонятно, почему мы это делаем, если запуск процессов куда менее эффективен\u001b[0m\u001b[0;34m\u001b[0m\u001b[0;34m\u001b[0m\u001b[0;34m\u001b[0m\u001b[0m\n",
      "\u001b[0;31mTypeError\u001b[0m: AM1() missing 1 required positional argument: 'position'"
     ]
    }
   ],
   "source": [
    "if __name__ == '__main__':\n",
    "    a = input('Введите первое число: ')\n",
    "    b = input('Введите второе число: ')\n",
    "    setup = master(a, b)\n",
    "    \n",
    "    ######################################\n",
    "    # вариант с multiprocessing, наивный #\n",
    "    ######################################\n",
    "    \n",
    "    # запустим секундомер и процессы и получим результаты\n",
    "    t1 = time.time()\n",
    "    pool1 = mp.Pool()\n",
    "    results = dict(list(pool1.starmap(AM1, setup)))\n",
    "    # обработаем результаты и получим время выполнения\n",
    "    pool1.close()\n",
    "    pool1.join()\n",
    "    unite = '00'\n",
    "    for result in reversed(results.keys()):\n",
    "        unite = results[result][:-1] + str(int(unite[1]) + int(results[result][-1])) + unite[2:]\n",
    "    t2 = time.time() - t1\n",
    "    print('Результат:', int(unite))\n",
    "    print('Вычисление заняло', t2, 'сек.')\n",
    "    t3 = time.time()\n",
    "    c = AM1(a, b)\n",
    "    print('Без параллельных вычислений:', time.time() - t3, 'сек.')\n",
    "    # к слову, здесь становится непонятно, почему мы это делаем, если запуск процессов куда менее эффективен\n",
    "    # но если мы имеем в виду числа с миллионами знаков - и запуск на многоядерном процессоре, конечно же, - то всё по плану)\n",
    "    \n",
    "    # Кстати! Функция add_multinumbers, если задана сама по себе, не работает со строками разной длины!\n",
    "    # Это автоматически решается при распараллеливании, потому что строки приводят к виду '0...XXX' (первый ноль обязателен, \n",
    "    # он позволяет нам хранить дополнительный разряд и использовать его без пересоздания строки, когда он нам понадобится)\n",
    "    \n",
    "    ############################################\n",
    "    # вариант с multiprocessing, спекулятивный #\n",
    "    ############################################\n",
    "    \n",
    "    # запустим секундомер и процессы и получим результаты\n",
    "    t4 = time.time()\n",
    "    pool2 = mp.Pool()\n",
    "    results = pool2.starmap(AM2, setup)\n",
    "    # обработаем результаты и получим время выполнения\n",
    "    pool2.close()\n",
    "    pool2.join()\n",
    "    unite = ''\n",
    "    print(results)\n",
    "    for index, result in enumerate(results):\n",
    "        if index == 0:\n",
    "            unite = result[0]\n",
    "            continue\n",
    "        if unite[0] != '0':\n",
    "            unite = result[1] + unite[1:]\n",
    "        else:\n",
    "            unite = result[0] + unite[1:]\n",
    "    t5 = time.time() - t1\n",
    "    print('Результат:', int(unite))\n",
    "    print('Вычисление заняло', t2, 'сек.')"
   ]
  },
  {
   "cell_type": "markdown",
   "metadata": {},
   "source": [
    "Статус: `задание не решено`."
   ]
  },
  {
   "cell_type": "markdown",
   "metadata": {},
   "source": [
    "# Очереди и замки."
   ]
  },
  {
   "cell_type": "markdown",
   "metadata": {
    "collapsed": true
   },
   "source": [
    "# Очередь (Queue)\n",
    "\n",
    "[Документация Python](https://docs.python.org/3/library/queue.html)"
   ]
  },
  {
   "cell_type": "code",
   "execution_count": 22,
   "metadata": {},
   "outputs": [
    {
     "name": "stdout",
     "output_type": "stream",
     "text": [
      "[0]process data: 1 0\n",
      "\n",
      "[1]\n",
      "process data: 2 1\n",
      "[2]\n",
      "[2, 3]\n",
      "[2, 3, 4]\n",
      "process data: 1 2\n",
      "[3, 4, 5]\n",
      "process data: 2 3\n",
      "[4, 5, 6]\n",
      "[4, 5, 6, 7]\n",
      "[4, 5, 6, 7, 8]\n",
      "process data:[5, 6, 7, 8, 9]\n",
      " 1 4\n",
      "process data: 2 5\n",
      "[6, 7, 8, 9, 10]\n",
      "process data: 1 6\n",
      "[7, 8, 9, 10, 11]\n",
      "process data: 2 7\n",
      "[8, 9, 10, 11, 12]\n",
      "process data:[9, 10, 11, 12, 13]\n",
      " 1 8\n",
      "process data: 2 9\n",
      "[10, 11, 12, 13, 14]\n",
      "process data: 1 10\n",
      "[11, 12, 13, 14, 15]\n",
      "process data: 2 11\n",
      "[12, 13, 14, 15, 16]\n",
      "process data: 1 12\n",
      "[13, 14, 15, 16, 17]\n",
      "process data: 2 13\n",
      "[14, 15, 16, 17, 18]\n",
      "process data: 1 14\n",
      "[15, 16, 17, 18, 19]\n",
      "process data: [16, 17, 18, 19, 20]\n",
      "2 15\n",
      "process data: 1 16\n",
      "[17, 18, 19, 20, 21]\n",
      "process data: 2 17\n",
      "[18, 19, 20, 21, 22]\n",
      "process data: 1 18\n",
      "[19, 20, 21, 22, 23]\n",
      "process data: 2 19\n",
      "[20, 21, 22, 23, 24]\n",
      "process data: 1 20\n",
      "[21, 22, 23, 24, 25]\n",
      "process data: 2 21\n",
      "[22, 23, 24, 25, 26]\n",
      "process data: 1 22\n",
      "[23, 24, 25, 26, 27]\n",
      "process data: 2 23\n",
      "[24, 25, 26, 27, 28]\n",
      "process data: 1 24\n",
      "[25, 26, 27, 28, 29]\n",
      "process data: 2 25\n",
      "[26, 27, 28, 29, 30]\n",
      "process data: 1 26\n",
      "[27, 28, 29, 30, 31]\n",
      "process data:[28, 29, 30, 31, 32] 2 27\n",
      "\n",
      "process data: 1 28\n",
      "[29, 30, 31, 32, 33]\n",
      "process data:[30, 31, 32, 33, 34]\n",
      " 2 29\n",
      "process data: 1 30\n",
      "process data: 2 31\n",
      "process data: 1 32\n",
      "process data: 2 33\n",
      "process data: 1 34\n"
     ]
    }
   ],
   "source": [
    "from queue import Queue\n",
    "from threading import Thread\n",
    "\n",
    "def worker(q, n):\n",
    "    while True:\n",
    "        item = q.get()\n",
    "        if item is None:\n",
    "            break\n",
    "            \n",
    "        print(\"process data:\", n, item)\n",
    "        time.sleep(0.5)       \n",
    "\n",
    "q = Queue(5)\n",
    "th1 = Thread(target=worker, args=(q, 1))\n",
    "th2 = Thread(target=worker, args=(q, 2))\n",
    "th1.start(); \n",
    "th2.start()\n",
    "\n",
    "for i in range(35):\n",
    "    q.put(i)\n",
    "    print(list(q.queue))\n",
    "    time.sleep(0.1)\n",
    "\n",
    "q.put(None); q.put(None)\n",
    "th1.join(); th2.join()"
   ]
  },
  {
   "cell_type": "markdown",
   "metadata": {},
   "source": [
    "# Замки (Locks)"
   ]
  },
  {
   "cell_type": "markdown",
   "metadata": {},
   "source": [
    "Использование очередей делает код выполняемой программы более простым. По возможности, лучше разрабатывать код таким образом, чтобы не было глобального разделяемого ресурса или состояния. Тем не менее, иногда приходится использовать блокировки."
   ]
  },
  {
   "cell_type": "code",
   "execution_count": 23,
   "metadata": {},
   "outputs": [
    {
     "data": {
      "text/plain": [
       "(15, 10)"
      ]
     },
     "execution_count": 23,
     "metadata": {},
     "output_type": "execute_result"
    }
   ],
   "source": [
    "class Point():\n",
    "    def __init__(self, x, y):\n",
    "        self.set(x, y)\n",
    "    def get(self):\n",
    "        return (self.x, self.y)\n",
    "    def set(self, x, y):\n",
    "        self.x = x\n",
    "        self.y = y\n",
    "\n",
    "my_point = Point(10, 20)\n",
    "my_point.set(15, 10)\n",
    "my_point.get()"
   ]
  },
  {
   "cell_type": "markdown",
   "metadata": {},
   "source": [
    "Предположим, что мы создали объект класса `Point` и используем этот объект в большом количестве потоков. Некоторые потоки вызывают метод `get`, другие вызывают метод `set`. Если бы не было блокировок, то могла возникнуть ситуация, когда один поток изменил значение координаты `x`, а другой поток в это время вернул координаты `x` и `y`."
   ]
  },
  {
   "cell_type": "code",
   "execution_count": 24,
   "metadata": {},
   "outputs": [
    {
     "data": {
      "text/plain": [
       "(15, 10)"
      ]
     },
     "execution_count": 24,
     "metadata": {},
     "output_type": "execute_result"
    }
   ],
   "source": [
    "import threading\n",
    "\n",
    "class Point():\n",
    "    def __init__(self, x, y):\n",
    "        self.mutex = threading.RLock()\n",
    "        self.set(x, y)\n",
    "    def get(self):\n",
    "        with self.mutex:\n",
    "            return (self.x, self.y)\n",
    "    def set(self, x, y):\n",
    "        with self.mutex:\n",
    "            self.x = x\n",
    "            self.y = y\n",
    "\n",
    "my_point = Point(10, 20)\n",
    "my_point.set(15, 10)\n",
    "my_point.get()"
   ]
  },
  {
   "cell_type": "markdown",
   "metadata": {},
   "source": [
    "# Lock в multiprocessing.\n",
    "\n",
    "Модуль `multiprocessing` поддерживает замки так же, как и модуль `threading`. Все, что вам нужно, – это импортировать `Lock`, повесить его, сделать что-нибудь и снять его. Например:"
   ]
  },
  {
   "cell_type": "code",
   "execution_count": 25,
   "metadata": {},
   "outputs": [
    {
     "name": "stdout",
     "output_type": "stream",
     "text": [
      " I'm process 65957\n",
      " I'm process 65961\n",
      " I'm process 65958\n",
      "tango\n",
      "foxtrot\n",
      "10\n"
     ]
    }
   ],
   "source": [
    "from multiprocessing import Process, Lock\n",
    "from os import getpid\n",
    "import time\n",
    "\n",
    "def printer(item, lock):\n",
    "    print(\" I'm process\", getpid())\n",
    "    lock.acquire()\n",
    "    if item == 'tango':\n",
    "        time.sleep(1)\n",
    "    try:\n",
    "        print(item)\n",
    "    finally:\n",
    "        lock.release()\n",
    "\n",
    "if __name__ == '__main__':\n",
    "    lock = Lock()\n",
    "    items = ['tango', 'foxtrot', 10]\n",
    "\n",
    "    for item in items:\n",
    "        p = Process(target=printer, args=(item, lock))\n",
    "        p.start()"
   ]
  },
  {
   "cell_type": "markdown",
   "metadata": {},
   "source": [
    "Здесь создана простая функция вывода, которая выводит все, что вы ей передаете. Чтобы не дать процессам конфликтовать друг с другом, мы используем объект `Lock`. Запустим эту программу в отдельных потоках для эллементов списка. Каждый процесс будет вызывать функцию и передавать ей один из объектов. Так как мы используем замки, следующий процесс в строке будет ждать, пока замок не снимется, после чего он сможет продолжить."
   ]
  },
  {
   "cell_type": "markdown",
   "metadata": {},
   "source": [
    "# Упражнение 2. Числа Фибоначчи.\n",
    "\n",
    "Рассмотрим алгоритм быстрого возведения в степень:"
   ]
  },
  {
   "cell_type": "code",
   "execution_count": 26,
   "metadata": {},
   "outputs": [],
   "source": [
    "import numpy as np  \n",
    "def  Fibonacci(n):\n",
    "\n",
    "    A = np.array([[1,1],[1,0]])\n",
    "    B = A\n",
    "    N = n\n",
    "    while N > 0:\n",
    "        if N % 2 == 1:\n",
    "            A = np.dot(B,A)\n",
    "        B = np.dot(B,B)\n",
    "        N = N // 2\n",
    "    return A[1,1]"
   ]
  },
  {
   "cell_type": "code",
   "execution_count": 27,
   "metadata": {},
   "outputs": [
    {
     "data": {
      "text/plain": [
       "0"
      ]
     },
     "execution_count": 27,
     "metadata": {},
     "output_type": "execute_result"
    }
   ],
   "source": [
    "Fibonacci(0)"
   ]
  },
  {
   "cell_type": "code",
   "execution_count": 28,
   "metadata": {},
   "outputs": [
    {
     "data": {
      "text/plain": [
       "4530135867886140008"
      ]
     },
     "execution_count": 28,
     "metadata": {},
     "output_type": "execute_result"
    }
   ],
   "source": [
    "Fibonacci(12345678)"
   ]
  },
  {
   "cell_type": "markdown",
   "metadata": {},
   "source": [
    "Рассмотрим возможность распаралеливания этого алгоритма:"
   ]
  },
  {
   "cell_type": "code",
   "execution_count": 29,
   "metadata": {},
   "outputs": [],
   "source": [
    "def  Fibonacci(n):\n",
    "    p, q, r = 1, 1, 0\n",
    "    N = n//2; par = n%2\n",
    "    while N > 0:\n",
    "        \n",
    "      # Thread_1        Thread_2           Thread_3      Thread_4\n",
    "        \n",
    "        pp = p*p;       qq = q*q;          rr = r*r;     pr = p + r;       #  Такт 1\n",
    "        p1 = pp + qq;   r1 = qq + rr;      q1 = q*pr;                      #  Такт 2\n",
    "        p2 = p1 + q1;                                                      #  Такт 3\n",
    "\n",
    "        if N % 2 == 1:   p, q, r = p2, p1, q1\n",
    "        else:            p, q, r = p1, q1, r1\n",
    "        N = N // 2     \n",
    "  \n",
    "    if par==0: return r    \n",
    "    else:      return q"
   ]
  },
  {
   "cell_type": "code",
   "execution_count": 30,
   "metadata": {},
   "outputs": [
    {
     "data": {
      "text/plain": [
       "34"
      ]
     },
     "execution_count": 30,
     "metadata": {},
     "output_type": "execute_result"
    }
   ],
   "source": [
    "Fibonacci(9)"
   ]
  },
  {
   "cell_type": "markdown",
   "metadata": {},
   "source": [
    "Напишите программу, использующую паралельные процессы (процессы и потоки) для реализации этого алгоритма и оцените время работы:"
   ]
  },
  {
   "cell_type": "markdown",
   "metadata": {
    "collapsed": true
   },
   "source": [
    "Статус: `задание не решено`."
   ]
  },
  {
   "cell_type": "markdown",
   "metadata": {},
   "source": [
    "# Упражнение 3. Поиск в ширину.\n",
    "\n",
    "Ранее мы рассматривали алгоритм поиска в ширину на ориентированном невзвешенном графе."
   ]
  },
  {
   "cell_type": "code",
   "execution_count": 32,
   "metadata": {},
   "outputs": [],
   "source": [
    "import networkx as nx\n",
    "import pylab\n",
    "import matplotlib.pyplot as plt"
   ]
  },
  {
   "cell_type": "markdown",
   "metadata": {},
   "source": [
    "Код программы, реализующий поиск в ширину (с записью предшественников):"
   ]
  },
  {
   "cell_type": "code",
   "execution_count": 36,
   "metadata": {},
   "outputs": [],
   "source": [
    "def bfs(graph, s, out=0):\n",
    "    parents = {v: None for v in graph}\n",
    "    level = {v: None for v in graph}\n",
    "    level[s] = 0                          # уровень начальной вершины\n",
    "    queue = [s]                           # добавляем начальную вершину в очередь\n",
    "    while queue:                          # пока там что-то есть\n",
    "        v = queue.pop(0)                  # извлекаем вершину\n",
    "        for w in graph[v]:                # запускаем обход из вершины v\n",
    "            if level[w] is None:          # проверка на посещенность\n",
    "                queue.append(w)           # добавление вершины в очередь\n",
    "                parents[w] = v\n",
    "                level[w] = level[v] + 1   # подсчитываем уровень вершины\n",
    "        if out: print(level[w], level, queue)\n",
    "    return level, parents"
   ]
  },
  {
   "cell_type": "markdown",
   "metadata": {},
   "source": [
    "И код программы, востанавливающей маршрут:"
   ]
  },
  {
   "cell_type": "code",
   "execution_count": 35,
   "metadata": {},
   "outputs": [],
   "source": [
    "def PATH (end, parents):\n",
    "    path = [end]\n",
    "    parent = parents[end]\n",
    "    while not parent is None:\n",
    "        path.append(parent)\n",
    "        parent = parents[parent]\n",
    "    return path[::-1]"
   ]
  },
  {
   "cell_type": "markdown",
   "metadata": {},
   "source": [
    "Пусть задан граф множеством смежности:"
   ]
  },
  {
   "cell_type": "code",
   "execution_count": 34,
   "metadata": {},
   "outputs": [],
   "source": [
    "pos = {0: {1, 2},\n",
    "       1: {3, 4},\n",
    "       2: {1, 4},\n",
    "       3: {4},\n",
    "       4: {1, 3, 5},\n",
    "       5: {0, 2}}"
   ]
  },
  {
   "cell_type": "markdown",
   "metadata": {},
   "source": [
    "Создадим соответствующий [направленный граф](https://networkx.github.io/documentation/networkx-1.10/reference/classes.digraph.html):"
   ]
  },
  {
   "cell_type": "code",
   "execution_count": 37,
   "metadata": {},
   "outputs": [
    {
     "data": {
      "image/png": "[encoded data removed]",
      "text/plain": [
       "<Figure size 432x288 with 1 Axes>"
      ]
     },
     "metadata": {},
     "output_type": "display_data"
    },
    {
     "data": {
      "text/plain": [
       "<Figure size 432x288 with 0 Axes>"
      ]
     },
     "metadata": {},
     "output_type": "display_data"
    }
   ],
   "source": [
    "N = 6\n",
    "G = nx.DiGraph()\n",
    "a = [(i, j) for i in range(N) for j in pos[i]] # генерация списка рёбер\n",
    "\n",
    "G.add_nodes_from(range(N))\n",
    "G.add_edges_from(a)\n",
    "\n",
    "nx.draw(G,with_labels=True)\n",
    "\n",
    "pylab.figure ()\n",
    "plt.show()"
   ]
  },
  {
   "cell_type": "markdown",
   "metadata": {},
   "source": [
    "Определим с помощью поиска в ширину кратчайший маршрут:"
   ]
  },
  {
   "cell_type": "code",
   "execution_count": 38,
   "metadata": {},
   "outputs": [],
   "source": [
    "level, parents = bfs(pos, 0, out=0)"
   ]
  },
  {
   "cell_type": "code",
   "execution_count": 39,
   "metadata": {},
   "outputs": [
    {
     "name": "stdout",
     "output_type": "stream",
     "text": [
      "[0, 1, 4, 5]\n"
     ]
    }
   ],
   "source": [
    "path = PATH(5, parents)\n",
    "print(path)"
   ]
  },
  {
   "cell_type": "markdown",
   "metadata": {},
   "source": [
    "Рассмотрите возможность распаралеливания этого алгоритма и напишите соответстствующую программу:"
   ]
  },
  {
   "cell_type": "markdown",
   "metadata": {},
   "source": [
    "Статус: `задание не решено`."
   ]
  },
  {
   "cell_type": "markdown",
   "metadata": {},
   "source": [
    "# Домашнее задание (базовое):"
   ]
  },
  {
   "cell_type": "markdown",
   "metadata": {},
   "source": [
    "# Задание 1. Скалярное произведение векторов.\n",
    "\n",
    "Напишите программу, реализующую каскадное скалярное произведение векторов."
   ]
  },
  {
   "cell_type": "code",
   "execution_count": 40,
   "metadata": {},
   "outputs": [],
   "source": [
    "from concurrent.futures import ThreadPoolExecutor, as_completed\n",
    "import numpy as np"
   ]
  },
  {
   "cell_type": "code",
   "execution_count": 41,
   "metadata": {},
   "outputs": [
    {
     "name": "stdout",
     "output_type": "stream",
     "text": [
      "Введите координаты первого вектора через пробел: 1 2 3\n",
      "Введите координаты второго вектора через пробел: 1 3 4\n",
      "Результат равен 19.0\n"
     ]
    }
   ],
   "source": [
    "v1 = np.array(list(map(float, input('Введите координаты первого вектора через пробел: ').split())))\n",
    "v2 = np.array(list(map(float, input('Введите координаты второго вектора через пробел: ').split())))\n",
    "\n",
    "sum = 0\n",
    "with ThreadPoolExecutor(max_workers=4) as executor:\n",
    "    results = [executor.submit(lambda fx: fx[0] * fx[1], [v1[i], v2[i]]) for i in range(len(v1))]\n",
    "    for future in as_completed(results):\n",
    "        sum += future.result()\n",
    "        \n",
    "print(f'Результат равен {sum}')"
   ]
  },
  {
   "cell_type": "markdown",
   "metadata": {},
   "source": [
    "# Задание 2. Произведение матриц.\n",
    "\n",
    "Напишите программу, разделяющую матрицы на подматрицы, осуществляющую паралельное перемножение матриц и объединяющую результаты в одну матрицу."
   ]
  },
  {
   "cell_type": "code",
   "execution_count": 42,
   "metadata": {},
   "outputs": [],
   "source": [
    "def concurrentScalarProduct(vs):\n",
    "    sum = 0\n",
    "    with ThreadPoolExecutor() as executor:\n",
    "        results = [executor.submit(lambda fx: fx[0] * fx[1], [vs[0][i], vs[1][i]]) for i in range(len(vs[0]))]\n",
    "        for future in as_completed(results):\n",
    "            sum += future.result()\n",
    "    return sum"
   ]
  },
  {
   "cell_type": "code",
   "execution_count": 43,
   "metadata": {},
   "outputs": [],
   "source": [
    "def getMatrix():\n",
    "    return np.array(eval(input('Введите матрицу в одну строку, используя квадратные скобочки и запятые: ')))"
   ]
  },
  {
   "cell_type": "code",
   "execution_count": 44,
   "metadata": {},
   "outputs": [],
   "source": [
    "def getVectors(matrix, axis=0):\n",
    "    vectors = []\n",
    "    if axis != 0:\n",
    "        matrix = matrix.transpose()\n",
    "    if len(list(matrix.shape)) <= 1:\n",
    "        vectors = [list(matrix)]\n",
    "    else:\n",
    "        for line in matrix:\n",
    "            vectors.append(list(line))\n",
    "    return vectors"
   ]
  },
  {
   "cell_type": "code",
   "execution_count": 45,
   "metadata": {},
   "outputs": [],
   "source": [
    "def concurrentMatrixProduct(vs1, vs2):\n",
    "    with ThreadPoolExecutor() as executor:\n",
    "        holder = [0] * len(vs1) * len(vs2)\n",
    "        index = 0\n",
    "        for v1 in vs1:\n",
    "            for v2 in vs2:\n",
    "                holder[index] = [v1, v2]\n",
    "                index += 1\n",
    "        results = list(executor.map(concurrentScalarProduct, holder))\n",
    "        results = np.array([results]).reshape(len(vs1), len(vs2))\n",
    "        return results"
   ]
  },
  {
   "cell_type": "code",
   "execution_count": 9,
   "metadata": {},
   "outputs": [
    {
     "name": "stdout",
     "output_type": "stream",
     "text": [
      "Введите матрицу в одну строку, используя квадратные скобочки и запятые: [[1, 6, 5, 3], [7, 8, 4, 2]]\n",
      "Введите матрицу в одну строку, используя квадратные скобочки и запятые: [[5, 1, 3, 7], [2, 2, 8, 7], [8, 4, 2, 0], [9, 5, 1, 5]]\n",
      "\n",
      "[[ 84  48  64  64]\n",
      " [101  49  95 115]]\n"
     ]
    }
   ],
   "source": [
    "# [[1, 6, 5, 3], [7, 8, 4, 2]] \n",
    "# [[5, 1, 3, 7], [2, 2, 8, 7], [8, 4, 2, 0], [9, 5, 1, 5]]\n",
    "vectors1 = getVectors(getMatrix())\n",
    "vectors2 = getVectors(getMatrix(), axis=1)\n",
    "print()\n",
    "print(concurrentMatrixProduct(vectors1, vectors2))"
   ]
  },
  {
   "cell_type": "markdown",
   "metadata": {},
   "source": [
    "# Задание 3. Алгоритм Флойда.\n",
    "\n",
    "Одной из основных задач теории графов является поиск всех кратчайших путей в ориентированном взвешенном графе. Её можно решить с помощью алгоритма Флойда. \n",
    "\n",
    "Пусть задан ориентированный взвешенный граф:"
   ]
  },
  {
   "cell_type": "code",
   "execution_count": 18,
   "metadata": {},
   "outputs": [
    {
     "data": {
      "image/png": "[encoded data removed]",
      "text/plain": [
       "<IPython.core.display.Image object>"
      ]
     },
     "execution_count": 18,
     "metadata": {},
     "output_type": "execute_result"
    }
   ],
   "source": [
    "# Так можно добавлять картинки\n",
    "\n",
    "from IPython.display import Image         # вызов из библиотеки определённой функции\n",
    "Image(\"Алгоритм Флойда.png\")              # вызов функции и передача ей в качестве аргумента пути к файлу \n",
    "\n",
    "# (в данном случае фаил находится в той же папке)"
   ]
  },
  {
   "cell_type": "code",
   "execution_count": 46,
   "metadata": {},
   "outputs": [],
   "source": [
    "from math import inf"
   ]
  },
  {
   "cell_type": "code",
   "execution_count": 47,
   "metadata": {},
   "outputs": [],
   "source": [
    "# по вертикали - точки, откуда идём\n",
    "# по горизонтали - точки, куда идём\n",
    "A = np.array(\n",
    "#     (0)  (1)  (2)  (3)  (4)  (5)\n",
    "    [[ 0,   3,  inf,  2,  inf,  7 ],\n",
    "     [inf,  0,  inf, inf, inf, inf],\n",
    "     [ 8,  inf,  0,   1,   4,  inf],\n",
    "     [inf, inf, inf,  0,  inf,  1 ],\n",
    "     [inf, inf, inf,  2,   0,   5 ],\n",
    "     [inf, inf, inf, inf,  1,   0 ]])"
   ]
  },
  {
   "cell_type": "code",
   "execution_count": 48,
   "metadata": {},
   "outputs": [],
   "source": [
    "def Floyd(A):\n",
    "    F = A.copy()\n",
    "    n = len(F)\n",
    "    for k in range(n): \n",
    "        for i in range(n): \n",
    "            for j in range(n): \n",
    "                F[i][j] = min(F[i][j], F[i][k] + F[k][j])\n",
    "    return F"
   ]
  },
  {
   "cell_type": "code",
   "execution_count": 49,
   "metadata": {},
   "outputs": [
    {
     "name": "stdout",
     "output_type": "stream",
     "text": [
      "[[ 0.  3. inf  2.  4.  3.]\n",
      " [inf  0. inf inf inf inf]\n",
      " [ 8. 11.  0.  1.  3.  2.]\n",
      " [inf inf inf  0.  2.  1.]\n",
      " [inf inf inf  2.  0.  3.]\n",
      " [inf inf inf  3.  1.  0.]]\n"
     ]
    }
   ],
   "source": [
    "print(Floyd(A))\n",
    "# (0) (1) (2) (3) (4) (5)."
   ]
  },
  {
   "cell_type": "markdown",
   "metadata": {},
   "source": [
    "Проанализируйте возможность распараллеливания этого алгоритма и напишите соответствующую программу, оцените сокращение времени работы."
   ]
  },
  {
   "cell_type": "markdown",
   "metadata": {
    "collapsed": true
   },
   "source": [
    "### Процесс решения\n",
    "\n",
    "Идея такая: распараллелить либо цикл `k`, либо `i`, либо `j`, либо в парах, либо все. Нужно проверить их работоспособность и понять, что лучше."
   ]
  },
  {
   "cell_type": "code",
   "execution_count": 50,
   "metadata": {},
   "outputs": [],
   "source": [
    "from time import time as t"
   ]
  },
  {
   "cell_type": "code",
   "execution_count": 51,
   "metadata": {},
   "outputs": [],
   "source": [
    "def Floyd(A):\n",
    "    F = A.copy()\n",
    "    n = len(F)\n",
    "    for k in range(n): \n",
    "        for i in range(n): \n",
    "            for j in range(n): \n",
    "                F[i][j] = min(F[i][j], F[i][k] + F[k][j])\n",
    "    return F"
   ]
  },
  {
   "cell_type": "code",
   "execution_count": 52,
   "metadata": {},
   "outputs": [
    {
     "name": "stdout",
     "output_type": "stream",
     "text": [
      "0.009609222412109375\n",
      "[[ 0.  3. inf  2.  4.  3.]\n",
      " [inf  0. inf inf inf inf]\n",
      " [ 8. 11.  0.  1.  3.  2.]\n",
      " [inf inf inf  0.  2.  1.]\n",
      " [inf inf inf  2.  0.  3.]\n",
      " [inf inf inf  3.  1.  0.]]\n"
     ]
    }
   ],
   "source": [
    "t0 = t()\n",
    "Floyd(A)\n",
    "print(t() - t0)\n",
    "print(Floyd(A))"
   ]
  },
  {
   "cell_type": "code",
   "execution_count": 53,
   "metadata": {},
   "outputs": [],
   "source": [
    "def Floyd_K(A):\n",
    "    F = A.copy()\n",
    "    n = len(F)\n",
    "    with ThreadPoolExecutor() as executor:\n",
    "        F = np.array(list(executor.map(\n",
    "            lambda fx: min(F[fx[0]][fx[1]], F[fx[0]][fx[2]] + F[fx[2]][fx[1]]), \n",
    "            ([i, j, k] \n",
    "             for k in range(n) \n",
    "             for i in range(n) \n",
    "             for j in range(n))\n",
    "        ))).reshape(n, n, -1)\n",
    "    return F"
   ]
  },
  {
   "cell_type": "code",
   "execution_count": 54,
   "metadata": {},
   "outputs": [
    {
     "name": "stdout",
     "output_type": "stream",
     "text": [
      "0.042054176330566406\n",
      "[[[ 0.  3. inf  2. inf  7.]\n",
      "  [inf  0. inf inf inf inf]\n",
      "  [ 8. 11.  0.  1.  4. 15.]\n",
      "  [inf inf inf  0. inf  1.]\n",
      "  [inf inf inf  2.  0.  5.]\n",
      "  [inf inf inf inf  1.  0.]]\n",
      "\n",
      " [[ 0.  3. inf  2. inf  7.]\n",
      "  [inf  0. inf inf inf inf]\n",
      "  [ 8. inf  0.  1.  4. inf]\n",
      "  [inf inf inf  0. inf  1.]\n",
      "  [inf inf inf  2.  0.  5.]\n",
      "  [inf inf inf inf  1.  0.]]\n",
      "\n",
      " [[ 0.  3. inf  2. inf  7.]\n",
      "  [inf  0. inf inf inf inf]\n",
      "  [ 8. inf  0.  1.  4. inf]\n",
      "  [inf inf inf  0. inf  1.]\n",
      "  [inf inf inf  2.  0.  5.]\n",
      "  [inf inf inf inf  1.  0.]]\n",
      "\n",
      " [[ 0.  3. inf  2. inf  3.]\n",
      "  [inf  0. inf inf inf inf]\n",
      "  [ 8. inf  0.  1.  4.  2.]\n",
      "  [inf inf inf  0. inf  1.]\n",
      "  [inf inf inf  2.  0.  3.]\n",
      "  [inf inf inf inf  1.  0.]]\n",
      "\n",
      " [[ 0.  3. inf  2. inf  7.]\n",
      "  [inf  0. inf inf inf inf]\n",
      "  [ 8. inf  0.  1.  4.  9.]\n",
      "  [inf inf inf  0. inf  1.]\n",
      "  [inf inf inf  2.  0.  5.]\n",
      "  [inf inf inf  3.  1.  0.]]\n",
      "\n",
      " [[ 0.  3. inf  2.  8.  7.]\n",
      "  [inf  0. inf inf inf inf]\n",
      "  [ 8. inf  0.  1.  4. inf]\n",
      "  [inf inf inf  0.  2.  1.]\n",
      "  [inf inf inf  2.  0.  5.]\n",
      "  [inf inf inf inf  1.  0.]]]\n"
     ]
    }
   ],
   "source": [
    "t0 = t()\n",
    "Floyd_K(A)\n",
    "print(t() - t0)\n",
    "print(Floyd_K(A))"
   ]
  },
  {
   "cell_type": "markdown",
   "metadata": {},
   "source": [
    "То, что `F` на самом деле содержит 216 элементов, дало мне понять, что `k` всего лишь обновляет результаты, поэтому не может быть использован для распараллеливания. Может быть, для очереди - да, но так - это всего лишь последовательное прохождение, оно должно быть выполнено шаг за шагом, потому что данные важны: они меняются при каждом `k`."
   ]
  },
  {
   "cell_type": "code",
   "execution_count": 55,
   "metadata": {},
   "outputs": [],
   "source": [
    "def Floyd_I(A):\n",
    "    F = A.copy()\n",
    "    n = len(F)\n",
    "    for k in range(n):\n",
    "        with ThreadPoolExecutor() as executor:\n",
    "            F = np.array(list(executor.map(\n",
    "                lambda fx: min(F[fx[0]][fx[1]], F[fx[0]][fx[2]] + F[fx[2]][fx[1]]), \n",
    "                ([i, j, k] \n",
    "                 for i in range(n) \n",
    "                 for j in range(n))\n",
    "            ))).reshape(n, -1)\n",
    "    return F"
   ]
  },
  {
   "cell_type": "code",
   "execution_count": 56,
   "metadata": {},
   "outputs": [
    {
     "name": "stdout",
     "output_type": "stream",
     "text": [
      "0.05070018768310547\n",
      "[[ 0.  3. inf  2.  4.  3.]\n",
      " [inf  0. inf inf inf inf]\n",
      " [ 8. 11.  0.  1.  3.  2.]\n",
      " [inf inf inf  0.  2.  1.]\n",
      " [inf inf inf  2.  0.  3.]\n",
      " [inf inf inf  3.  1.  0.]]\n"
     ]
    }
   ],
   "source": [
    "t0 = t()\n",
    "Floyd_I(A)\n",
    "print(t() - t0)\n",
    "print(Floyd_I(A))"
   ]
  },
  {
   "cell_type": "markdown",
   "metadata": {},
   "source": [
    "Попробуем распараллелить по `J`:"
   ]
  },
  {
   "cell_type": "code",
   "execution_count": 57,
   "metadata": {},
   "outputs": [],
   "source": [
    "def Floyd_J(A):\n",
    "    F = A.copy()\n",
    "    n = len(F)\n",
    "    for k in range(n):\n",
    "        for i in range(n):\n",
    "            with ThreadPoolExecutor() as executor:\n",
    "                F[i] = list(executor.map(\n",
    "                    lambda fx: min(F[fx[0]][fx[1]], F[fx[0]][fx[2]] + F[fx[2]][fx[1]]), \n",
    "                    ([i, j, k] \n",
    "                     for j in range(n))\n",
    "                ))\n",
    "    return F"
   ]
  },
  {
   "cell_type": "code",
   "execution_count": 58,
   "metadata": {},
   "outputs": [
    {
     "name": "stdout",
     "output_type": "stream",
     "text": [
      "[[ 0.  3. inf  2.  4.  3.]\n",
      " [inf  0. inf inf inf inf]\n",
      " [ 8. 11.  0.  1.  3.  2.]\n",
      " [inf inf inf  0.  2.  1.]\n",
      " [inf inf inf  2.  0.  3.]\n",
      " [inf inf inf  3.  1.  0.]]\n",
      "0.12469244003295898\n"
     ]
    }
   ],
   "source": [
    "t0 = t()\n",
    "print(Floyd_J(A))\n",
    "print(t() - t0)"
   ]
  },
  {
   "cell_type": "markdown",
   "metadata": {},
   "source": [
    "### Недоделанный супервариант\n",
    "\n",
    "Немного подумав, я понял, что для работы выражения `min(F[i][j], F[i][k] + F[k][j])` в первом варианте программы (`Floyd_K`) нужно на каждом шаге `k` подождать вычисления `k`-ой строки и k-го столбца: тогда мы в каждом треде будем иметь актуальные данные для сравнения.\n",
    "\n",
    "В распараллеливании по `I` мы проходим по одной строке, поэтому для нас необходимо будет получить 7 элементов: `F[i][k]` (он будет один) и `F[k][j]` (их будет шесть).\n",
    "\n",
    "А ещё конструкция карты нам не подходит, и поэтому нужно всё будет делать ручками. Для начала - несколько сравнений."
   ]
  },
  {
   "cell_type": "code",
   "execution_count": 59,
   "metadata": {},
   "outputs": [
    {
     "name": "stdout",
     "output_type": "stream",
     "text": [
      "0.0002689361572265625\n",
      "0.00020194053649902344\n"
     ]
    }
   ],
   "source": [
    "B = A.copy()\n",
    "t0 = t()\n",
    "B[0][0] = 1\n",
    "t1 = t() - t0\n",
    "print(t1)\n",
    "C = [[ 0,   3,  inf,  2,  inf,  7 ],\n",
    "     [inf,  0,  inf, inf, inf, inf],\n",
    "     [ 8,  inf,  0,   1,   4,  inf],\n",
    "     [inf, inf, inf,  0,  inf,  1 ],\n",
    "     [inf, inf, inf,  2,   0,   5 ],\n",
    "     [inf, inf, inf, inf,  1,   0 ]]\n",
    "t0 = t()\n",
    "C[0][0] = 1\n",
    "t1 = t() - t0\n",
    "print(t1)"
   ]
  },
  {
   "cell_type": "markdown",
   "metadata": {},
   "source": [
    "Ручное задание массивов эффективнее задания при помощи `numpy`."
   ]
  },
  {
   "cell_type": "code",
   "execution_count": 60,
   "metadata": {},
   "outputs": [
    {
     "name": "stdout",
     "output_type": "stream",
     "text": [
      "t_c 0.0002834796905517578\n",
      "0.00032448768615722656\n",
      "0.0007615089416503906\n"
     ]
    }
   ],
   "source": [
    "t0 = t()\n",
    "q = Queue(36)\n",
    "t_c = t() - t0\n",
    "print('t_c', t_c)\n",
    "t0 = t()\n",
    "for i in range(6):\n",
    "    q.put(i)\n",
    "t1 = t() - t0\n",
    "print(t1)\n",
    "q = Queue(6)\n",
    "t0 = t()\n",
    "q.put(0)\n",
    "t1 = t() - t0\n",
    "print(t1)"
   ]
  },
  {
   "cell_type": "code",
   "execution_count": 61,
   "metadata": {},
   "outputs": [
    {
     "name": "stdout",
     "output_type": "stream",
     "text": [
      "0.00022149085998535156\n",
      "0.00019359588623046875\n"
     ]
    }
   ],
   "source": [
    "q = [0] * 36\n",
    "t0 = t()\n",
    "for i in range(6):\n",
    "    q[i] = i\n",
    "t1 = t() - t0\n",
    "print(t1)\n",
    "q = [0] * 6\n",
    "t0 = t()\n",
    "q[0] = 0\n",
    "t1 = t() - t0\n",
    "print(t1)"
   ]
  },
  {
   "cell_type": "markdown",
   "metadata": {},
   "source": [
    "Вышеизложенное говорит, что можно создавать очереди длины `N ** 2`, чтобы использовать в новом алгоритме, и его скорость всё равно нас не сильно ограничивает."
   ]
  },
  {
   "cell_type": "markdown",
   "metadata": {},
   "source": [
    "### Глава 1. Об алгоритме, очередях, каскадном трединге\n",
    "\n",
    "Идея заключается в следующем. На каждом шаге `k` - это точка, путь из которой (в которую) мы сравниваем с уже имеющимся. Мы должны иметь актуальную версию всех путей из `k` и в `k`, поэтому нам для запуска следующего пула потоков нужно дождаться вычисления `k`-го столбца. \n",
    "\n",
    "Не `k`-ой строки! На этой строке изначально стоит специальный блокировщик, который ставит замок на все невычисленные элементы. Будет достаточно вычислить `k`-ый столбец, чтобы начать считать (это также подразумевает вычисление `k`-го элемента `k`-ой строки).\n",
    "\n",
    "После просчёта 2-го столбца на шаге `k == 1` `ParentThread` (поток второй строки) запускает 5 новых потоков и `ParentThread` 3-ей строки, который будет управлять ожиданием 3-го столбца.\n",
    "\n",
    "`ParentThread(k)` не продолжает свою работу, пока не получит все 5 результатов из очередей третьего столбца; в это время некоторые треды смогут досчитать до конца и завершить работу.\n",
    "\n",
    "По умолчанию точка `k` на 1-ом шаге просчитана, поэтому `ParentThread` начинается на второй строке. Ещё его функция по запуску новых тредов должна выключаться на последнем шаге, когда `k == 6`. `ParentThread` не может получить из очередей для 7-ых элементов хоть что-то; их в принципе не существует."
   ]
  },
  {
   "cell_type": "markdown",
   "metadata": {},
   "source": [
    "### Глава 2. О чётких ограничениях\n",
    "\n",
    "Нужно понимать, что точно недопустимо в данном алгоритме:\n",
    "\n",
    "- недопустимо, когда тред `i`-ой строки пересчитывает `j`-ый элемент на `k`-ом ходе, в то время как на `k - 1` ходе не просчитан этот элемент (\"порядок строки\")\n",
    "- недопустимо, чтобы начинался тред `k`-го хода, когда `k`-ый столбец не посчитан на `k - 1` ходе (\"порядок шагов\")."
   ]
  },
  {
   "cell_type": "markdown",
   "metadata": {},
   "source": [
    "#### Глава 2.1. 30+ часов лабораторной работы\n",
    "\n",
    "Ограничение \"Порядка шагов\" было легко понять. На понимание ограничения \"Порядка строки\", особенно на понимание, как это построить, ушло много времени. Тем не менее, я польщён: это была лучшая лаба в моей жизни, потому что мне действительно нравится думать над этим, своим, жутко устроенном, да, но тем не менее своим алгоритмом.\n",
    "\n",
    "И я вспомнил про... родителей.\n",
    "\n",
    "Мы можем передавать в потоки **родителей** и вешать в родителях замки на непосчитанные элементы! Чудеса! Самое ведь прикольное, что это тоже выполняется отдельно, то есть поток родителя не затрагивается - только текущий!\n",
    "\n",
    "Приступим!"
   ]
  },
  {
   "cell_type": "code",
   "execution_count": 62,
   "metadata": {},
   "outputs": [],
   "source": [
    "from threading import Thread"
   ]
  },
  {
   "cell_type": "code",
   "execution_count": 63,
   "metadata": {},
   "outputs": [],
   "source": [
    "class Counter(Thread):\n",
    "    def __init__(self, parent, i, k, n):\n",
    "        Thread.__init__(self)\n",
    "        self.parent = parent\n",
    "        self.i = i\n",
    "        self.k = k\n",
    "        self.n = n\n",
    "        \n",
    "    def start(self):\n",
    "        global AdjacencyMatrix\n",
    "        global HoldUntilKQueues\n",
    "        for j in range(n):\n",
    "            ValueKJ = HoldUntilKQueues[k][j].get()\n",
    "            ValueIK = HoldUntilKQueues[i][k].get()\n",
    "            HoldUntilKQueues[k][j].put(ValueKJ) # для того, чтобы другие треды тоже могли пользоваться этим значением\n",
    "            HoldUntilKQueues[i][k].put(ValueIK)\n",
    "            AdjacencyMatrix[self.i][j] = min(AdjacencyMatrix[self.i][j], \n",
    "                                             ValueIK + ValueKJ)"
   ]
  },
  {
   "cell_type": "code",
   "execution_count": 64,
   "metadata": {},
   "outputs": [],
   "source": [
    "class ParentThread(Thread):\n",
    "    def __init__(self, i, k, n):\n",
    "        Thread.__init__(self)\n",
    "        self.i = i\n",
    "        self.k = k\n",
    "        \n",
    "    def start(self):\n",
    "        pass"
   ]
  },
  {
   "cell_type": "markdown",
   "metadata": {},
   "source": [
    "### Глава 4. Задаём технологии: очереди, матрицу смежности, общую функцию\n",
    "\n",
    "Это невероятно классно - понимать, когда у тебя в один из моментов времени могут работать вплоть до `N ** 2` тредов. Но... каким образом мы выстроим структуру взаимосвязи между потоками?\n",
    "\n",
    "- массив очередей `HoldUntilKQueues(maxsize = 1)` размером `N * N`: "
   ]
  },
  {
   "cell_type": "markdown",
   "metadata": {},
   "source": [
    "### Глава 5. Хуже только рекурсия (не факт!)\n",
    "\n",
    "На самом деле, просчитывая алгоритм Флойда таким образом, задумываешься, а не лучше ли использовать динамику или рекурсию... Потому что первый вопрос, который возникает, когда на это смотришь, - \n",
    ">\"Это как?\"\n",
    "\n",
    "Keep calm and keep going. Суммарное время на запуск всех этих процессов превышает время выполнения алгоритма Флойда в лоб раз в тысячу, наверное... Сначала ведь нужно его написать."
   ]
  },
  {
   "cell_type": "markdown",
   "metadata": {},
   "source": [
    "Статус суперварианта: `задание решено не до конца`."
   ]
  }
 ],
 "metadata": {
  "kernelspec": {
   "display_name": "Python 3",
   "language": "python",
   "name": "python3"
  },
  "language_info": {
   "codemirror_mode": {
    "name": "ipython",
    "version": 3
   },
   "file_extension": ".py",
   "mimetype": "text/x-python",
   "name": "python",
   "nbconvert_exporter": "python",
   "pygments_lexer": "ipython3",
   "version": "3.8.2"
  }
 },
 "nbformat": 4,
 "nbformat_minor": 2
}
