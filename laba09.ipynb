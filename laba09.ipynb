{
 "cells": [
  {
   "cell_type": "markdown",
   "metadata": {},
   "source": [
    "# Лабораторная работа 9. ООП."
   ]
  },
  {
   "cell_type": "code",
   "execution_count": 1,
   "metadata": {},
   "outputs": [],
   "source": [
    "import numpy as np\n",
    "import matplotlib.pyplot as plt"
   ]
  },
  {
   "cell_type": "markdown",
   "metadata": {},
   "source": [
    "# 1. Создание классов и объектов\n",
    "В языке программирования Python классы создаются с помощью инструкции `class`, за которой следует произвольное имя класса, после которого ставится двоеточие; далее с новой строки и с отступом реализуется тело класса:"
   ]
  },
  {
   "cell_type": "code",
   "execution_count": 2,
   "metadata": {},
   "outputs": [],
   "source": [
    "class A:    #  class <имя класса>:\n",
    "    pass    #      <тело класса>"
   ]
  },
  {
   "cell_type": "markdown",
   "metadata": {},
   "source": [
    "Создание экземпляра класса:"
   ]
  },
  {
   "cell_type": "code",
   "execution_count": 3,
   "metadata": {},
   "outputs": [],
   "source": [
    "a = A()     #  имя_переменной = ИмяКласса()"
   ]
  },
  {
   "cell_type": "code",
   "execution_count": 4,
   "metadata": {},
   "outputs": [
    {
     "name": "stdout",
     "output_type": "stream",
     "text": [
      "<__main__.A object at 0x7f294c4ec2b0> объект класса <class '__main__.A'>\n"
     ]
    }
   ],
   "source": [
    "print(a, 'объект класса', type(a))"
   ]
  },
  {
   "cell_type": "markdown",
   "metadata": {},
   "source": [
    "# 2. Класс как модуль (библиотека)\n",
    "Класс можно представить подобно модулю (библиотеки):\n",
    "\n",
    "- в нем могут быть свои переменные со значениями и функции\n",
    "- у класса есть собственное пространство имен, доступ к которым возможен через имя класса:"
   ]
  },
  {
   "cell_type": "code",
   "execution_count": 5,
   "metadata": {},
   "outputs": [],
   "source": [
    "class CLASS:\n",
    "    const = 5              # атрибут класса\n",
    "    def adder(v):          # функция-метод\n",
    "        return v + CLASS.const"
   ]
  },
  {
   "cell_type": "code",
   "execution_count": 6,
   "metadata": {},
   "outputs": [
    {
     "data": {
      "text/plain": [
       "5"
      ]
     },
     "execution_count": 6,
     "metadata": {},
     "output_type": "execute_result"
    }
   ],
   "source": [
    "CLASS.const"
   ]
  },
  {
   "cell_type": "code",
   "execution_count": 7,
   "metadata": {},
   "outputs": [
    {
     "data": {
      "text/plain": [
       "9"
      ]
     },
     "execution_count": 7,
     "metadata": {},
     "output_type": "execute_result"
    }
   ],
   "source": [
    "CLASS.adder(4)"
   ]
  },
  {
   "cell_type": "markdown",
   "metadata": {},
   "source": [
    "# 3. Класс как создатель объектов\n"
   ]
  },
  {
   "cell_type": "code",
   "execution_count": 8,
   "metadata": {},
   "outputs": [],
   "source": [
    "Object = CLASS()"
   ]
  },
  {
   "cell_type": "code",
   "execution_count": 9,
   "metadata": {},
   "outputs": [
    {
     "data": {
      "text/plain": [
       "5"
      ]
     },
     "execution_count": 9,
     "metadata": {},
     "output_type": "execute_result"
    }
   ],
   "source": [
    "Object.const"
   ]
  },
  {
   "cell_type": "code",
   "execution_count": 10,
   "metadata": {},
   "outputs": [
    {
     "ename": "TypeError",
     "evalue": "adder() takes 1 positional argument but 2 were given",
     "output_type": "error",
     "traceback": [
      "\u001b[0;31m---------------------------------------------------------------------------\u001b[0m",
      "\u001b[0;31mTypeError\u001b[0m                                 Traceback (most recent call last)",
      "\u001b[0;32m<ipython-input-10-a429ef67cab4>\u001b[0m in \u001b[0;36m<module>\u001b[0;34m\u001b[0m\n\u001b[0;32m----> 1\u001b[0;31m \u001b[0mObject\u001b[0m\u001b[0;34m.\u001b[0m\u001b[0madder\u001b[0m\u001b[0;34m(\u001b[0m\u001b[0;36m100\u001b[0m\u001b[0;34m)\u001b[0m\u001b[0;34m\u001b[0m\u001b[0;34m\u001b[0m\u001b[0m\n\u001b[0m",
      "\u001b[0;31mTypeError\u001b[0m: adder() takes 1 positional argument but 2 were given"
     ]
    }
   ],
   "source": [
    "Object.adder(100)"
   ]
  },
  {
   "cell_type": "markdown",
   "metadata": {},
   "source": [
    "Дело в том, что классы и объекты не просто модули. Класс создает объекты, которые в определенном смысле являются его наследниками (копиями). \n",
    "\n",
    "Это значит, что если у объекта нет собственного поля `const`, то интерпретатор ищет его уровнем выше, то есть в классе. Таким образом, если мы присваиваем объекту поле с таким же именем как в классе, то оно перекрывает, т. е. переопределяет, поле класса:"
   ]
  },
  {
   "cell_type": "code",
   "execution_count": 11,
   "metadata": {},
   "outputs": [
    {
     "data": {
      "text/plain": [
       "5"
      ]
     },
     "execution_count": 11,
     "metadata": {},
     "output_type": "execute_result"
    }
   ],
   "source": [
    "Object.const"
   ]
  },
  {
   "cell_type": "code",
   "execution_count": 12,
   "metadata": {},
   "outputs": [
    {
     "data": {
      "text/plain": [
       "10"
      ]
     },
     "execution_count": 12,
     "metadata": {},
     "output_type": "execute_result"
    }
   ],
   "source": [
    "Object.const = 10\n",
    "Object.const"
   ]
  },
  {
   "cell_type": "code",
   "execution_count": 13,
   "metadata": {},
   "outputs": [
    {
     "data": {
      "text/plain": [
       "5"
      ]
     },
     "execution_count": 13,
     "metadata": {},
     "output_type": "execute_result"
    }
   ],
   "source": [
    "CLASS.const"
   ]
  },
  {
   "cell_type": "markdown",
   "metadata": {},
   "source": [
    "Видно, что `Object.const` и `CLASS.const` – это разные переменные. \n",
    "\n",
    "`Object.const` находится в пространстве имен объекта `Object`. \n",
    "\n",
    "`CLASS.const` – в пространстве класса `CLASS`. \n",
    "\n",
    "Если не задавать поле `const` объекту `Object`, то интерпретатор поднимется выше по дереву наследования и придет в класс, где и найдет это поле.\n",
    "\n",
    "Методы также наследуются объектами класса. В данном случае у объекта `Object` нет своего собственного метода `adder`, поэтому он ищется в классе `CLASS`. Однако от класса может быть порождено множество объектов. И методы предназначаются для обработки объектов. Таким образом, когда вызывается метод, в него надо передать конкретный объект, который он будет обрабатывать.\n",
    "\n",
    "\n",
    "Выражение Object.adder(100) выполняется интерпретатором следующим образом:\n",
    "\n",
    "- Ищу атрибут `adder()` у объекта `Object`. Не нахожу.\n",
    "- Тогда иду искать в класс `CLASS`, так как он создал объект `Object`.\n",
    "- Здесь нахожу искомый метод. Передаю ему объект, к которому этот метод надо применить, и аргумент, указанный в скобках.\n",
    "\n",
    "Другими словами, выражение `Object.adder(100)` преобразуется в выражение `CLASS.adder(Object, 100)`.\n",
    "\n",
    "Таким образом, интерпретатор попытался передать в метод `adder()` класса `CLASS` два параметра – объект `Object` и число `100`. Но мы запрограммировали метод `adder()` так, что он принимает только один параметр. "
   ]
  },
  {
   "cell_type": "markdown",
   "metadata": {},
   "source": [
    "Однако:"
   ]
  },
  {
   "cell_type": "code",
   "execution_count": 14,
   "metadata": {},
   "outputs": [
    {
     "ename": "TypeError",
     "evalue": "unsupported operand type(s) for +: 'CLASS' and 'int'",
     "output_type": "error",
     "traceback": [
      "\u001b[0;31m---------------------------------------------------------------------------\u001b[0m",
      "\u001b[0;31mTypeError\u001b[0m                                 Traceback (most recent call last)",
      "\u001b[0;32m<ipython-input-14-8dbee6400c4b>\u001b[0m in \u001b[0;36m<module>\u001b[0;34m\u001b[0m\n\u001b[0;32m----> 1\u001b[0;31m \u001b[0mObject\u001b[0m\u001b[0;34m.\u001b[0m\u001b[0madder\u001b[0m\u001b[0;34m(\u001b[0m\u001b[0;34m)\u001b[0m\u001b[0;34m\u001b[0m\u001b[0;34m\u001b[0m\u001b[0m\n\u001b[0m",
      "\u001b[0;32m<ipython-input-5-369e345f4c97>\u001b[0m in \u001b[0;36madder\u001b[0;34m(v)\u001b[0m\n\u001b[1;32m      2\u001b[0m     \u001b[0mconst\u001b[0m \u001b[0;34m=\u001b[0m \u001b[0;36m5\u001b[0m              \u001b[0;31m# атрибут класса\u001b[0m\u001b[0;34m\u001b[0m\u001b[0;34m\u001b[0m\u001b[0m\n\u001b[1;32m      3\u001b[0m     \u001b[0;32mdef\u001b[0m \u001b[0madder\u001b[0m\u001b[0;34m(\u001b[0m\u001b[0mv\u001b[0m\u001b[0;34m)\u001b[0m\u001b[0;34m:\u001b[0m          \u001b[0;31m# функция-метод\u001b[0m\u001b[0;34m\u001b[0m\u001b[0;34m\u001b[0m\u001b[0m\n\u001b[0;32m----> 4\u001b[0;31m         \u001b[0;32mreturn\u001b[0m \u001b[0mv\u001b[0m \u001b[0;34m+\u001b[0m \u001b[0mCLASS\u001b[0m\u001b[0;34m.\u001b[0m\u001b[0mconst\u001b[0m\u001b[0;34m\u001b[0m\u001b[0;34m\u001b[0m\u001b[0m\n\u001b[0m",
      "\u001b[0;31mTypeError\u001b[0m: unsupported operand type(s) for +: 'CLASS' and 'int'"
     ]
    }
   ],
   "source": [
    "Object.adder()"
   ]
  },
  {
   "cell_type": "markdown",
   "metadata": {},
   "source": [
    "Получается странная ситуация. Ведь `adder()` вызывается не только через класс, но и через порожденные от него объекты. Однако в последнем случае всегда будет возникать ошибка.\n",
    "\n",
    "Может понадобиться метод с параметрами, но которому не надо передавать экземпляр данного класса. Для таких ситуаций предназначены статические методы. Такие методы могут вызываться через объекты данного класса, но сам объект в качестве аргумента в них не передается.\n",
    "\n",
    "В Python острой необходимости в статических методах нет, так как код может находиться за пределами класса, и программа не начинает выполняться из класса. Если нам нужна просто какая-нибудь функция, мы можем определить ее в основной ветке. Однако в Python тоже можно реализовать статические методы с помощью декоратора `@staticmethod`:"
   ]
  },
  {
   "cell_type": "code",
   "execution_count": 15,
   "metadata": {},
   "outputs": [],
   "source": [
    "class CLASS:\n",
    "    const = 5              # атрибут класса\n",
    "    @staticmethod    \n",
    "    def adder(v):          # функция-метод\n",
    "        return v + CLASS.const"
   ]
  },
  {
   "cell_type": "code",
   "execution_count": 16,
   "metadata": {},
   "outputs": [],
   "source": [
    "Object = CLASS()"
   ]
  },
  {
   "cell_type": "code",
   "execution_count": 17,
   "metadata": {},
   "outputs": [
    {
     "data": {
      "text/plain": [
       "10"
      ]
     },
     "execution_count": 17,
     "metadata": {},
     "output_type": "execute_result"
    }
   ],
   "source": [
    "Object.adder(5)"
   ]
  },
  {
   "cell_type": "markdown",
   "metadata": {},
   "source": [
    "Статические методы в Python – это, по сути, обычные функции, помещенные в класс для удобства и находящиеся в пространстве имен этого класса. Это может быть какой-то вспомогательный код.\n",
    "\n",
    "Вообще, если в теле метода не используется ссылка на конкретный объект (чаще всего обозначаемый как `self`), имеет смысл сделать метод статическим."
   ]
  },
  {
   "cell_type": "markdown",
   "metadata": {},
   "source": [
    "# 4. Изменение полей объекта\n",
    "\n",
    "В Python объекту можно не только переопределять поля и методы, унаследованные от класса, также можно добавить новые, которых нет в классе:"
   ]
  },
  {
   "cell_type": "code",
   "execution_count": 18,
   "metadata": {},
   "outputs": [],
   "source": [
    "Object1 = CLASS()\n",
    "Object2 = CLASS()"
   ]
  },
  {
   "cell_type": "code",
   "execution_count": 19,
   "metadata": {},
   "outputs": [
    {
     "data": {
      "text/plain": [
       "'abcd'"
      ]
     },
     "execution_count": 19,
     "metadata": {},
     "output_type": "execute_result"
    }
   ],
   "source": [
    "Object2.str = 'abcd'\n",
    "Object2.str"
   ]
  },
  {
   "cell_type": "code",
   "execution_count": 20,
   "metadata": {},
   "outputs": [
    {
     "ename": "AttributeError",
     "evalue": "'CLASS' object has no attribute 'str'",
     "output_type": "error",
     "traceback": [
      "\u001b[0;31m---------------------------------------------------------------------------\u001b[0m",
      "\u001b[0;31mAttributeError\u001b[0m                            Traceback (most recent call last)",
      "\u001b[0;32m<ipython-input-20-4c0e66b6a35f>\u001b[0m in \u001b[0;36m<module>\u001b[0;34m\u001b[0m\n\u001b[0;32m----> 1\u001b[0;31m \u001b[0mObject1\u001b[0m\u001b[0;34m.\u001b[0m\u001b[0mstr\u001b[0m\u001b[0;34m\u001b[0m\u001b[0;34m\u001b[0m\u001b[0m\n\u001b[0m",
      "\u001b[0;31mAttributeError\u001b[0m: 'CLASS' object has no attribute 'str'"
     ]
    }
   ],
   "source": [
    "Object1.str"
   ]
  },
  {
   "cell_type": "code",
   "execution_count": 21,
   "metadata": {},
   "outputs": [
    {
     "ename": "AttributeError",
     "evalue": "type object 'CLASS' has no attribute 'str'",
     "output_type": "error",
     "traceback": [
      "\u001b[0;31m---------------------------------------------------------------------------\u001b[0m",
      "\u001b[0;31mAttributeError\u001b[0m                            Traceback (most recent call last)",
      "\u001b[0;32m<ipython-input-21-ea8f82a65dfb>\u001b[0m in \u001b[0;36m<module>\u001b[0;34m\u001b[0m\n\u001b[0;32m----> 1\u001b[0;31m \u001b[0mCLASS\u001b[0m\u001b[0;34m.\u001b[0m\u001b[0mstr\u001b[0m\u001b[0;34m\u001b[0m\u001b[0;34m\u001b[0m\u001b[0m\n\u001b[0m",
      "\u001b[0;31mAttributeError\u001b[0m: type object 'CLASS' has no attribute 'str'"
     ]
    }
   ],
   "source": [
    "CLASS.str"
   ]
  },
  {
   "cell_type": "markdown",
   "metadata": {},
   "source": [
    "Однако в программировании так делать не принято, потому что тогда объекты одного класса будут отличаться между собой по набору атрибутов. Это затруднит автоматизацию их обработки, внесет в программу хаос.\n",
    "\n",
    "Поэтому принято присваивать полям, а также получать их значения, путем вызова методов (сеттеров (`set` – установить) и геттеров (`get` – получить)):"
   ]
  },
  {
   "cell_type": "code",
   "execution_count": 22,
   "metadata": {},
   "outputs": [],
   "source": [
    "class CLASS:\n",
    "    def setName(self, n):\n",
    "        self.name = n \n",
    "    def getName(self):\n",
    "        try:\n",
    "            return self.name\n",
    "        except:\n",
    "            return \"No name\""
   ]
  },
  {
   "cell_type": "code",
   "execution_count": 23,
   "metadata": {},
   "outputs": [],
   "source": [
    "first = CLASS()\n",
    "second = CLASS()"
   ]
  },
  {
   "cell_type": "code",
   "execution_count": 24,
   "metadata": {},
   "outputs": [
    {
     "data": {
      "text/plain": [
       "'Bob'"
      ]
     },
     "execution_count": 24,
     "metadata": {},
     "output_type": "execute_result"
    }
   ],
   "source": [
    "first.setName(\"Bob\")\n",
    "first.getName()"
   ]
  },
  {
   "cell_type": "code",
   "execution_count": 25,
   "metadata": {},
   "outputs": [
    {
     "name": "stdout",
     "output_type": "stream",
     "text": [
      "No name\n"
     ]
    }
   ],
   "source": [
    "print(second.getName())"
   ]
  },
  {
   "cell_type": "markdown",
   "metadata": {},
   "source": [
    "# 5. Специальные методы\n",
    "\n",
    "# 5.1. Конструктор класса (метод `__init__()`)\n",
    "\n",
    "В объектно-ориентированном программировании конструктором класса называют метод, который автоматически вызывается при создании объектов. Его также можно назвать конструктором объектов класса. Имя такого метода обычно регламентируется синтаксисом конкретного языка программирования. \n",
    "\n",
    "В Python роль конструктора играет метод `__init__()`.\n",
    "\n",
    "В Python наличие пар знаков подчеркивания спереди и сзади в имени метода говорит о том, что он принадлежит к группе методов перегрузки операторов. Если подобные методы определены в классе, то объекты могут участвовать в таких операциях, как сложение, вычитание, вызываться в качестве функций и др.\n",
    "\n",
    "При этом методы перегрузки операторов не надо вызывать по имени. Вызовом для них является сам факт участия объекта в определенной операции. В случае конструктора класса – это операция создания объекта. Так как объект создается в момент вызова класса по имени, то в этот момент вызывается метод `__init__()`, если он определен в классе.\n",
    "\n",
    "Необходимость конструкторов связана с тем, что нередко объекты должны иметь собственные свойства сразу. \n",
    "\n",
    "Пусть имеется класс `Person`, объекты которого обязательно должны иметь имя и фамилию:"
   ]
  },
  {
   "cell_type": "code",
   "execution_count": 1,
   "metadata": {},
   "outputs": [],
   "source": [
    "class Person:\n",
    "    def setName(self, n, s):\n",
    "        self.name = n\n",
    "        self.surname = s"
   ]
  },
  {
   "cell_type": "code",
   "execution_count": 2,
   "metadata": {},
   "outputs": [],
   "source": [
    "p1 = Person()\n",
    "p1.setName(\"Bill\", \"Ross\")"
   ]
  },
  {
   "cell_type": "markdown",
   "metadata": {},
   "source": [
    "Или:"
   ]
  },
  {
   "cell_type": "code",
   "execution_count": 3,
   "metadata": {},
   "outputs": [],
   "source": [
    "class Person:\n",
    "    def __init__(self, n, s):\n",
    "        self.name = n\n",
    "        self.surname = s"
   ]
  },
  {
   "cell_type": "markdown",
   "metadata": {},
   "source": [
    "В свою очередь, конструктор класса не позволит создать объект без обязательных полей:"
   ]
  },
  {
   "cell_type": "code",
   "execution_count": 4,
   "metadata": {},
   "outputs": [
    {
     "ename": "TypeError",
     "evalue": "__init__() missing 2 required positional arguments: 'n' and 's'",
     "output_type": "error",
     "traceback": [
      "\u001b[0;31m---------------------------------------------------------------------------\u001b[0m",
      "\u001b[0;31mTypeError\u001b[0m                                 Traceback (most recent call last)",
      "\u001b[0;32m<ipython-input-4-926e2872c3d8>\u001b[0m in \u001b[0;36m<module>\u001b[0;34m\u001b[0m\n\u001b[0;32m----> 1\u001b[0;31m \u001b[0mp2\u001b[0m \u001b[0;34m=\u001b[0m \u001b[0mPerson\u001b[0m\u001b[0;34m(\u001b[0m\u001b[0;34m)\u001b[0m\u001b[0;34m\u001b[0m\u001b[0;34m\u001b[0m\u001b[0m\n\u001b[0m",
      "\u001b[0;31mTypeError\u001b[0m: __init__() missing 2 required positional arguments: 'n' and 's'"
     ]
    }
   ],
   "source": [
    "p2 = Person()"
   ]
  },
  {
   "cell_type": "code",
   "execution_count": 5,
   "metadata": {},
   "outputs": [
    {
     "name": "stdout",
     "output_type": "stream",
     "text": [
      "Sam Baker\n"
     ]
    }
   ],
   "source": [
    "p2 = Person(\"Sam\", \"Baker\")\n",
    "print(p2.name, p2.surname)"
   ]
  },
  {
   "cell_type": "markdown",
   "metadata": {},
   "source": [
    "Однако бывает, что надо допустить создание объекта, даже если никакие данные в конструктор не передаются. В таком случае параметрам конструктора класса задаются значения по умолчанию:"
   ]
  },
  {
   "cell_type": "code",
   "execution_count": 6,
   "metadata": {},
   "outputs": [],
   "source": [
    "class Rectangle:\n",
    "    def __init__(self, w = 0.5, h = 1):\n",
    "        self.width = w\n",
    "        self.height = h\n",
    "    def square(self):\n",
    "        return self.width * self.height"
   ]
  },
  {
   "cell_type": "code",
   "execution_count": 7,
   "metadata": {},
   "outputs": [
    {
     "name": "stdout",
     "output_type": "stream",
     "text": [
      "10\n",
      "0.5\n",
      "3\n",
      "2.0\n"
     ]
    }
   ],
   "source": [
    "rec1 = Rectangle(5, 2)\n",
    "rec2 = Rectangle()\n",
    "rec3 = Rectangle(3)\n",
    "rec4 = Rectangle(h = 4)\n",
    "\n",
    "print(rec1.square())\n",
    "print(rec2.square())\n",
    "print(rec3.square())\n",
    "print(rec4.square())"
   ]
  },
  {
   "cell_type": "markdown",
   "metadata": {},
   "source": [
    "# 5.2. Конструктор и деструктор\n",
    "\n",
    "Помимо конструктора объектов, в языках программирования есть обратный ему метод – деструктор. Он вызывается для уничтожения объекта.\n",
    "\n",
    "В языке программирования Python объект уничтожается, когда исчезают все связанные с ним переменные или им присваивается другое значение, в результате чего связь со старым объектом теряется. Удалить переменную можно с помощью команды языка `del`.\n",
    "\n",
    "В классах Python функцию деструктора выполняет метод `__del__()`."
   ]
  },
  {
   "cell_type": "code",
   "execution_count": 8,
   "metadata": {},
   "outputs": [],
   "source": [
    "class Student:\n",
    " \n",
    "    def __init__(self, name, surname, position=1):\n",
    "        self.name = name\n",
    "        self.surname = surname\n",
    "        self.position = position\n",
    " \n",
    "    def display(self):\n",
    "        return self.name, self.surname, self.position\n",
    " \n",
    "    def __del__(self):\n",
    "        print (\"Goodbye %s %s\" %(self.name, self.surname))"
   ]
  },
  {
   "cell_type": "code",
   "execution_count": 9,
   "metadata": {},
   "outputs": [],
   "source": [
    "p1 = Student('big', 'dude', 3) \n",
    "p2 = Student('small', 'croon', 4)\n",
    "p3 = Student('neutral', 'guy', 5)"
   ]
  },
  {
   "cell_type": "code",
   "execution_count": 10,
   "metadata": {},
   "outputs": [
    {
     "name": "stdout",
     "output_type": "stream",
     "text": [
      "('big', 'dude', 3)\n",
      "('small', 'croon', 4)\n",
      "('neutral', 'guy', 5)\n"
     ]
    }
   ],
   "source": [
    "print (p1.display())\n",
    "print (p2.display())\n",
    "print (p3.display())"
   ]
  },
  {
   "cell_type": "code",
   "execution_count": 11,
   "metadata": {},
   "outputs": [
    {
     "name": "stdout",
     "output_type": "stream",
     "text": [
      "Goodbye small croon\n"
     ]
    }
   ],
   "source": [
    "del p2"
   ]
  },
  {
   "cell_type": "code",
   "execution_count": 12,
   "metadata": {},
   "outputs": [
    {
     "ename": "NameError",
     "evalue": "name 'p2' is not defined",
     "output_type": "error",
     "traceback": [
      "\u001b[0;31m---------------------------------------------------------------------------\u001b[0m",
      "\u001b[0;31mNameError\u001b[0m                                 Traceback (most recent call last)",
      "\u001b[0;32m<ipython-input-12-d5edf51d2bf7>\u001b[0m in \u001b[0;36m<module>\u001b[0;34m\u001b[0m\n\u001b[0;32m----> 1\u001b[0;31m \u001b[0mprint\u001b[0m\u001b[0;34m(\u001b[0m\u001b[0mp2\u001b[0m\u001b[0;34m.\u001b[0m\u001b[0mdisplay\u001b[0m\u001b[0;34m(\u001b[0m\u001b[0;34m)\u001b[0m\u001b[0;34m)\u001b[0m\u001b[0;34m\u001b[0m\u001b[0;34m\u001b[0m\u001b[0m\n\u001b[0m",
      "\u001b[0;31mNameError\u001b[0m: name 'p2' is not defined"
     ]
    }
   ],
   "source": [
    "print(p2.display())"
   ]
  },
  {
   "cell_type": "markdown",
   "metadata": {},
   "source": [
    "# 5.3. Специальные методы"
   ]
  },
  {
   "cell_type": "markdown",
   "metadata": {},
   "source": [
    "В Python есть ряд зарезервированных имен методов создаваемого класса – специальные (или стандартные) методы.\n",
    "\n",
    "Более подробную информацию о них вы можете найти в соответствующей [документации по Python](https://docs.python.org/3/reference/datamodel.html).\n",
    "\n",
    "Например:\n",
    "\n",
    "`__bool__()`\n",
    "\n",
    "Возвращает True или False.\n",
    "\n",
    "`__call__()`\n",
    "\n",
    "Позволяет использовать объект как функцию, т.е. его можно вызвать.\n",
    "\n",
    "`__len__()`\n",
    "\n",
    "Чаще всего реализуется в коллекциях и сходными с ними по логике работы типами, которые позволяют хранить наборы данных. Для списка (`list`) `__len__()` возвращает количество элементов в списке, для строки – количество символов в строке. Вызывается функцией `len()`, встроенной в язык Python."
   ]
  },
  {
   "cell_type": "markdown",
   "metadata": {},
   "source": [
    "# Метод `__setattr__()`\n",
    "\n",
    "В Python атрибуты объекту можно назначать за пределами класса:"
   ]
  },
  {
   "cell_type": "code",
   "execution_count": 13,
   "metadata": {},
   "outputs": [],
   "source": [
    "class A:\n",
    "    def __init__(self, v):\n",
    "        self.field1 = v"
   ]
  },
  {
   "cell_type": "code",
   "execution_count": 14,
   "metadata": {},
   "outputs": [
    {
     "name": "stdout",
     "output_type": "stream",
     "text": [
      "10 20\n"
     ]
    }
   ],
   "source": [
    "a = A(10)\n",
    "a.field2 = 20\n",
    "print(a.field1, a.field2)"
   ]
  },
  {
   "cell_type": "markdown",
   "metadata": {},
   "source": [
    "Если такое поведение нежелательно, его можно запретить с помощью метода перегрузки оператора присваивания атрибуту `__setattr__()`:"
   ]
  },
  {
   "cell_type": "code",
   "execution_count": 18,
   "metadata": {},
   "outputs": [],
   "source": [
    "class A:\n",
    "    def __init__(self, v):\n",
    "        self.field1 = v\n",
    "    def __setattr__(self, attr, value):\n",
    "        if attr == 'field1':\n",
    "            self.__dict__[attr] = value\n",
    "        else:\n",
    "            raise AttributeError('Произошло обращение к несуществующему атрибуту!')"
   ]
  },
  {
   "cell_type": "code",
   "execution_count": 19,
   "metadata": {},
   "outputs": [
    {
     "data": {
      "text/plain": [
       "15"
      ]
     },
     "execution_count": 19,
     "metadata": {},
     "output_type": "execute_result"
    }
   ],
   "source": [
    "a = A(15)\n",
    "a.field1"
   ]
  },
  {
   "cell_type": "code",
   "execution_count": 20,
   "metadata": {},
   "outputs": [
    {
     "ename": "AttributeError",
     "evalue": "Произошло обращение к несуществующему атрибуту!",
     "output_type": "error",
     "traceback": [
      "\u001b[0;31m---------------------------------------------------------------------------\u001b[0m",
      "\u001b[0;31mAttributeError\u001b[0m                            Traceback (most recent call last)",
      "\u001b[0;32m<ipython-input-20-da40e0c4d08b>\u001b[0m in \u001b[0;36m<module>\u001b[0;34m\u001b[0m\n\u001b[0;32m----> 1\u001b[0;31m \u001b[0ma\u001b[0m\u001b[0;34m.\u001b[0m\u001b[0mfield2\u001b[0m \u001b[0;34m=\u001b[0m \u001b[0;36m30\u001b[0m\u001b[0;34m\u001b[0m\u001b[0;34m\u001b[0m\u001b[0m\n\u001b[0m",
      "\u001b[0;32m<ipython-input-18-2388f9a63319>\u001b[0m in \u001b[0;36m__setattr__\u001b[0;34m(self, attr, value)\u001b[0m\n\u001b[1;32m      6\u001b[0m             \u001b[0mself\u001b[0m\u001b[0;34m.\u001b[0m\u001b[0m__dict__\u001b[0m\u001b[0;34m[\u001b[0m\u001b[0mattr\u001b[0m\u001b[0;34m]\u001b[0m \u001b[0;34m=\u001b[0m \u001b[0mvalue\u001b[0m\u001b[0;34m\u001b[0m\u001b[0;34m\u001b[0m\u001b[0m\n\u001b[1;32m      7\u001b[0m         \u001b[0;32melse\u001b[0m\u001b[0;34m:\u001b[0m\u001b[0;34m\u001b[0m\u001b[0;34m\u001b[0m\u001b[0m\n\u001b[0;32m----> 8\u001b[0;31m             \u001b[0;32mraise\u001b[0m \u001b[0mAttributeError\u001b[0m\u001b[0;34m(\u001b[0m\u001b[0;34m'Произошло обращение к несуществующему атрибуту!'\u001b[0m\u001b[0;34m)\u001b[0m\u001b[0;34m\u001b[0m\u001b[0;34m\u001b[0m\u001b[0m\n\u001b[0m",
      "\u001b[0;31mAttributeError\u001b[0m: Произошло обращение к несуществующему атрибуту!"
     ]
    }
   ],
   "source": [
    "a.field2 = 30"
   ]
  },
  {
   "cell_type": "code",
   "execution_count": 21,
   "metadata": {},
   "outputs": [
    {
     "ename": "AttributeError",
     "evalue": "'A' object has no attribute 'field2'",
     "output_type": "error",
     "traceback": [
      "\u001b[0;31m---------------------------------------------------------------------------\u001b[0m",
      "\u001b[0;31mAttributeError\u001b[0m                            Traceback (most recent call last)",
      "\u001b[0;32m<ipython-input-21-523eeb45ccfb>\u001b[0m in \u001b[0;36m<module>\u001b[0;34m\u001b[0m\n\u001b[0;32m----> 1\u001b[0;31m \u001b[0ma\u001b[0m\u001b[0;34m.\u001b[0m\u001b[0mfield2\u001b[0m\u001b[0;34m\u001b[0m\u001b[0;34m\u001b[0m\u001b[0m\n\u001b[0m",
      "\u001b[0;31mAttributeError\u001b[0m: 'A' object has no attribute 'field2'"
     ]
    }
   ],
   "source": [
    "a.field2"
   ]
  },
  {
   "cell_type": "code",
   "execution_count": 22,
   "metadata": {},
   "outputs": [
    {
     "data": {
      "text/plain": [
       "{'field1': 15}"
      ]
     },
     "execution_count": 22,
     "metadata": {},
     "output_type": "execute_result"
    }
   ],
   "source": [
    "a.__dict__"
   ]
  },
  {
   "cell_type": "markdown",
   "metadata": {},
   "source": [
    "Метод `__setattr__()`, если он присутствует в классе, вызывается всегда, когда какому-либо атрибуту выполняется присваивание. Обратите внимание, что присвоение несуществующему атрибуту также обозначает его добавление к объекту.\n",
    "\n",
    "Когда создается объект `a`, в конструктор передается число `15`. Здесь для объекта заводится атрибут `field1`. Факт попытки присвоения ему значения тут же отправляет интерпретатор в метод `__setattr__()`, где проверяется, соответствует ли имя атрибута строке `'field1'`. Если так, то атрибут и соответствующее ему значение добавляются в словарь атрибутов объекта.\n",
    "\n",
    "Нельзя в `__setattr__()` написать просто `self.field1 = value`, так как это приведет к новому рекурсивному вызову метода `__setattr__()`. Поэтому поле назначается через словарь `__dict__`, который есть у всех объектов, и в котором хранятся их атрибуты со значениями.\n",
    "\n",
    "Если параметр `attr` не соответствует допустимым полям, то искусственно возбуждается исключение `AttributeError`. Мы это видим, когда в основной ветке пытаемся обзавестись полем `field2`."
   ]
  },
  {
   "cell_type": "markdown",
   "metadata": {},
   "source": [
    "# Пример 1. Числа Фибоначчи\n",
    "\n",
    "Последовательность чисел Фибоначчи задаётся рекуррентным выражением:\n",
    "\n",
    "$$ F_n =  \\begin{cases}\n",
    "           0, n = 0, \\\\\n",
    "           1, n = 1, \\\\\n",
    "           F_{n-1}+F_{n-2}, n > 1.\n",
    "          \\end{cases} $$\n",
    "\n",
    "Что даёт следующую последовательность: {0, 1, 1, 2, 3, 5, 8, 13, 21, 34, …}."
   ]
  },
  {
   "cell_type": "markdown",
   "metadata": {},
   "source": [
    "Один из способов решения, который может показаться логичным и эффективным, — решение с помощью рекурсии:"
   ]
  },
  {
   "cell_type": "code",
   "execution_count": 23,
   "metadata": {},
   "outputs": [],
   "source": [
    "def Fibonacci_Recursion(n):\n",
    "    if n == 0:\n",
    "        return 0\n",
    "    if n == 1:\n",
    "        return 1\n",
    "    return Fibonacci_Recursion (n-1) + Fibonacci_Recursion (n-2)"
   ]
  },
  {
   "cell_type": "markdown",
   "metadata": {},
   "source": [
    "Используя такую функцию, мы будем решать задачу «с конца» — будем шаг за шагом уменьшать n, пока не дойдем до известных значений.\n",
    "\n",
    "Но, как мы видели ранее эта реализация многократно повторяет решение одних и тех же задач. Это связано с тем, что одни и те же промежуточные данные вычисляются по несколько раз, а число операций нарастает с той же скоростью, с какой растут числа Фибоначчи — экспоненциально.\n",
    "\n",
    "Один из выходов из данной ситуации — сохранение уже найденных промежуточных результатов с целью их повторного использования (кеширование). Причём кеш должен храниться во внешней области памяти."
   ]
  },
  {
   "cell_type": "code",
   "execution_count": 24,
   "metadata": {},
   "outputs": [],
   "source": [
    "def Fibonacci_Recursion_cache(n, cache):\n",
    "    if n == 0:\n",
    "        return 0\n",
    "    if n == 1:\n",
    "        return 1\n",
    "    if cache[n] > 0:\n",
    "        return cache[n]\n",
    "    cache[n] = Fibonacci_Recursion_cache (n-1, cache) + Fibonacci_Recursion_cache (n-2, cache)\n",
    "    return cache[n]"
   ]
  },
  {
   "cell_type": "markdown",
   "metadata": {},
   "source": [
    "Приведенное решение достаточно эффективно (за исключением накладных расходов на вызов функций). Но можно поступить ещё проще:"
   ]
  },
  {
   "cell_type": "code",
   "execution_count": 25,
   "metadata": {},
   "outputs": [],
   "source": [
    "def Fibonacci(n):\n",
    "    fib = [0]*max(2,n)\n",
    "    fib[0] = 1\n",
    "    fib[1] = 1\n",
    "    for i in range(2, n):\n",
    "        fib[i] = fib[i - 1] + fib[i - 2]\n",
    "\n",
    "    return fib[n-1]"
   ]
  },
  {
   "cell_type": "markdown",
   "metadata": {},
   "source": [
    "Такое решение можно назвать решением «с начала» — мы первым делом заполняем известные значения, затем находим первое неизвестное значение, потом следующее и т.д., пока не дойдем до нужного.\n",
    "\n",
    "Так и работает динамическое программирование: сначала решили все подзадачи (нашли все `F[i]` для `i < n`), затем, зная решения подзадач, нашли решение исходной задачи."
   ]
  },
  {
   "cell_type": "markdown",
   "metadata": {},
   "source": [
    "# Упражнение 1\n",
    "\n",
    "Создайте класс для вычисления чисел Фибоначчи. Каждое число Фибоначчи является объектом этого класса, которое имеет атрибуты: значение и номер. Используйте функции для инициализации (вычисления) чисел Фибоначчи как сторонние по отношению к этому классу."
   ]
  },
  {
   "cell_type": "code",
   "execution_count": 26,
   "metadata": {},
   "outputs": [],
   "source": [
    "class Fiber:\n",
    "    n = 1\n",
    "    def __init__(self, n):\n",
    "        self.n = n\n",
    "    def calculate(self):\n",
    "        return Fibonacci(self.n)"
   ]
  },
  {
   "cell_type": "code",
   "execution_count": 27,
   "metadata": {},
   "outputs": [
    {
     "name": "stdout",
     "output_type": "stream",
     "text": [
      "Введите необходимое число: 12\n",
      "144\n"
     ]
    }
   ],
   "source": [
    "k = Fiber(int(input('Введите необходимое число: ')))\n",
    "print(k.calculate())"
   ]
  },
  {
   "cell_type": "markdown",
   "metadata": {},
   "source": [
    "# Упражнение 2\n",
    "\n",
    "Поместите функции для вычисления чисел Фибоначчи внутрь созданного класса как статические функции."
   ]
  },
  {
   "cell_type": "code",
   "execution_count": 28,
   "metadata": {},
   "outputs": [],
   "source": [
    "class Fiber2:\n",
    "    # метод без @staticmethod, но принимает только число и не требует объекта\n",
    "    def calculate(n):\n",
    "        fib = [0]*max(2,n)\n",
    "        fib[0] = 1\n",
    "        fib[1] = 1\n",
    "        for i in range(2, n):\n",
    "            fib[i] = fib[i - 1] + fib[i - 2]\n",
    "        return fib[n-1]"
   ]
  },
  {
   "cell_type": "code",
   "execution_count": 29,
   "metadata": {},
   "outputs": [
    {
     "name": "stdout",
     "output_type": "stream",
     "text": [
      "Введите необходимое число: 12\n",
      "144\n"
     ]
    }
   ],
   "source": [
    "# пример использования:\n",
    "print(Fiber2.calculate(int(input('Введите необходимое число: '))))"
   ]
  },
  {
   "cell_type": "markdown",
   "metadata": {},
   "source": [
    "# Упражнение 3\n",
    "\n",
    "Перегрузите операции сложения, вычитания, умножения и деления для созданного класса как операции с номерами чисел Фибоначи."
   ]
  },
  {
   "cell_type": "code",
   "execution_count": 30,
   "metadata": {},
   "outputs": [],
   "source": [
    "class FiberSuper:\n",
    "    def __init__(self, n):\n",
    "        self.setNumber(n)\n",
    "    \n",
    "    def setNumber(self, n):\n",
    "        self.n = n\n",
    "        self.fib = Fiber2.calculate(n)\n",
    "    \n",
    "    def getNumber(self):\n",
    "        return self.n\n",
    "    \n",
    "    def getFibonacci(self):\n",
    "        return self.fib\n",
    "    \n",
    "    def __add__(self1, self2):\n",
    "        return FiberSuper(self1.n + self2.n)\n",
    "    \n",
    "    def __mul__(self1, self2):\n",
    "        return FiberSuper(self1.n * self2.n)\n",
    "    \n",
    "    def __sub__(self1, self2):\n",
    "        return FiberSuper(abs(self1.n - self2.n))\n",
    "    \n",
    "    def __truediv__(self1, self2):\n",
    "        return FiberSuper(self1.n // self2.n)"
   ]
  },
  {
   "cell_type": "code",
   "execution_count": 31,
   "metadata": {},
   "outputs": [
    {
     "name": "stdout",
     "output_type": "stream",
     "text": [
      "k1:  16  -  987\n",
      "k2:  8  -  21\n",
      "k1 + k2:  24  -  46368\n",
      "k1 * k2:  128  -  251728825683549488150424261\n",
      "k1 - k2:  8  -  21\n",
      "k1 / k2:  2  -  1\n"
     ]
    }
   ],
   "source": [
    "k1 = FiberSuper(16)\n",
    "k2 = FiberSuper(8)\n",
    "\n",
    "print('k1: ', k1.getNumber(), ' - ', k1.getFibonacci())\n",
    "print('k2: ', k2.getNumber(), ' - ', k2.getFibonacci())\n",
    "\n",
    "print('k1 + k2: ', (k1 + k2).getNumber(), ' - ', (k1 + k2).getFibonacci())\n",
    "print('k1 * k2: ', (k1 * k2).getNumber(), ' - ', (k1 * k2).getFibonacci())\n",
    "print('k1 - k2: ', (k1 - k2).getNumber(), ' - ', (k1 - k2).getFibonacci())\n",
    "print('k1 / k2: ', (k1 / k2).getNumber(), ' - ', (k1 / k2).getFibonacci())"
   ]
  },
  {
   "cell_type": "markdown",
   "metadata": {},
   "source": [
    "# Домашнее задание (базовое):"
   ]
  },
  {
   "cell_type": "markdown",
   "metadata": {},
   "source": [
    "# Задание 1. \n",
    "\n",
    "Создать класс с двумя переменными. Добавить функцию вывода на экран и функцию изменения этих переменных. Добавить функцию, которая находит сумму значений этих переменных, и функцию, которая находит наибольшее значение из этих двух переменных."
   ]
  },
  {
   "cell_type": "code",
   "execution_count": 32,
   "metadata": {},
   "outputs": [],
   "source": [
    "class Couple:\n",
    "    def __init__(self, x, y):\n",
    "        self.x = x\n",
    "        self.y = y\n",
    "        \n",
    "    def setFirst(self, x):\n",
    "        self.x = x\n",
    "        \n",
    "    def getFirst(self):\n",
    "        return self.x\n",
    "    \n",
    "    def setSecond(self, y):\n",
    "        self.y = y\n",
    "    \n",
    "    def getSecond(self):\n",
    "        return self.y\n",
    "    \n",
    "    def out(self):\n",
    "        print('First:  ', self.x)\n",
    "        print('Second: ', self.y)\n",
    "    \n",
    "    def getSum(self):\n",
    "        return self.x + self.y\n",
    "    \n",
    "    def getMax(self):\n",
    "        return max(self.x, self.y)"
   ]
  },
  {
   "cell_type": "code",
   "execution_count": 33,
   "metadata": {},
   "outputs": [
    {
     "name": "stdout",
     "output_type": "stream",
     "text": [
      "First:   12\n",
      "Second:  8\n",
      "\n",
      "Sum:  20\n",
      "Max:  12\n"
     ]
    }
   ],
   "source": [
    "Beta = Couple(12, 8)\n",
    "\n",
    "Beta.out()\n",
    "print()\n",
    "print('Sum: ', Beta.getSum())\n",
    "print('Max: ', Beta.getMax())"
   ]
  },
  {
   "cell_type": "markdown",
   "metadata": {},
   "source": [
    "# Задание 2. "
   ]
  },
  {
   "cell_type": "markdown",
   "metadata": {
    "collapsed": true
   },
   "source": [
    "Составить описание класса многочленов от одной переменной, задаваемых степенью многочлена и массивом коэффициентов. Предусмотреть методы для вычисления значения многочлена для заданного аргумента, операции сложения, вычитания и умножения многочленов с получением нового объекта-многочлена, вывод на экран описания многочлена."
   ]
  },
  {
   "cell_type": "code",
   "execution_count": 34,
   "metadata": {},
   "outputs": [],
   "source": [
    "class Polynom:\n",
    "    '''\n",
    "    Полином исключительно положительных степеней (это нужно для интерактивного задания)\n",
    "    Можно было сделать и лучше, как всегда)\n",
    "    '''\n",
    "    def __init__(self, polynom = None):\n",
    "        if polynom is not None:\n",
    "            self.__dict__.update(polynom)\n",
    "            return\n",
    "        power = int(input('Введите степень многочлена: '))\n",
    "        for each in range(power, -1, -1):\n",
    "            try:\n",
    "                self.__dict__.update({str('power' + str(each)): \n",
    "                                      float(input(f'Введите коэффициент при одночлене со степенью {each}: '))})\n",
    "            except:\n",
    "                self.__dict__.update({str('power' + str(each)): \n",
    "                                      0})\n",
    "    \n",
    "    def count(self, x):\n",
    "        value = 0\n",
    "        for each in self.__dict__.keys():\n",
    "            value += self.__dict__[each] * (x ** int(each[5:]))\n",
    "        return value\n",
    "    \n",
    "    def form(self):\n",
    "        form = ''\n",
    "        keys = list(self.__dict__.keys())\n",
    "        keys.sort()\n",
    "        keys.reverse()\n",
    "        for each in keys:\n",
    "            if self.__dict__[each] == 0:\n",
    "                continue\n",
    "            if form != '':\n",
    "                form += ' + '\n",
    "            form += '(' + str(self.__dict__[each]) + ')' + ('*x**(' + each[5:] + ')') * int(bool(int(each[5:])))\n",
    "        return form\n",
    "    \n",
    "    def __add__(self1, self2):\n",
    "        coefficients = {}\n",
    "        for obj in [self1, self2]:\n",
    "            for key in obj.__dict__.keys():\n",
    "                if key not in coefficients.keys():\n",
    "                    coefficients[key] = obj.__dict__[key]\n",
    "                else:\n",
    "                    coefficients[key] += obj.__dict__[key]\n",
    "        return Polynom(coefficients)\n",
    "    \n",
    "    def __sub__(self1, self2):\n",
    "        coefficients = self1.__dict__.copy()\n",
    "        for key in self2.__dict__.keys():\n",
    "            if key not in coefficients.keys():\n",
    "                coefficients[key] = 0 - (self2.__dict__[key])\n",
    "            else:\n",
    "                coefficients[key] -= self2.__dict__[key]\n",
    "        return Polynom(coefficients)\n",
    "    \n",
    "    def __mul__(self1, self2):\n",
    "        coefficients = {}\n",
    "        for key1 in self1.__dict__.keys():\n",
    "            for key2 in self2.__dict__.keys():\n",
    "                new_key = 'power' + str(int(key1[5:]) * int(key2[5]))\n",
    "                if new_key not in coefficients.keys():\n",
    "                    coefficients[new_key] = self1.__dict__[key1] * self2.__dict__[key2]\n",
    "                else:\n",
    "                    coefficients[new_key] += self1.__dict__[key1] * self2.__dict__[key2]\n",
    "        return Polynom(coefficients)"
   ]
  },
  {
   "cell_type": "code",
   "execution_count": 35,
   "metadata": {},
   "outputs": [
    {
     "name": "stdout",
     "output_type": "stream",
     "text": [
      "Введите степень многочлена: 2\n",
      "Введите коэффициент при одночлене со степенью 2: 1\n",
      "Введите коэффициент при одночлене со степенью 1: 0\n",
      "Введите коэффициент при одночлене со степенью 0: 0\n",
      "Введите значение аргумента: 4\n",
      "Значение функции: 16.0\n"
     ]
    }
   ],
   "source": [
    "parabole = Polynom()\n",
    "print('Значение функции:', parabole.count(float(input('Введите значение аргумента: '))))"
   ]
  },
  {
   "cell_type": "code",
   "execution_count": 4,
   "metadata": {},
   "outputs": [
    {
     "name": "stdout",
     "output_type": "stream",
     "text": [
      "Введите степень многочлена: 2\n",
      "Введите коэффициент при одночлене со степенью 2: 1\n",
      "Введите коэффициент при одночлене со степенью 1: 3\n",
      "Введите коэффициент при одночлене со степенью 0: 8\n",
      "(1.0)*x**(2) + (3.0)*x**(1) + (8.0)\n"
     ]
    }
   ],
   "source": [
    "polynom1 = Polynom()\n",
    "print(polynom1.form())"
   ]
  },
  {
   "cell_type": "code",
   "execution_count": 5,
   "metadata": {},
   "outputs": [
    {
     "name": "stdout",
     "output_type": "stream",
     "text": [
      "Введите степень многочлена: 3\n",
      "Введите коэффициент при одночлене со степенью 3: 1\n",
      "Введите коэффициент при одночлене со степенью 2: 1\n",
      "Введите коэффициент при одночлене со степенью 1: 3\n",
      "Введите коэффициент при одночлене со степенью 0: 17\n",
      "(1.0)*x**(3) + (1.0)*x**(2) + (3.0)*x**(1) + (17.0)\n"
     ]
    }
   ],
   "source": [
    "polynom2 = Polynom()\n",
    "print(polynom2.form())"
   ]
  },
  {
   "cell_type": "code",
   "execution_count": 6,
   "metadata": {},
   "outputs": [
    {
     "name": "stdout",
     "output_type": "stream",
     "text": [
      "(1.0)*x**(3) + (2.0)*x**(2) + (6.0)*x**(1) + (25.0)\n"
     ]
    }
   ],
   "source": [
    "print((polynom1 + polynom2).form())"
   ]
  },
  {
   "cell_type": "code",
   "execution_count": 7,
   "metadata": {},
   "outputs": [
    {
     "name": "stdout",
     "output_type": "stream",
     "text": [
      "Введите значение аргумента: 456\n",
      "Значение суммы функций в точке равно: 95237449.0\n"
     ]
    }
   ],
   "source": [
    "print('Значение суммы функций в точке равно:', (polynom1 + polynom2).count(float(input('Введите значение аргумента: '))))"
   ]
  },
  {
   "cell_type": "code",
   "execution_count": 9,
   "metadata": {},
   "outputs": [
    {
     "name": "stdout",
     "output_type": "stream",
     "text": [
      "Введите значение аргумента: 7\n",
      "Значение разности функций в точке равно: 352.0\n"
     ]
    }
   ],
   "source": [
    "print('Значение разности функций в точке равно:', (polynom2 - polynom1).count(float(input('Введите значение аргумента: '))))"
   ]
  },
  {
   "cell_type": "code",
   "execution_count": 10,
   "metadata": {},
   "outputs": [
    {
     "name": "stdout",
     "output_type": "stream",
     "text": [
      "Форма произведения функций представляется в виде y = (1.0)*x**(6) + (1.0)*x**(4) + (3.0)*x**(3) + (6.0)*x**(2) + (9.0)*x**(1) + (244.0)\n"
     ]
    }
   ],
   "source": [
    "print('Форма произведения функций представляется в виде y =', (polynom1 * polynom2).form())"
   ]
  },
  {
   "cell_type": "code",
   "execution_count": 11,
   "metadata": {},
   "outputs": [
    {
     "name": "stdout",
     "output_type": "stream",
     "text": [
      "3013120.0\n"
     ]
    }
   ],
   "source": [
    "print((polynom1 * polynom2).count(12))"
   ]
  },
  {
   "cell_type": "markdown",
   "metadata": {},
   "source": [
    "# Задание 3.\n",
    "\n",
    "Составить описание класса для вектора, заданного координатами его концов в трехмерном пространстве. Обеспечить операции сложения и вычитания векторов с получением нового вектора (суммы или разности), вычисления скалярного произведения двух векторов, длины вектора, косинуса угла между векторами."
   ]
  },
  {
   "cell_type": "code",
   "execution_count": 36,
   "metadata": {},
   "outputs": [],
   "source": [
    "class Vector:\n",
    "    def __init__(self, dot1, dot2):\n",
    "        self.begin = dot1\n",
    "        self.end = dot2\n",
    "        self.entity = [ self.end[0] - self.begin[0], self.end[1] - self.begin[1], self.end[2] - self.begin[2] ]\n",
    "        self.length = ( (self.entity[0]) ** 2 + (self.entity[1]) ** 2 + (self.entity[2]) ** 2 ) ** 0.5\n",
    "        \n",
    "    def __add__(self1, self2):\n",
    "        return Vector([self1.begin[0], \n",
    "                       self1.begin[1], \n",
    "                       self1.begin[2]], \n",
    "                      [(self1.end[0] + self2.entity[0]), \n",
    "                       (self1.end[1] + self2.entity[1]),\n",
    "                       (self1.end[2] + self2.entity[2])])\n",
    "    \n",
    "    def __sub__(self1, self2):\n",
    "        return Vector([self1.begin[0], \n",
    "                       self1.begin[1], \n",
    "                       self1.begin[2]], \n",
    "                      [(self1.end[0] - self2.entity[0]), \n",
    "                       (self1.end[1] - self2.entity[1]),\n",
    "                       (self1.end[2] - self2.entity[2])])\n",
    "    \n",
    "    def __mul__(self1, self2):\n",
    "        return self1.entity[0] * self2.entity[0] + self1.entity[1] * self2.entity[1] + self1.entity[2] * self2.entity[2]\n",
    "    \n",
    "    def getLength(self):\n",
    "        return self.length\n",
    "    \n",
    "    def getCos(self1, self2):\n",
    "        return self1 * self2 / (self1.getLength() * self2.getLength())\n",
    "    \n",
    "    def about(self):\n",
    "        print('Вектор №%i:' % id(self))\n",
    "        print('\\tКоординаты вектора:', self.entity)\n",
    "        print('\\tКоординаты начальной точки:', self.begin)\n",
    "        print('\\tКоординаты конечной точки:', self.end)\n",
    "        print('\\tДлина вектора:', self.length)"
   ]
  },
  {
   "cell_type": "code",
   "execution_count": 5,
   "metadata": {},
   "outputs": [
    {
     "name": "stdout",
     "output_type": "stream",
     "text": [
      "Задаём 0-й вектор.\n",
      "Введите координаты первой точки через пробел: 0 1 2\n",
      "Введите координаты второй точки через пробел: 0 2 4\n",
      "Задаём 1-й вектор.\n",
      "Введите координаты первой точки через пробел: 0 0 0\n",
      "Введите координаты второй точки через пробел: 1 1 1\n"
     ]
    }
   ],
   "source": [
    "vectors = []\n",
    "\n",
    "for i in range(2):\n",
    "    print('Задаём %i-й вектор.' % i)\n",
    "    x1, y1, z1 = map(float, input('Введите координаты первой точки через пробел: ').split())\n",
    "    x2, y2, z2 = map(float, input('Введите координаты второй точки через пробел: ').split())\n",
    "    vectors.append(Vector([x1, y1, z1],\n",
    "                          [x2, y2, z2]))"
   ]
  },
  {
   "cell_type": "code",
   "execution_count": 6,
   "metadata": {},
   "outputs": [
    {
     "name": "stdout",
     "output_type": "stream",
     "text": [
      "Вектор №140380543485072:\n",
      "\tКоординаты вектора: [0.0, 1.0, 2.0]\n",
      "\tКоординаты начальной точки: [0.0, 1.0, 2.0]\n",
      "\tКоординаты конечной точки: [0.0, 2.0, 4.0]\n",
      "\tДлина вектора: 2.23606797749979\n",
      "Вектор №140380543485216:\n",
      "\tКоординаты вектора: [1.0, 1.0, 1.0]\n",
      "\tКоординаты начальной точки: [0.0, 0.0, 0.0]\n",
      "\tКоординаты конечной точки: [1.0, 1.0, 1.0]\n",
      "\tДлина вектора: 1.7320508075688772\n"
     ]
    }
   ],
   "source": [
    "v1 = vectors[0]\n",
    "v1.about()\n",
    "v2 = vectors[1]\n",
    "v2.about()"
   ]
  },
  {
   "cell_type": "code",
   "execution_count": 7,
   "metadata": {},
   "outputs": [
    {
     "name": "stdout",
     "output_type": "stream",
     "text": [
      "Сложим векторы.\n",
      "Вектор №140380543485024:\n",
      "\tКоординаты вектора: [1.0, 2.0, 3.0]\n",
      "\tКоординаты начальной точки: [0.0, 1.0, 2.0]\n",
      "\tКоординаты конечной точки: [1.0, 3.0, 5.0]\n",
      "\tДлина вектора: 3.7416573867739413\n"
     ]
    }
   ],
   "source": [
    "print('Сложим векторы.')\n",
    "(v1 + v2).about()"
   ]
  },
  {
   "cell_type": "code",
   "execution_count": 8,
   "metadata": {},
   "outputs": [
    {
     "name": "stdout",
     "output_type": "stream",
     "text": [
      "Вычтем векторы друг из друга.\n",
      "Вектор №140380543484160:\n",
      "\tКоординаты вектора: [-1.0, 0.0, 1.0]\n",
      "\tКоординаты начальной точки: [0.0, 1.0, 2.0]\n",
      "\tКоординаты конечной точки: [-1.0, 1.0, 3.0]\n",
      "\tДлина вектора: 1.4142135623730951\n",
      "Вектор №140380124865152:\n",
      "\tКоординаты вектора: [1.0, 0.0, -1.0]\n",
      "\tКоординаты начальной точки: [0.0, 0.0, 0.0]\n",
      "\tКоординаты конечной точки: [1.0, 0.0, -1.0]\n",
      "\tДлина вектора: 1.4142135623730951\n",
      "Длины векторов совпадают.\n"
     ]
    }
   ],
   "source": [
    "print('Вычтем векторы друг из друга.')\n",
    "(v1 - v2).about()\n",
    "(v2 - v1).about()\n",
    "print('Длины векторов совпадают.' * int((v1 - v2).getLength() == (v2 - v1).getLength()))"
   ]
  },
  {
   "cell_type": "code",
   "execution_count": 9,
   "metadata": {},
   "outputs": [
    {
     "name": "stdout",
     "output_type": "stream",
     "text": [
      "Найдём скалярное произведение векторов.\n",
      "v1 * v2 = 3.0\n"
     ]
    }
   ],
   "source": [
    "print('Найдём скалярное произведение векторов.')\n",
    "print('v1 * v2 =', v1 * v2)"
   ]
  },
  {
   "cell_type": "code",
   "execution_count": 10,
   "metadata": {},
   "outputs": [
    {
     "name": "stdout",
     "output_type": "stream",
     "text": [
      "Найдём косинус угла (в радианах) между векторами.\n",
      "cos(v1, v2) = 0.7745966692414834\n"
     ]
    }
   ],
   "source": [
    "print('Найдём косинус угла (в радианах) между векторами.')\n",
    "print('cos(v1, v2) =', Vector.getCos(v1, v2))"
   ]
  },
  {
   "cell_type": "markdown",
   "metadata": {},
   "source": [
    "# Задание 4. Поезда.\n",
    "\n",
    "Создайте структуру с именем `train`, содержащую поля: \n",
    "\n",
    "- название пунктов отправления и назначения;\n",
    "- время отправления и прибытия. \n",
    "\n",
    "Перегрузить операцию сложения: два поезда можно сложить, если пункт назначения первого совпадает с пунктом отправления второго, и время прибытия первого раньше, чем отправление второго."
   ]
  },
  {
   "cell_type": "code",
   "execution_count": 37,
   "metadata": {},
   "outputs": [
    {
     "data": {
      "text/plain": [
       "1590126275.0"
      ]
     },
     "execution_count": 37,
     "metadata": {},
     "output_type": "execute_result"
    }
   ],
   "source": [
    "from time import mktime, gmtime, strptime, strftime\n",
    "mktime(gmtime())"
   ]
  },
  {
   "cell_type": "code",
   "execution_count": 38,
   "metadata": {},
   "outputs": [],
   "source": [
    "class Train:\n",
    "    def __init__(self, times = None, stations = None, united = False):\n",
    "        if times is None and stations is None:\n",
    "            self.buyTicket()\n",
    "            return\n",
    "        self.departure_time = times[0]\n",
    "        self.arrival_time = times[1]\n",
    "        self.departure_station = stations[0]\n",
    "        self.arrival_station = stations[1]\n",
    "        self.road_time = self.arrival_time - self.departure_time\n",
    "        self.united = united\n",
    "        \n",
    "    def buyTicket(self):\n",
    "        self.departure_station = input('Вы покупаете билет на поезд.\\n\\tУкажите станцию отправления: ')\n",
    "        self.departure_time = mktime(strptime(input('\\tКогда отправляется поезд?\\n\\t\\tВведите дату (число.месяц.год): '), '%d.%m.%Y'))\n",
    "        self.departure_time += mktime(strptime(input('\\t\\tВведите время (часы:минуты): '), '%H:%M'))\n",
    "        self.arrival_station = input('\\tУкажите станцию прибытия: ')\n",
    "        self.arrival_time = mktime(strptime(input('\\tКогда прибывает поезд?\\n\\t\\tВведите дату (ЧЧ.ММ.ГГГГ): '), '%d.%m.%Y'))\n",
    "        self.arrival_time += mktime(strptime(input('\\t\\tВведите время (ЧЧ:ММ): '), '%H:%M'))\n",
    "        self.united = False\n",
    "        print('Спасибо за покупку! Ваш билет - под номером %i.' % id(self))\n",
    "        \n",
    "    def about(self):\n",
    "        print('Поезд %s - %s%s' % (self.departure_station, self.arrival_station, ' (ОБЪЕДИНЁННЫЙ)' * int(self.united)))\n",
    "        print('\\tВремя отправления: %s' % strftime('%a, %d %b %Y %H:%M', gmtime(self.departure_time)))\n",
    "        print('\\tВремя прибытия: %s' % strftime('%a, %d %b %Y %H:%M', gmtime(self.arrival_time)))\n",
    "        print('\\tБилет на поезд: %i' % id(self))\n",
    "        print('\\tВремени в пути: %i часов %i минут' % ((self.arrival_time - self.departure_time) // 3600, \n",
    "                                                       (self.arrival_time - self.departure_time) % 3600 // 60))\n",
    "    \n",
    "    def __add__(self1, self2):\n",
    "        if self1.arrival_station == self2.departure_station and self1.arrival_time < self2.departure_time:\n",
    "            return Train(times = [self1.departure_time, self2.arrival_time], \n",
    "                         stations = [self1.departure_station, self2.arrival_station],\n",
    "                         united = True)"
   ]
  },
  {
   "cell_type": "code",
   "execution_count": 6,
   "metadata": {},
   "outputs": [],
   "source": [
    "MSK_SPB = Train([mktime(strptime('26.12.2019 18:30', '%d.%m.%Y %H:%M')), \n",
    "                 mktime(strptime('27.12.2019 5:39', '%d.%m.%Y %H:%M'))], \n",
    "                ['Москва', 'Санкт-Петербург'], False)"
   ]
  },
  {
   "cell_type": "code",
   "execution_count": 7,
   "metadata": {},
   "outputs": [],
   "source": [
    "SPB_HSK = Train([mktime(strptime('27.12.2019 12:00', '%d.%m.%Y %H:%M')), \n",
    "                 mktime(strptime('01.01.2020 15:26', '%d.%m.%Y %H:%M'))], \n",
    "                ['Санкт-Петербург', 'Хельсинки'], False)"
   ]
  },
  {
   "cell_type": "code",
   "execution_count": 30,
   "metadata": {},
   "outputs": [
    {
     "name": "stdout",
     "output_type": "stream",
     "text": [
      "Вы покупаете билет на поезд.\n",
      "\tУкажите станцию отправления: Пушкино\n",
      "\tКогда отправляется поезд?\n",
      "\t\tВведите дату (число.месяц.год): 26.12.2019\n",
      "\t\tВведите время (часы:минуты): 18:30\n",
      "\tУкажите станцию прибытия: Санкт-Петербург\n",
      "\tКогда прибывает поезд?\n",
      "\t\tВведите дату (ЧЧ.ММ.ГГГГ): 27.12.2019\n",
      "\t\tВведите время (ЧЧ:ММ): 5:39\n",
      "Спасибо за покупку! Ваш билет - под номером 140592874663648.\n"
     ]
    }
   ],
   "source": [
    "MSK_SPB = Train()"
   ]
  },
  {
   "cell_type": "code",
   "execution_count": 34,
   "metadata": {},
   "outputs": [
    {
     "name": "stdout",
     "output_type": "stream",
     "text": [
      "Вы покупаете билет на поезд.\n",
      "\tУкажите станцию отправления: Санкт-Петербург\n",
      "\tКогда отправляется поезд?\n",
      "\t\tВведите дату (число.месяц.год): 27.12.2019\n",
      "\t\tВведите время (часы:минуты): 12:00\n",
      "\tУкажите станцию прибытия: Хельсинки\n",
      "\tКогда прибывает поезд?\n",
      "\t\tВведите дату (ЧЧ.ММ.ГГГГ): 01.01.2020\n",
      "\t\tВведите время (ЧЧ:ММ): 15:26\n",
      "Спасибо за покупку! Ваш билет - под номером 140592874230736.\n"
     ]
    }
   ],
   "source": [
    "SPB_HSK = Train()"
   ]
  },
  {
   "cell_type": "code",
   "execution_count": 8,
   "metadata": {},
   "outputs": [
    {
     "name": "stdout",
     "output_type": "stream",
     "text": [
      "Поезд Москва - Санкт-Петербург\n",
      "\tВремя отправления: Thu, 26 Dec 2019 15:30\n",
      "\tВремя прибытия: Fri, 27 Dec 2019 02:39\n",
      "\tБилет на поезд: 140356461967344\n",
      "\tВремени в пути: 11 часов 9 минут\n",
      "Поезд Санкт-Петербург - Хельсинки\n",
      "\tВремя отправления: Fri, 27 Dec 2019 09:00\n",
      "\tВремя прибытия: Wed, 01 Jan 2020 12:26\n",
      "\tБилет на поезд: 140356470555840\n",
      "\tВремени в пути: 123 часов 26 минут\n"
     ]
    }
   ],
   "source": [
    "MSK_SPB.about()\n",
    "SPB_HSK.about()"
   ]
  },
  {
   "cell_type": "code",
   "execution_count": 9,
   "metadata": {},
   "outputs": [
    {
     "name": "stdout",
     "output_type": "stream",
     "text": [
      "Поезд Москва - Хельсинки (ОБЪЕДИНЁННЫЙ)\n",
      "\tВремя отправления: Thu, 26 Dec 2019 15:30\n",
      "\tВремя прибытия: Wed, 01 Jan 2020 12:26\n",
      "\tБилет на поезд: 140356470555984\n",
      "\tВремени в пути: 140 часов 56 минут\n"
     ]
    }
   ],
   "source": [
    "(MSK_SPB + SPB_HSK).about()"
   ]
  },
  {
   "cell_type": "markdown",
   "metadata": {},
   "source": [
    "# Домашнее задание (дополнительное):"
   ]
  },
  {
   "cell_type": "markdown",
   "metadata": {},
   "source": [
    "# Библиотека.\n",
    "\n",
    "Описать класс «библиотека». Предусмотреть возможность работы с произвольным числом книг, поиска книги по какому-либо признаку (например, по автору или по году издания), добавления книг в библиотеку, удаления книг из нее, сортировки книг по разным полям."
   ]
  },
  {
   "cell_type": "code",
   "execution_count": 39,
   "metadata": {},
   "outputs": [],
   "source": [
    "class Book:\n",
    "    def __init__(self,\n",
    "                 title = None,\n",
    "                 authors = None,\n",
    "                 link = None,\n",
    "                 description = None,\n",
    "                 language = None,\n",
    "                 yearOfPublishing = None,\n",
    "                 publishingHouse = None,\n",
    "                 ISBN = None,\n",
    "                 volume = None,\n",
    "                 cost = None,\n",
    "                 ageLimit = None):\n",
    "        self.title = title\n",
    "        self.authors = authors\n",
    "        self.link = link # здесь располагается ссылка на книгу в интернете\n",
    "        try:\n",
    "            self.mainAuthor = self.authors.pop(0)\n",
    "        except:\n",
    "            self.mainAuthor = None\n",
    "        self.description = description\n",
    "        self.language = language\n",
    "        self.yearOfPublishing = yearOfPublishing\n",
    "        self.publishingHouse = publishingHouse\n",
    "        self.ISBN = ISBN\n",
    "        self.volume = volume\n",
    "        self.cost = cost\n",
    "        self.ageLimit = ageLimit\n",
    "    \n",
    "    def split_str(string, length):\n",
    "        for i in range(0, len(string), length):\n",
    "            yield string[i : i + length].strip()\n",
    "    \n",
    "    def new():\n",
    "        print('Вы написали книгу? Поздравляем! Давайте заполним информацию о ней и опубликуем!')\n",
    "        try:\n",
    "            self = Book()\n",
    "            self.title = input('\\tУкажите название книги: ')\n",
    "            self.mainAuthor = input('\\tУкажите ваше ФИО - или инициалы: ')\n",
    "            self.authors = list(map(str, input('\\tБыли ли у вашей книги соавторы? ' + \n",
    "                                               'Укажите их через запятую - или оставьте поле ввода пустым: ').split(', ')))\n",
    "            self.description = input('\\tВведите описание своей книги: ')\n",
    "            self.language = input('\\tВведите язык, на котором вы написали книгу: ')\n",
    "            self.ageLimit = int(input('\\tВведите возраст, с которого вашу книгу можно читать: '))\n",
    "            self.volume = int(input('\\tВведите объём печатного текста в страницах формата А5: '))\n",
    "\n",
    "            self.link = input('\\tНаконец, если ваша книга опубликована, укажите на неё ссылку - или оставьте поле ввода пустым: ')\n",
    "            if self.link == '':\n",
    "                self.link = None\n",
    "                if input('\\tКстати, не хотите её опубликовать?) Введите \"Да\", чтобы перейти к публикации: ') == 'Да':\n",
    "                    self.publish()\n",
    "            print('\\tИнформация о книге успешно заполнена.')\n",
    "        except:\n",
    "            print('Оу... К сожалению, информация о книге была введена неправильно, и создание электронной версии ' +\n",
    "                  'не может быть продолжено.')\n",
    "            self = None\n",
    "        finally:\n",
    "            return self\n",
    "        \n",
    "    def publish(self):\n",
    "        print()\n",
    "        print('### Статья \"Публикация книг\", автор - Титов Климентий.')\n",
    "        print('\"\"\"')\n",
    "        print('Опубликовать свою книгу позволяет платформа Самиздата от Литрес: https://selfpub.ru/. ' + \n",
    "              'Выполняйте следующую последовательность действий:')\n",
    "        print('1. Зарегистрируйтесь на сайте')\n",
    "        print('2. Сохраните текст работы в документе DOCX или книге FB2')\n",
    "        print('3. Укажите всю необходимую информацию о книге')\n",
    "        print('4. Выберите способ распространения книги. Например, чтобы иметь возможность распространять печатную версию, ' + \n",
    "              'выберите Базовый или Безлимитный способ')\n",
    "        print('5. Создайте эстетичную обложку')\n",
    "        print('6. И, наконец, отправьте книгу на модерацию.')\n",
    "        print('После успешной модерации ваша книга будет автоматически опубликована. Не забудьте заполнить данные о книге ' + \n",
    "              'здесь: вам нужно будет задать необходимые значения при помощи методов setISBN(ISBN), setYearOfPublishing' + \n",
    "              '(yearOfPublishing), setPublishingHouse(publishingHouse), setCost(cost) и setLink(link). ' + \n",
    "              'И, конечно же, наслаждайтесь результатом!')\n",
    "        print('\"\"\"')\n",
    "        print()\n",
    "    \n",
    "    def setISBN(self, ISBN):\n",
    "        self.ISBN = ISBN\n",
    "    \n",
    "    def setYearOfPublishing(self, yearOfPublishing):\n",
    "        self.yearOfPublishing = yearOfPublishing\n",
    "    \n",
    "    def setPublishingHouse(self, publishingHouse):\n",
    "        self.publishingHouse = publishingHouse\n",
    "    \n",
    "    def setCost(self, cost):\n",
    "        self.cost = cost\n",
    "    \n",
    "    def setLink(self, link):\n",
    "        self.link = link\n",
    "        \n",
    "    def about(self):\n",
    "        print(f'Книга \"{self.title}\"')\n",
    "        print(f'\\tАвтор - {self.mainAuthor}')\n",
    "        if self.authors != []:\n",
    "            print('\\tСоавторы:')\n",
    "            for author in self.authors:\n",
    "                print(f'\\t\\t{author}')\n",
    "        if self.description:\n",
    "            print('\\tОписание:')\n",
    "            print('\\t\\t\"\"\"\\n\\t\\t' + '\\n\\t\\t'.join(Book.split_str(self.description, 80)) + '\\n\\t\\t\"\"\"')\n",
    "        if self.language:\n",
    "            print(f'\\tЯзык: {self.language}')\n",
    "        if self.yearOfPublishing:\n",
    "            print(f'\\tГод публикации - {self.yearOfPublishing}')\n",
    "        if self.publishingHouse:\n",
    "            print(f'\\tИздательство: {self.publishingHouse}')\n",
    "        if self.ISBN:\n",
    "            print(f'\\tISBN: {self.ISBN}')\n",
    "        if self.volume:\n",
    "            print(f'\\tОбъём книги: {self.volume} стр.')\n",
    "        if self.cost:\n",
    "            print(f'\\tСтоимость книги: {self.cost} руб.')\n",
    "        if self.ageLimit:\n",
    "            print(f'\\tВозрастное ограничение: {self.ageLimit}+')\n",
    "        if self.link:\n",
    "            print(f'\\tСсылка на книгу: {self.link}')\n",
    "    \n",
    "    def properties():\n",
    "        return ['mainAuthor', 'authors', 'description', 'language', 'yearOfPublushing', \n",
    "                'publishingHouse', 'ISBN', 'volume', 'cost', 'ageLimit', 'link']"
   ]
  },
  {
   "cell_type": "code",
   "execution_count": 2,
   "metadata": {},
   "outputs": [
    {
     "name": "stdout",
     "output_type": "stream",
     "text": [
      "Книга \"1984\"\n",
      "\tАвтор - Джордж Оруэлл\n",
      "\tОписание:\n",
      "\t\t\"\"\"\n",
      "\t\tСвоеобразный антипод второй великой антиутопии XX века – «О дивный новый мир» Ол\n",
      "\t\tдоса Хаксли. Что, в сущности, страшнее: доведенное до абсурда «общество потребле\n",
      "\t\tния» – или доведенное до абсолюта «общество идеи»? По Оруэллу, нет и не может бы\n",
      "\t\tть ничего ужаснее тотальной несвободы…\n",
      "\t\t\"\"\"\n",
      "\tЯзык: Русский\n",
      "\tГод публикации - 2014\n",
      "\tИздательство: Издательство АСТ\n",
      "\tISBN: 978-5-17-080115-2\n",
      "\tОбъём книги: 320 стр.\n",
      "\tСтоимость книги: 119 руб.\n",
      "\tВозрастное ограничение: 16+\n",
      "\tСсылка на книгу: https://www.litres.ru/dzhordzh-oruell/1984/\n"
     ]
    }
   ],
   "source": [
    "_1984 = Book(title = '1984',\n",
    "             authors = ['Джордж Оруэлл'],\n",
    "             link = 'https://www.litres.ru/dzhordzh-oruell/1984/',\n",
    "             description = 'Своеобразный антипод второй великой антиутопии XX века – «О дивный новый мир» ' + \n",
    "                           'Олдоса Хаксли. Что, в сущности, страшнее: доведенное до абсурда «общество потребления» ' + \n",
    "                           '– или доведенное до абсолюта «общество идеи»? По Оруэллу, нет и не может быть ничего ужаснее ' + \n",
    "                           'тотальной несвободы…',\n",
    "             language = 'Русский',\n",
    "             yearOfPublishing = 2014,\n",
    "             publishingHouse = 'Издательство АСТ',\n",
    "             ISBN = '978-5-17-080115-2',\n",
    "             volume = 320,\n",
    "             cost = 119,\n",
    "             ageLimit = 16)\n",
    "_1984.about()"
   ]
  },
  {
   "cell_type": "code",
   "execution_count": 3,
   "metadata": {},
   "outputs": [
    {
     "name": "stdout",
     "output_type": "stream",
     "text": [
      "Вы написали книгу? Поздравляем! Давайте заполним информацию о ней и опубликуем!\n",
      "\tУкажите название книги: Satan\n",
      "\tУкажите ваше ФИО - или инициалы: Влад\n",
      "\tБыли ли у вашей книги соавторы? Укажите их через запятую - или оставьте поле ввода пустым: \n",
      "\tВведите описание своей книги: Книга про сатану\n",
      "\tВведите язык, на котором вы написали книгу: русский\n",
      "\tВведите возраст, с которого вашу книгу можно читать: 219\n",
      "\tВведите объём печатного текста в страницах формата А5: 300\n",
      "\tНаконец, если ваша книга опубликована, укажите на неё ссылку - или оставьте поле ввода пустым: \n",
      "\tКстати, не хотите её опубликовать?) Введите \"Да\", чтобы перейти к публикации: Да\n",
      "\n",
      "### Статья \"Публикация книг\", автор - Титов Климентий.\n",
      "\"\"\"\n",
      "Опубликовать свою книгу позволяет платформа Самиздата от Литрес: https://selfpub.ru/. Выполняйте следующую последовательность действий:\n",
      "1. Зарегистрируйтесь на сайте\n",
      "2. Сохраните текст работы в документе DOCX или книге FB2\n",
      "3. Укажите всю необходимую информацию о книге\n",
      "4. Выберите способ распространения книги. Например, чтобы иметь возможность распространять печатную версию, выберите Базовый или Безлимитный способ\n",
      "5. Создайте эстетичную обложку\n",
      "6. И, наконец, отправьте книгу на модерацию.\n",
      "После успешной модерации ваша книга будет автоматически опубликована. Не забудьте заполнить данные о книге здесь: вам нужно будет задать необходимые значения при помощи методов setISBN(ISBN), setYearOfPublishing(yearOfPublishing), setPublishingHouse(publishingHouse), setCost(cost) и setLink(link). И, конечно же, наслаждайтесь результатом!\n",
      "\"\"\"\n",
      "\n",
      "\tИнформация о книге успешно заполнена.\n"
     ]
    }
   ],
   "source": [
    "Satan = Book.new()"
   ]
  },
  {
   "cell_type": "code",
   "execution_count": 9,
   "metadata": {},
   "outputs": [
    {
     "name": "stdout",
     "output_type": "stream",
     "text": [
      "Вы написали книгу? Поздравляем! Давайте заполним информацию о ней и опубликуем!\n",
      "\tУкажите название книги: Проперти\n",
      "\tУкажите ваше ФИО - или инициалы: Снежская Виктория\n",
      "\tБыли ли у вашей книги соавторы? Укажите их через запятую - или оставьте поле ввода пустым: \n",
      "\tВведите описание своей книги: О Е\n",
      "\tВведите язык, на котором вы написали книгу: русский\n",
      "\tВведите возраст, с которого вашу книгу можно читать: 12\n",
      "\tВведите объём печатного текста в страницах формата А5: 320\n",
      "\tНаконец, если ваша книга опубликована, укажите на неё ссылку - или оставьте поле ввода пустым: \n",
      "\tКстати, не хотите её опубликовать?) Введите \"Да\", чтобы перейти к публикации: \n",
      "\tИнформация о книге успешно заполнена.\n"
     ]
    }
   ],
   "source": [
    "Property = Book.new()"
   ]
  },
  {
   "cell_type": "code",
   "execution_count": 8,
   "metadata": {},
   "outputs": [],
   "source": [
    "Seveina = Book(title = 'Севейна', authors = ['Титов Климентий', 'Снежская Виктория'], yearOfPublishing = 2019)\n",
    "TheOldManandtheSea = Book(title = 'The Old Man and the Sea', authors = ['Эрнест Хемингуэй'])\n",
    "TheGreatGatsby = Book(title = 'The Great Gatsby', authors = ['Фрэнсис Фиджеральд Скотт'])"
   ]
  },
  {
   "cell_type": "code",
   "execution_count": 40,
   "metadata": {},
   "outputs": [],
   "source": [
    "class Library:\n",
    "    storage = {} # формат данных {ID: Book}\n",
    "    readers = {} # формат данных {ФИО: взятые книги [ID1, ID2,..]}\n",
    "    \n",
    "    def __init__(self,\n",
    "                 name = None,\n",
    "                 address = None,\n",
    "                 owner = None,\n",
    "                 workers = None,\n",
    "                 contacts = None):\n",
    "        self.name = name\n",
    "        self.address = address\n",
    "        self.owner = owner\n",
    "        self.workers = workers\n",
    "        self.contacts = contacts\n",
    "    \n",
    "    def printWorkers(self):\n",
    "        print('Сотрудники:')\n",
    "        for workerIndex in range(len(self.workers)):\n",
    "            name = self.workers[workerIndex]\n",
    "            print(f'\\tID {workerIndex}\\tФИО {name}')\n",
    "\n",
    "    def printBooks(self, sortingKey = 'order'):\n",
    "        print('Книги:')\n",
    "        if sortingKey == 'order':Именно\n",
    "            for bookIndex in self.storage.keys():\n",
    "                title = self.storage[bookIndex].title\n",
    "                print(f'\\tID {bookIndex}\\tНазвание \"{title}\"')\n",
    "        else:\n",
    "            try:\n",
    "                books = list(self.storage.items())\n",
    "                books.sort(key=lambda i: i[1][eval(sortingKey)])\n",
    "                for book in books:\n",
    "                    prop = eval(f'book[1].{sortingKey}')\n",
    "                    ID = book[0]\n",
    "                    print(f'\\tID {ID}\\tСвойство \"{sortingKey}\": {prop}')\n",
    "            except:\n",
    "                print('Не удалось вывести отсортированный список книг.')\n",
    "                \n",
    "    def printReaders(self):\n",
    "        print('Читатели:')\n",
    "        for reader in self.readers.keys():\n",
    "            books = self.readers[reader]\n",
    "            print(f'\\tФИО {reader}\\tКниги: {books}')\n",
    "    \n",
    "    def isInProcess(self, ID):\n",
    "        for reader in self.readers.keys():\n",
    "            if ID in self.readers[reader]:\n",
    "                return True\n",
    "        return False\n",
    "    \n",
    "    def shell(self):\n",
    "        print(f'Оболочка библиотеки \"{self.name}\":')\n",
    "        print(f'\\tРабота с организацией')\n",
    "        print(f'\\t000. Добавить сотрудника')\n",
    "        print(f'\\t001. Удалить сотрудника')\n",
    "        print(f'\\tРабота с книгами')\n",
    "        print(f'\\t100. Добавить книгу')\n",
    "        print(f'\\t101. Удалить книгу')\n",
    "        print(f'\\t102. Вывести список книг')\n",
    "        print(f'\\t103. Принудительно вернуть книгу')\n",
    "        print(f'\\t104. Отредактировать свойства книги')\n",
    "        print(f'\\t105. Поиск по библиотеке')\n",
    "        print(f'\\t106. Просмотр свойств книги')\n",
    "        print(f'\\tРабота с читателями')\n",
    "        print(f'\\t200. Добавить нового читателя')\n",
    "        print(f'\\t201. Удалить читателя (если список задолженностей пуст)')\n",
    "        print(f'\\t202. Взять книгу')\n",
    "        print(f'\\t203. Вернуть книгу')\n",
    "        print(f'\\tВнештатные ситуации')\n",
    "        print(f'\\t300. Книга утеряна')\n",
    "        print(f'\\t301. Написана новая книга')\n",
    "        print(f'\\t302. Ликвидировать предприятие')\n",
    "        print(f'\\t-1.  Выйти из оболочки')\n",
    "        while True:\n",
    "            action = input('Введите номер действия: ')\n",
    "            \n",
    "            if action == '000':\n",
    "                # добавить сотрудника\n",
    "                self.workers.append(input('Введите ФИО нового сотрудника: '))\n",
    "                print('Сотрудник успешно добавлен.')\n",
    "\n",
    "            elif action == '001':\n",
    "                # удалить сотрудника\n",
    "                self.printWorkers()\n",
    "                ID = input('Введите ID работника, которого хотите уволить - или оставьте поле ввода пустым: ')\n",
    "                if ID == '':\n",
    "                    continue\n",
    "                try:\n",
    "                    ID = int(ID)\n",
    "                    del self.workers[ID]\n",
    "                except:\n",
    "                    print('Попытка увольнения не удалась. Может, ваш сотрудник восстал против вас?..')\n",
    "\n",
    "            elif action == '100':\n",
    "                # добавить книгу\n",
    "                corners = list(map(str, input('Перечислите названия объектов Book через точку с запятой, если они заданы - ' + \n",
    "                                              'или оставьте поле ввода пустым: ').split('; ')))\n",
    "                self.append(corners)\n",
    "\n",
    "            elif action == '101':\n",
    "                # удалить книгу\n",
    "                self.printBooks()\n",
    "                try:\n",
    "                    ID = int(input('Введите id книги: '))\n",
    "                    self.remove(ID)\n",
    "                except:\n",
    "                    print('Удаление книги не удалось.')\n",
    "            \n",
    "            elif action == '102':\n",
    "                # вывести список книг\n",
    "                self.printBooks()\n",
    "            \n",
    "            elif action == '103':\n",
    "                # принудительный возврат книги\n",
    "                self.printBooks()\n",
    "                try:\n",
    "                    ID = int(input('Введите id книги: '))\n",
    "                    self.back(ID)\n",
    "                except:\n",
    "                    print('Возврат книги не удался.')\n",
    "            \n",
    "            elif action == '104':\n",
    "                # отредактировать свойства книги\n",
    "                self.printBooks()\n",
    "                try:\n",
    "                    ID = int(input('Введите id книги: '))\n",
    "                    print('Достуные свойства редактирования:', Book.properties())\n",
    "                    key = input('Введите свойство книги, которое вы хотите отредактировать (будьте внимательны при написании свойства): ')\n",
    "                    value = input('Введите значение (строки - в кавычках, числа - без, списки поддерживаются): ')\n",
    "                    book = self.storage[ID]\n",
    "                    exec(f'book.{key} = {value}')\n",
    "                except:\n",
    "                    print('Возврат книги не удался.')\n",
    "            \n",
    "            elif action == '105':\n",
    "                # поиск по библиотеке\n",
    "                print('Достуные свойства поиска:', Book.properties())\n",
    "                key = input('Введите свойство книги, по которому вы хотите найти книги (будьте внимательны при написании свойства): ')\n",
    "                value = input('Введите значение (строки - в кавычках, числа - без, списки поддерживаются): ')\n",
    "                try:\n",
    "                    for bookIndex in self.storage.keys():\n",
    "                        if eval(f'self.storage[bookIndex].{key}') == eval(value):\n",
    "                            title = self.storage[bookIndex].title\n",
    "                            print(f'\\tID {bookIndex}\\tНазвание {title}')\n",
    "                except:\n",
    "                    print('Поиск не удался.')\n",
    "            \n",
    "            elif action == '106':\n",
    "                # просмотр свойств книги\n",
    "                self.printBooks()\n",
    "                try:\n",
    "                    ID = int(input('Введите id книги: '))\n",
    "                    self.storage[ID].about()\n",
    "                except:\n",
    "                    print('Просмотр свойств не удался.')\n",
    "            \n",
    "            elif action == '200':\n",
    "                # добавить читателя\n",
    "                name = input('Введите ФИО: ')\n",
    "                if name not in self.readers.keys():\n",
    "                    self.readers[name] = []\n",
    "                    print('Читатель успешно добавлен.')\n",
    "                else:\n",
    "                    print('Такой читатель уже существует.')\n",
    "            \n",
    "            elif action == '201':\n",
    "                # удалить читателя\n",
    "                self.printReaders()\n",
    "                name = input('Введите ФИО: ')\n",
    "                if name not in self.readers.keys():\n",
    "                    print('Такого читателя не существует.')\n",
    "                    continue\n",
    "                elif self.readers[name] != []:\n",
    "                    print('Читатель не вернул все книги.')\n",
    "                    continue\n",
    "                else:\n",
    "                    del self.readers[name]\n",
    "                    print('Удаление прошло успешно.')\n",
    "            \n",
    "            elif action == '202':\n",
    "                # взять книгу\n",
    "                self.printBooks()\n",
    "                try:\n",
    "                    ID = int(input('Введите id книги: '))\n",
    "                    if not self.isInProcess(ID):\n",
    "                        self.printReaders()\n",
    "                        name = input('Введите ФИО: ')\n",
    "                        self.readers[name].append(ID)\n",
    "                        print('Книга взята.')\n",
    "                    else:\n",
    "                        print('Книга сейчас у читателя, её нельзя взять.')\n",
    "                except:\n",
    "                    print('Взять такую книгу нельзя.')\n",
    "            \n",
    "            elif action == '203':\n",
    "                # вернуть книгу\n",
    "                self.printReaders()\n",
    "                try:\n",
    "                    name = input('Введите ФИО: ')\n",
    "                    books = self.readers[name]\n",
    "                    for book in books:\n",
    "                        title = self.storage[book].title\n",
    "                        print(f'\\tID {book}\\tНазвание \"{title}\"')\n",
    "                    ID = int(input('Введите id книги: '))\n",
    "                    self.readers[name].remove(ID)\n",
    "                except:\n",
    "                    print('Книгу вернуть не удалось.')                \n",
    "            \n",
    "            elif action == '300':\n",
    "                # книга утеряна\n",
    "                self.printBooks()\n",
    "                try:\n",
    "                    ID = int(input('Введите id книги: '))\n",
    "                    self.bookWasLost(ID)\n",
    "                except:\n",
    "                    print('Пропажа не была зарегистрирована.')\n",
    "            \n",
    "            elif action == '301':\n",
    "                # написана новая книга\n",
    "                book = Book.new()\n",
    "                if book is not None:\n",
    "                    self.append([book])\n",
    "                    print('Книга добавлена в библиотеку.')\n",
    "            \n",
    "            elif action == '302':\n",
    "                # ликвидировать предприятие\n",
    "                really = (input('Вы уверены? Введите \"Да\" - или оставьте поле ввода пустым: ') == 'Да')\n",
    "                if really:\n",
    "                    self.__del__()\n",
    "            \n",
    "            elif action == '-1':\n",
    "                return\n",
    "    \n",
    "    def new():\n",
    "        print('Вы решили создать свою собственную библиотеку?! Да здравствует либертарианский рынок!')\n",
    "        self = Library()\n",
    "        self.owner = input('\\tПрежде всего, укажите ФИО человека, который будет владельцем библиотеки: ')\n",
    "        self.workers = list(map(str, input('\\tВы уже наняли работников? Если да, перечислите их через запятую ' + \n",
    "                                           '- или оставьте поле ввода пустым: ').split(', ')))\n",
    "        self.name = input('\\tКак вы назовёте своё предприятие? ')\n",
    "        self.address = input('\\tУкажите юридический адрес: ')\n",
    "        self.contacts = list(map(str, input('\\tУкажите контакты организации (номер телефона, эл. почту, ссылки) через пробел: ').split()))\n",
    "        print('Поздравляем, вы не иначе как создали свою библиотеку! Можете подавать документы на регистрацию предприятия в ФНС России!')\n",
    "        return self\n",
    "    \n",
    "    def append(self, books):\n",
    "        if books == []:\n",
    "            self.setupCard()\n",
    "        for book in books:\n",
    "            try:\n",
    "                ID = self.getNewID()\n",
    "                exec(f'self.storage[ID] = {book}')\n",
    "            except:\n",
    "                print(f'Объекта {book} не существует.')\n",
    "            \n",
    "        \n",
    "    def setupCard(self):\n",
    "        print('Заполнение информации о новой книге библиотеки.')\n",
    "        try:\n",
    "            book = Book()\n",
    "            book.title = input('\\tНазвание книги: ')\n",
    "            book.mainAuthor = input('\\tАвтор: ')\n",
    "            book.authors = list(map(str, input('\\tСоавторы (через запятую): ').split(', ')))\n",
    "            book.description = input('\\tАннотация: ')\n",
    "            book.language = input('\\tЯзык текста: ')\n",
    "            book.ageLimit = int(input('\\tМинимальный возраст читателя: '))\n",
    "            book.volume = int(input('\\tОбъём печатного текста в страницах формата А5: '))\n",
    "            book.ISBN = input('\\tISBN: ')\n",
    "            book.yearOfPublishing = int(input('\\tГод публикации: '))\n",
    "            book.publishingHouse = input('\\tИздательство: ')\n",
    "            book.cost = int(input('\\tСтоимость: '))\n",
    "            book.link = input('\\tСсылка на книгу в Интернете: ')\n",
    "            ID = self.getNewID()\n",
    "            self.storage[ID] = book\n",
    "            print('Книга была успешно добавлена в библиотеку.')\n",
    "        except:\n",
    "            print('Заполнение было прервано из-за некорректных данных. Будьте внимательны - попробуйте ещё раз.')\n",
    "    \n",
    "    def getNewID(self):\n",
    "        if len(list(self.storage.keys())) != 0:\n",
    "            return max(list(storage.keys())) + 1\n",
    "        else:\n",
    "            return 1\n",
    "    \n",
    "    def bookWasLost(self, ID):\n",
    "        print('Стоимость книги должны возместить.')\n",
    "    \n",
    "    def remove(self, ID):\n",
    "        if input('Введите \"Да\", чтобы подтвердить удаление книги: ') == 'Да':\n",
    "            if ID in self.storage.keys():\n",
    "                del self.storage[ID]\n",
    "            for readerIndex in self.readers.keys():\n",
    "                if ID in self.readers[readerIndex]:\n",
    "                    self.readers[readerIndex].remove(ID)\n",
    "        print('Удаление совершено успешно.')\n",
    "        \n",
    "    def back(self, ID):\n",
    "        for readerIndex in self.readers.keys():\n",
    "            if ID in self.readers[readerIndex]:\n",
    "                self.readers[readerIndex].remove(ID)\n",
    "                print('Возврат совершён успешно.')\n",
    "                break"
   ]
  },
  {
   "cell_type": "code",
   "execution_count": 5,
   "metadata": {},
   "outputs": [
    {
     "name": "stdout",
     "output_type": "stream",
     "text": [
      "Вы решили создать свою собственную библиотеку?! Да здравствует либертарианский рынок!\n",
      "\tПрежде всего, укажите ФИО человека, который будет владельцем библиотеки: Влад\n",
      "\tВы уже наняли работников? Если да, перечислите их через запятую - или оставьте поле ввода пустым: Клим, Шамиль\n",
      "\tКак вы назовёте своё предприятие? PXTextBlock\n",
      "\tУкажите юридический адрес: Чашка\n",
      "\tУкажите контакты организации (номер телефона, эл. почту, ссылки) через пробел: https://vk.com/loldturuyh\n",
      "Поздравляем, вы не иначе как создали свою библиотеку! Можете подавать документы на регистрацию предприятия в ФНС России!\n"
     ]
    }
   ],
   "source": [
    "AGATA = Library.new()"
   ]
  },
  {
   "cell_type": "code",
   "execution_count": 13,
   "metadata": {},
   "outputs": [],
   "source": [
    "Beta = Library(name = 'Beta', address = '', owner = 'Mark CDA', workers = [], contacts = [])"
   ]
  },
  {
   "cell_type": "code",
   "execution_count": null,
   "metadata": {},
   "outputs": [
    {
     "name": "stdout",
     "output_type": "stream",
     "text": [
      "Оболочка библиотеки \"PXTextBlock\":\n",
      "\tРабота с организацией\n",
      "\t000. Добавить сотрудника\n",
      "\t001. Удалить сотрудника\n",
      "\tРабота с книгами\n",
      "\t100. Добавить книгу\n",
      "\t101. Удалить книгу\n",
      "\t102. Вывести список книг\n",
      "\t103. Принудительно вернуть книгу\n",
      "\t104. Отредактировать свойства книги\n",
      "\t105. Поиск по библиотеке\n",
      "\t106. Просмотр свойств книги\n",
      "\tРабота с читателями\n",
      "\t200. Добавить нового читателя\n",
      "\t201. Удалить читателя (если список задолженностей пуст)\n",
      "\t202. Взять книгу\n",
      "\t203. Вернуть книгу\n",
      "\tВнештатные ситуации\n",
      "\t300. Книга утеряна\n",
      "\t301. Написана новая книга\n",
      "\t302. Ликвидировать предприятие\n",
      "\t-1.  Выйти из оболочки\n"
     ]
    }
   ],
   "source": [
    "AGATA.shell()"
   ]
  },
  {
   "cell_type": "code",
   "execution_count": 24,
   "metadata": {},
   "outputs": [],
   "source": [
    "Seveina = Book('Севейна')"
   ]
  },
  {
   "cell_type": "markdown",
   "metadata": {},
   "source": [
    "# Обобщённое число.\n",
    "\n",
    "Создайте класс, обобщающий понятие комплексных, двойных и дуальных чисел.\n",
    "\n",
    "Такие числа объединены одной формой записи:\n",
    "\n",
    "$$ c = a + ib,$$\n",
    "\n",
    "где `c` – обобщённое число (комплексное, двойное или дуальное), `a` и `b` – вещественные числа, i – некоммутирующий символ.\n",
    "\n",
    "Именно из-за наличия символа `i` число `c` не просто сумма `a` и `b`. Такие числа можно представлять как вектор на плоскости `(a,b)`.\n",
    "\n",
    "А символ `i` обладает следующим свойством:\n",
    "\n",
    "- для комплексных чисел\n",
    "\n",
    "$$ i^2 = -1 $$\n",
    "\n",
    "- для двойных чисел\n",
    "\n",
    "$$ i^2 = 1 $$\n",
    "\n",
    "- для дуальных чисел\n",
    "\n",
    "$$ i^2 = 0 $$\n",
    "\n",
    "Перегрузить для них базовые операции: сложения, вычитания, умножения и деления.\n",
    "\n",
    "Например, операция умножения для таких чисел имеет вид:\n",
    "\n",
    "$$ (a_1+b_1i)\\cdot (a_2+b_2i)=a_1a_2+b_1a_2i+a_1b_2i+b_1b_2i^{2}=(a_1a_2+b_1b_2i^{2})+(b_1a_2+a_1b_2)i. $$"
   ]
  },
  {
   "cell_type": "markdown",
   "metadata": {
    "collapsed": true
   },
   "source": [
    "Статус: `задание не решено`."
   ]
  }
 ],
 "metadata": {
  "kernelspec": {
   "display_name": "Python 3",
   "language": "python",
   "name": "python3"
  },
  "language_info": {
   "codemirror_mode": {
    "name": "ipython",
    "version": 3
   },
   "file_extension": ".py",
   "mimetype": "text/x-python",
   "name": "python",
   "nbconvert_exporter": "python",
   "pygments_lexer": "ipython3",
   "version": "3.8.5"
  }
 },
 "nbformat": 4,
 "nbformat_minor": 2
}
