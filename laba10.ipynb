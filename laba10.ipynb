{
 "cells": [
  {
   "cell_type": "markdown",
   "metadata": {},
   "source": [
    "# Лабораторная работа 10. ООП."
   ]
  },
  {
   "cell_type": "code",
   "execution_count": 1,
   "metadata": {},
   "outputs": [],
   "source": [
    "import pylab\n",
    "import numpy as np\n",
    "import matplotlib.pyplot as plt"
   ]
  },
  {
   "cell_type": "markdown",
   "metadata": {},
   "source": [
    "# 1. Инкапсуляция\n",
    "Под инкапсуляцией в объектно-ориентированном программировании понимается упаковка данных и методов для их обработки вместе, т. е. в классе. В Python инкапсуляция реализуется как на уровне классов, так и объектов. В ряде других языков, например в Java, под инкапсуляцией также понимают сокрытие свойств и методов, в результате чего они становятся приватными. Это значит, что доступ к ним ограничен либо пределами класса, либо модуля.\n",
    "\n",
    "В Python подобной инкапсуляции нет, хотя существует способ ее имитировать. Перед тем как выяснять, как это делается, надо понять, зачем вообще что-то скрывать.\n",
    "\n",
    "Дело в том, что классы бывают большими и сложными. В них может быть множество вспомогательных полей и методов, которые не должны использоваться за его пределами. Они просто для этого не предназначены. Они своего рода внутренние шестеренки, обеспечивающие нормальную работу класса.\n",
    "\n",
    "Кроме того, в других языках программирования хорошей практикой считается сокрытие всех полей объектов, чтобы уберечь их от прямого присвоения значений из основной ветки программы. Их значения можно изменять и получать только через вызовы методов, специально определенных для этих целей.\n",
    "\n",
    "Например, если надо проверять присваиваемое полю значение на корректность, то делать это каждый раз в основном коде программы будет неправильным. Проверочный код должен быть помещен в метод, который получает данные, для присвоения полю. А само поле должно быть закрыто для доступа из вне класса. В этом случае ему невозможно будет присвоить недопустимое значение.\n",
    "\n",
    "Часто намеренно скрываются поля самого класса, а не его объектов. Например, если класс имеет счетчик своих объектов, то необходимо исключить возможность его случайного изменения извне. Рассмотрим пример с таким счетчиком на языке Python."
   ]
  },
  {
   "cell_type": "code",
   "execution_count": 2,
   "metadata": {},
   "outputs": [],
   "source": [
    "class B:\n",
    "    count = 0\n",
    "    def __init__(self):\n",
    "        B.count += 1\n",
    "    def __del__(self):\n",
    "        B.count -= 1"
   ]
  },
  {
   "cell_type": "code",
   "execution_count": 3,
   "metadata": {},
   "outputs": [
    {
     "name": "stdout",
     "output_type": "stream",
     "text": [
      "3\n",
      "3\n",
      "2\n"
     ]
    }
   ],
   "source": [
    "a = B()\n",
    "b = B()\n",
    "с = B()\n",
    "print(b.count)\n",
    "print(B.count) \n",
    "del a\n",
    "print(B.count) "
   ]
  },
  {
   "cell_type": "code",
   "execution_count": 4,
   "metadata": {},
   "outputs": [
    {
     "data": {
      "text/plain": [
       "2"
      ]
     },
     "execution_count": 4,
     "metadata": {},
     "output_type": "execute_result"
    }
   ],
   "source": [
    "b.count"
   ]
  },
  {
   "cell_type": "code",
   "execution_count": 5,
   "metadata": {},
   "outputs": [
    {
     "name": "stdout",
     "output_type": "stream",
     "text": [
      "1\n"
     ]
    }
   ],
   "source": [
    "B.count -= 1\n",
    "print(B.count)"
   ]
  },
  {
   "cell_type": "markdown",
   "metadata": {},
   "source": [
    "# 2. Полиморфизм\n",
    "Полиморфизм в объектно-ориентированном программировании – это возможность обработки разных типов данных, т. е. принадлежащих к разным классам, с помощью \"одной и той же\" функции, или метода. На самом деле одинаковым является только имя метода, его исходный код зависит от класса. Кроме того, результаты работы одноименных методов могут существенно различаться. Поэтому в данном контексте под полиморфизмом понимается множество форм одного и того же слова – имени метода.\n",
    "\n",
    "Например, два разных класса содержат метод `total`, однако инструкции каждого предусматривают совершенно разные операции. Так в классе `T1` – это прибавление `10` к аргументу, в `T2` – подсчет длины строки символов. В зависимости от того, к объекту какого класса применяется метод `total`, выполняются те или иные инструкции."
   ]
  },
  {
   "cell_type": "code",
   "execution_count": 6,
   "metadata": {},
   "outputs": [],
   "source": [
    "class T1:\n",
    "     n = 10\n",
    "     def total(self, N):\n",
    "          self.total = int(self.n) + int(N)\n",
    " \n",
    "class T2:\n",
    "     def total(self,s):\n",
    "          self.total = len(str(s))"
   ]
  },
  {
   "cell_type": "code",
   "execution_count": 7,
   "metadata": {},
   "outputs": [
    {
     "name": "stdout",
     "output_type": "stream",
     "text": [
      "55\n",
      "2\n"
     ]
    }
   ],
   "source": [
    "t1 = T1()\n",
    "t2 = T2()\n",
    "t1.total(45)\n",
    "t2.total(45)\n",
    "print(t1.total) \n",
    "print(t2.total) "
   ]
  },
  {
   "cell_type": "markdown",
   "metadata": {},
   "source": [
    "Как видно, полиморфизмом обладают классы связанные наследованием. У каждого может быть свой метод `__init__()`, или `square()`, или какой-нибудь другой. Какой именно из методов `square()` вызывается и что он делает, зависит от принадлежности объекта к тому или иному классу.\n",
    "\n",
    "Однако классы не обязательно должны быть связаны наследованием. Полиморфизм как один из ключевых элементов ООП существует независимо от наследования. Классы могут быть не родственными, но иметь одинаковые методы.\n",
    "\n",
    "Полиморфизм дает возможность реализовывать так называемые единые интерфейсы для объектов различных классов. Например, разные классы могут предусматривать различный способ вывода той или иной информации объектов. Однако одинаковое название метода вывода позволит не запутать программу, сделать код более ясным.\n",
    "\n",
    "Рассмотрим пример полиморфизма на еще одном методе, который перегружает функцию `print()`.\n",
    "\n",
    "Если вы создадите объект собственного класса, а потом попробуете вывести его на экран, то получите информацию о классе объекта и его адрес в памяти. Такое поведение функции `print()` по умолчанию по отношению к пользовательским классам запрограммировано на самом верхнем уровне иерархии, где-то в суперклассе, от которого неявно наследуются все остальные."
   ]
  },
  {
   "cell_type": "code",
   "execution_count": 8,
   "metadata": {},
   "outputs": [],
   "source": [
    "class A:\n",
    "    def __init__(self, v1, v2):\n",
    "        self.field1 = v1\n",
    "        self.field2 = v2"
   ]
  },
  {
   "cell_type": "code",
   "execution_count": 9,
   "metadata": {},
   "outputs": [
    {
     "name": "stdout",
     "output_type": "stream",
     "text": [
      "<__main__.A object at 0x7fe015f7ddc0>\n"
     ]
    }
   ],
   "source": [
    "a = A(3, 4)\n",
    "print(a)"
   ]
  },
  {
   "cell_type": "markdown",
   "metadata": {},
   "source": [
    "Если же мы хотим, чтобы, когда объект передается функции `print()`, выводилась какая-нибудь другая более полезная информация, то в класс надо добавить специальный метод `__str__()`. Этот метод должен обязательно возвращать строку, которую будет выводить функция `print()`:"
   ]
  },
  {
   "cell_type": "code",
   "execution_count": 10,
   "metadata": {},
   "outputs": [],
   "source": [
    "class A:\n",
    "    def __init__(self, v1, v2):\n",
    "        self.field1 = v1\n",
    "        self.field2 = v2\n",
    "    def __str__(self):\n",
    "        return str(self.field1) + \" \" + str(self.field2)"
   ]
  },
  {
   "cell_type": "code",
   "execution_count": 11,
   "metadata": {},
   "outputs": [
    {
     "name": "stdout",
     "output_type": "stream",
     "text": [
      "3 4\n"
     ]
    }
   ],
   "source": [
    "a = A(3, 4)\n",
    "print(a)"
   ]
  },
  {
   "cell_type": "markdown",
   "metadata": {},
   "source": [
    "# Упражнение 1\n",
    "\n",
    "Измените класс `A` таким образом, чтобы объект этого класса мог содержать произвольное число параметров. Пергрузите для него функции `__bool__()` и `__len__()`."
   ]
  },
  {
   "cell_type": "code",
   "execution_count": 12,
   "metadata": {},
   "outputs": [],
   "source": [
    "class A:\n",
    "    def __init__(self, **kwargs):\n",
    "        self.__dict__.update(kwargs)\n",
    "    def __bool__(self):\n",
    "        return bool(len(self.__dict__))\n",
    "    def __len__(self):\n",
    "        return len(self.__dict__)"
   ]
  },
  {
   "cell_type": "code",
   "execution_count": 13,
   "metadata": {},
   "outputs": [
    {
     "name": "stdout",
     "output_type": "stream",
     "text": [
      "True\n",
      "My eye\n",
      "1\n"
     ]
    }
   ],
   "source": [
    "k = A(B = \"My eye\")\n",
    "print(bool(k))\n",
    "print(k.B)\n",
    "print(len(k))"
   ]
  },
  {
   "cell_type": "markdown",
   "metadata": {
    "collapsed": true
   },
   "source": [
    "# 3. Наследование\n",
    "Наследование – важная составляющая объектно-ориентированного программирования. Так или иначе мы уже сталкивались с ним, ведь объекты наследуют атрибуты своих классов. Однако обычно под наследованием в ООП понимается наличие классов и подклассов. Также их называют супер- или надклассами и классами, а также родительскими и дочерними классами.\n",
    "\n",
    "Суть наследования здесь схожа с наследованием объектами от классов. Дочерние классы наследуют атрибуты родительских, а также могут переопредять атрибуты и добавлять свои."
   ]
  },
  {
   "cell_type": "markdown",
   "metadata": {
    "collapsed": true
   },
   "source": [
    "# 3.1. Простое наследование"
   ]
  },
  {
   "cell_type": "code",
   "execution_count": 14,
   "metadata": {},
   "outputs": [],
   "source": [
    "class Table:\n",
    "    def __init__(self, l, w, h):\n",
    "        self.lenght = l\n",
    "        self.width = w\n",
    "        self.height = h"
   ]
  },
  {
   "cell_type": "code",
   "execution_count": 15,
   "metadata": {},
   "outputs": [],
   "source": [
    "class KitchenTable(Table):\n",
    "    def setPlaces(self, p):\n",
    "        self.places = p"
   ]
  },
  {
   "cell_type": "code",
   "execution_count": 16,
   "metadata": {},
   "outputs": [],
   "source": [
    " class DeskTable(Table):\n",
    "    def square(self):\n",
    "        return self.width * self.lenght"
   ]
  },
  {
   "cell_type": "markdown",
   "metadata": {
    "collapsed": true
   },
   "source": [
    "В данном случае классы `KitchenTable` и `DeskTable` не имеют своих собственных конструкторов, поэтому наследуют его от родительского класса. При создании экземпляров этих столов, передавать аргументы для `__init__()` обязательно, иначе возникнет ошибка:"
   ]
  },
  {
   "cell_type": "code",
   "execution_count": 17,
   "metadata": {},
   "outputs": [
    {
     "ename": "TypeError",
     "evalue": "__init__() missing 3 required positional arguments: 'l', 'w', and 'h'",
     "output_type": "error",
     "traceback": [
      "\u001b[0;31m---------------------------------------------------------------------------\u001b[0m",
      "\u001b[0;31mTypeError\u001b[0m                                 Traceback (most recent call last)",
      "\u001b[0;32m<ipython-input-17-fb2de5845863>\u001b[0m in \u001b[0;36m<module>\u001b[0;34m\u001b[0m\n\u001b[0;32m----> 1\u001b[0;31m \u001b[0mt1\u001b[0m \u001b[0;34m=\u001b[0m \u001b[0mKitchenTable\u001b[0m\u001b[0;34m(\u001b[0m\u001b[0;34m)\u001b[0m\u001b[0;34m\u001b[0m\u001b[0;34m\u001b[0m\u001b[0m\n\u001b[0m",
      "\u001b[0;31mTypeError\u001b[0m: __init__() missing 3 required positional arguments: 'l', 'w', and 'h'"
     ]
    }
   ],
   "source": [
    "t1 = KitchenTable()"
   ]
  },
  {
   "cell_type": "code",
   "execution_count": 18,
   "metadata": {},
   "outputs": [],
   "source": [
    "t1 = KitchenTable(2, 2, 0.7)\n",
    "t2 = DeskTable(1.5, 0.8, 0.75)\n",
    "t3 = KitchenTable(1, 1.2, 0.8)"
   ]
  },
  {
   "cell_type": "code",
   "execution_count": 19,
   "metadata": {},
   "outputs": [
    {
     "data": {
      "text/plain": [
       "1"
      ]
     },
     "execution_count": 19,
     "metadata": {},
     "output_type": "execute_result"
    }
   ],
   "source": [
    "t3.lenght"
   ]
  },
  {
   "cell_type": "markdown",
   "metadata": {
    "collapsed": true
   },
   "source": [
    "Можно создавать столы и от родительского класса `Table`. Однако он не будет, согласно неким родственным связям, иметь доступ к методам `setPlaces()` и `square()`. Точно так же объект класса `KitchenTable` не имеет доступа к единоличным атрибутам сестринского класса `DeskTable`:"
   ]
  },
  {
   "cell_type": "code",
   "execution_count": 20,
   "metadata": {},
   "outputs": [],
   "source": [
    "t4 = Table(1, 1, 0.5)"
   ]
  },
  {
   "cell_type": "code",
   "execution_count": 21,
   "metadata": {},
   "outputs": [
    {
     "data": {
      "text/plain": [
       "1.2000000000000002"
      ]
     },
     "execution_count": 21,
     "metadata": {},
     "output_type": "execute_result"
    }
   ],
   "source": [
    "t2.width * t2.lenght"
   ]
  },
  {
   "cell_type": "code",
   "execution_count": 22,
   "metadata": {},
   "outputs": [
    {
     "data": {
      "text/plain": [
       "1.2000000000000002"
      ]
     },
     "execution_count": 22,
     "metadata": {},
     "output_type": "execute_result"
    }
   ],
   "source": [
    "t2.square()"
   ]
  },
  {
   "cell_type": "code",
   "execution_count": 23,
   "metadata": {},
   "outputs": [
    {
     "ename": "AttributeError",
     "evalue": "'Table' object has no attribute 'square'",
     "output_type": "error",
     "traceback": [
      "\u001b[0;31m---------------------------------------------------------------------------\u001b[0m",
      "\u001b[0;31mAttributeError\u001b[0m                            Traceback (most recent call last)",
      "\u001b[0;32m<ipython-input-23-8d103ab93bfa>\u001b[0m in \u001b[0;36m<module>\u001b[0;34m\u001b[0m\n\u001b[0;32m----> 1\u001b[0;31m \u001b[0mt4\u001b[0m\u001b[0;34m.\u001b[0m\u001b[0msquare\u001b[0m\u001b[0;34m(\u001b[0m\u001b[0;34m)\u001b[0m\u001b[0;34m\u001b[0m\u001b[0;34m\u001b[0m\u001b[0m\n\u001b[0m",
      "\u001b[0;31mAttributeError\u001b[0m: 'Table' object has no attribute 'square'"
     ]
    }
   ],
   "source": [
    "t4.square()"
   ]
  },
  {
   "cell_type": "code",
   "execution_count": 24,
   "metadata": {},
   "outputs": [
    {
     "ename": "AttributeError",
     "evalue": "'KitchenTable' object has no attribute 'square'",
     "output_type": "error",
     "traceback": [
      "\u001b[0;31m---------------------------------------------------------------------------\u001b[0m",
      "\u001b[0;31mAttributeError\u001b[0m                            Traceback (most recent call last)",
      "\u001b[0;32m<ipython-input-24-3d5e3c674409>\u001b[0m in \u001b[0;36m<module>\u001b[0;34m\u001b[0m\n\u001b[0;32m----> 1\u001b[0;31m \u001b[0mt3\u001b[0m\u001b[0;34m.\u001b[0m\u001b[0msquare\u001b[0m\u001b[0;34m(\u001b[0m\u001b[0;34m)\u001b[0m\u001b[0;34m\u001b[0m\u001b[0;34m\u001b[0m\u001b[0m\n\u001b[0m",
      "\u001b[0;31mAttributeError\u001b[0m: 'KitchenTable' object has no attribute 'square'"
     ]
    }
   ],
   "source": [
    "t3.square()"
   ]
  },
  {
   "cell_type": "markdown",
   "metadata": {},
   "source": [
    "# 3.2. Полное переопределение метода надкласса\n",
    "Что, если в подклассе нам не подходит код метода его надкласса? Допустим, мы вводим еще один класс столов, который является дочерним по отношению к `DeskTable`. Пусть это будут компьютерные столы, при вычислении рабочей поверхности которых надо отнимать заданную величину. Имеет смысл внести в этот новый подкласс его собственный метод `square()`:"
   ]
  },
  {
   "cell_type": "code",
   "execution_count": 25,
   "metadata": {},
   "outputs": [],
   "source": [
    "class ComputerTable(DeskTable):\n",
    "    def square(self, e):\n",
    "        return self.width * self.lenght - e"
   ]
  },
  {
   "cell_type": "markdown",
   "metadata": {},
   "source": [
    "При создании объекта типа `ComputerTable` по-прежнему требуется указывать параметры, так как интерпретатор в поисках конструктора пойдет по дереву наследования сначала в родителя, а потом в прародителя и найдет там метод `__init__()`.\n",
    "\n",
    "Однако когда будет вызываться метод `square()`, то поскольку он будет обнаружен в самом `ComputerTable`, то метод `square()` из `DeskTable` останется невидимым, т. е. для объектов класса `ComputerTable` он окажется переопределенным."
   ]
  },
  {
   "cell_type": "code",
   "execution_count": 26,
   "metadata": {},
   "outputs": [
    {
     "data": {
      "text/plain": [
       "1.7"
      ]
     },
     "execution_count": 26,
     "metadata": {},
     "output_type": "execute_result"
    }
   ],
   "source": [
    "ct = ComputerTable(2, 1, 1)\n",
    "ct.square(0.3)"
   ]
  },
  {
   "cell_type": "markdown",
   "metadata": {},
   "source": [
    "Или:"
   ]
  },
  {
   "cell_type": "code",
   "execution_count": 27,
   "metadata": {},
   "outputs": [],
   "source": [
    "class ComputerTable(DeskTable):\n",
    "    def square(self, e):\n",
    "        return DeskTable.square(self) - e "
   ]
  },
  {
   "cell_type": "code",
   "execution_count": 28,
   "metadata": {},
   "outputs": [
    {
     "data": {
      "text/plain": [
       "1.7"
      ]
     },
     "execution_count": 28,
     "metadata": {},
     "output_type": "execute_result"
    }
   ],
   "source": [
    "ct = ComputerTable(2, 1, 1)\n",
    "ct.square(0.3)"
   ]
  },
  {
   "cell_type": "markdown",
   "metadata": {},
   "source": [
    "Допустим, в классе `KitchenTable` нам не нужен метод, поле `places` должно устанавливаться при создании объекта в конструкторе. В классе можно создать собственный конструктор с чистого листа, чем переопределить родительский:"
   ]
  },
  {
   "cell_type": "code",
   "execution_count": 30,
   "metadata": {},
   "outputs": [],
   "source": [
    "class KitchenTable(Table):\n",
    "    def __init__(self, l, w, h, p):\n",
    "        self.length = l\n",
    "        self.width = w\n",
    "        self.height = h\n",
    "        self.places = p"
   ]
  },
  {
   "cell_type": "markdown",
   "metadata": {},
   "source": [
    "Однако если дублируется почти весь конструктор надкласса, проще вызвать родительский конструктор, после чего дополнить своим кодом:"
   ]
  },
  {
   "cell_type": "code",
   "execution_count": 29,
   "metadata": {},
   "outputs": [],
   "source": [
    "class KitchenTable(Table):\n",
    "    def __init__(self, l, w, h, p):\n",
    "        Table.__init__(self, l, w, h)\n",
    "        self.places = p"
   ]
  },
  {
   "cell_type": "code",
   "execution_count": 30,
   "metadata": {},
   "outputs": [],
   "source": [
    "tk = KitchenTable(2, 1.5, 0.7, 10)"
   ]
  },
  {
   "cell_type": "code",
   "execution_count": 31,
   "metadata": {},
   "outputs": [
    {
     "data": {
      "text/plain": [
       "10"
      ]
     },
     "execution_count": 31,
     "metadata": {},
     "output_type": "execute_result"
    }
   ],
   "source": [
    "tk.places"
   ]
  },
  {
   "cell_type": "code",
   "execution_count": 32,
   "metadata": {},
   "outputs": [
    {
     "data": {
      "text/plain": [
       "1.5"
      ]
     },
     "execution_count": 32,
     "metadata": {},
     "output_type": "execute_result"
    }
   ],
   "source": [
    "tk.width "
   ]
  },
  {
   "cell_type": "markdown",
   "metadata": {},
   "source": [
    "# 3.3. Множественное наследование\n",
    "\n",
    "Для наследования от нескольких классов в определении класса-наследника достаточно указать в круглых скобках сразу несколько базовых классов через запятую.\n",
    "\n",
    "# Пример.\n",
    "\n",
    "Рассмотрим три класса:"
   ]
  },
  {
   "cell_type": "code",
   "execution_count": 34,
   "metadata": {},
   "outputs": [],
   "source": [
    "class Class1: \n",
    "    def funс1(self):\n",
    "        print(\"Метод funс1() класса Classl\")\n",
    "\n",
    "class Class2(Class1): # Простое наследование\n",
    "    def func2(self):\n",
    "        print(\"Метод func2() класса Class2\")\n",
    "\n",
    "class Class3(Class1): # Простое наследование\n",
    "    def funс1(self):\n",
    "        print(\"Метод funс1() класса Class3\")\n",
    "    def func2(self):\n",
    "        print(\"Метод func2() класса Class3\")\n",
    "    def func3(self):\n",
    "        print(\"Метод func3() класса Class3\")\n",
    "    def func4(self):\n",
    "        print(\"Метод func4() класса Class3\")\n",
    "\n",
    "class Class4(Class2, Class3): # Множественное наследование\n",
    "    def func4(self):\n",
    "        print(\"Метод func4() класса Class4\")"
   ]
  },
  {
   "cell_type": "code",
   "execution_count": 35,
   "metadata": {},
   "outputs": [
    {
     "name": "stdout",
     "output_type": "stream",
     "text": [
      "Метод funс1() класса Class3\n",
      "Метод func2() класса Class2\n",
      "Метод func3() класса Class3\n",
      "Метод func4() класса Class4\n"
     ]
    }
   ],
   "source": [
    "c = Class4()\n",
    "c.funс1() \n",
    "c.func2() \n",
    "c.func3() \n",
    "c.func4() "
   ]
  },
  {
   "cell_type": "markdown",
   "metadata": {},
   "source": [
    "Метод `func1()` определен в двух классах: `class1` и `class3`. Так как вначале просматриваются все базовые классы, непосредственно указанные в определении текущего класса, метод `func1()` будет найден в классе `class3` (поскольку он указан в числе базовых классов в определении `Class4`), а не в классе `Class1`.\n",
    "\n",
    "Метод `func2()` также определен в двух классах: `Class2` и `Class3`. Так как класс `Class2` стоит первым в списке базовых классов, то метод будет найден именно в нем. \n",
    "\n",
    "Чтобы наследовать метод из класса `Class3`, следует указать это явным образом:"
   ]
  },
  {
   "cell_type": "code",
   "execution_count": 36,
   "metadata": {},
   "outputs": [],
   "source": [
    "class Class4(Class2, Class3): # Множественное наследование\n",
    "# Наследуем func2() из класса Class3, а не из класса Class2\n",
    "    func2 = Class3.func2\n",
    "    def func4(self):\n",
    "        print(\"Метод func4() класса Class4\")"
   ]
  },
  {
   "cell_type": "code",
   "execution_count": 37,
   "metadata": {},
   "outputs": [
    {
     "name": "stdout",
     "output_type": "stream",
     "text": [
      "Метод funс1() класса Class3\n",
      "Метод func2() класса Class3\n",
      "Метод func3() класса Class3\n",
      "Метод func4() класса Class4\n"
     ]
    }
   ],
   "source": [
    "c = Class4()\n",
    "c.funс1() \n",
    "c.func2() \n",
    "c.func3() \n",
    "c.func4() "
   ]
  },
  {
   "cell_type": "markdown",
   "metadata": {},
   "source": [
    "# Упражнение 2\n",
    "\n",
    "Напишите класс `Numbers`, содержащий два атрибута `x` и `y`, функцию инициализации и функции `Operation` и `Run`:"
   ]
  },
  {
   "cell_type": "code",
   "execution_count": 39,
   "metadata": {},
   "outputs": [],
   "source": [
    "def Operation(self):\n",
    "    return self.x + self.y\n",
    "def Run(self):\n",
    "    z = self.Operation()\n",
    "    print(\"Результат операции равен \" + z.__str__())"
   ]
  },
  {
   "cell_type": "markdown",
   "metadata": {},
   "source": [
    "Создайте класс-наследник и с помощью полиморфизма замените функцию `Operation` на любую другую в наследном классе."
   ]
  },
  {
   "cell_type": "code",
   "execution_count": 38,
   "metadata": {},
   "outputs": [],
   "source": [
    "class Numbers:\n",
    "    def __init__(self, x, y):\n",
    "        self.x = x\n",
    "        self.y = y\n",
    "    def Operation(self):\n",
    "        return self.x + self.y\n",
    "    def Run(self):\n",
    "        z = self.Operation()\n",
    "        print(\"Результат операции равен \" + z.__str__())"
   ]
  },
  {
   "cell_type": "code",
   "execution_count": 40,
   "metadata": {},
   "outputs": [],
   "source": [
    "class N2(Numbers):\n",
    "    def Operation(self):\n",
    "        return self.x - self.y"
   ]
  },
  {
   "cell_type": "code",
   "execution_count": 41,
   "metadata": {},
   "outputs": [
    {
     "data": {
      "text/plain": [
       "-2"
      ]
     },
     "execution_count": 41,
     "metadata": {},
     "output_type": "execute_result"
    }
   ],
   "source": [
    "n2 = N2(16, 18)\n",
    "\n",
    "n2.Operation()"
   ]
  },
  {
   "cell_type": "markdown",
   "metadata": {
    "collapsed": true
   },
   "source": [
    "# 4. Композиция\n",
    "\n",
    "Еще одной особенностью объектно-ориентированного программирования является возможность реализовывать так называемый композиционный подход. Заключается он в том, что есть класс-контейнер, он же агрегатор, который включает в себя вызовы других классов. В результате чего, что при создании объекта класса-контейнера, также создаются объекты включенных в него классов.\n",
    "\n",
    "Не следует путать композицию с наследованием, в том числе множественным. Наследование предполагает принадлежность к какой-то общности (похожесть), а композиция — формирование целого из частей. Наследуются атрибуты, т.е. возможности, другого класса, при этом объектов непосредственно родительского класса не создается. При композиции же класс-агрегатор создает объекты других классов.\n",
    "\n",
    "Рассмотрим на примере реализацию композиции в Python. Пусть, требуется написать программу, которая вычисляет площадь стен. При этом окна, двери, пол и потолок должны быть исключены.\n",
    "\n",
    "Итак, комната – это прямоугольный параллелепипед, состоящий из шести прямоугольников. Его площадь представляет собой сумму площадей составляющих его прямоугольников. Площадь прямоугольника равна произведению его длины на ширину."
   ]
  },
  {
   "cell_type": "code",
   "execution_count": 42,
   "metadata": {},
   "outputs": [],
   "source": [
    "class WinDoor:\n",
    "     def __init__(self, x, y):\n",
    "        self.square = x * y "
   ]
  },
  {
   "cell_type": "code",
   "execution_count": 43,
   "metadata": {},
   "outputs": [],
   "source": [
    "class Room:\n",
    "    def __init__(self, x, y, z):\n",
    "        self.square = 2 * z * (x + y)\n",
    "        self.wd = []\n",
    "    def addWD(self, w, h):\n",
    "        self.wd.append(WinDoor(w, h))\n",
    "    def workSurface(self):\n",
    "        new_square = self.square\n",
    "        for i in self.wd:\n",
    "            new_square -= i.square\n",
    "        return new_square"
   ]
  },
  {
   "cell_type": "code",
   "execution_count": 44,
   "metadata": {},
   "outputs": [
    {
     "name": "stdout",
     "output_type": "stream",
     "text": [
      "48.6\n",
      "44.6\n"
     ]
    }
   ],
   "source": [
    "r1 = Room(6, 3, 2.7) \n",
    "print(r1.square)\n",
    "r1.addWD(1, 1) \n",
    "r1.addWD(1, 1)\n",
    "r1.addWD(1, 2)\n",
    "print(r1.workSurface())"
   ]
  },
  {
   "cell_type": "markdown",
   "metadata": {},
   "source": [
    "# Упражнение 3\n",
    "\n",
    "Дополните приведённый пример возможностью вычисления площади пола и потолка, при этом в полу может быть квадратный проём с лестницей, ведущей вниз, а на потолке – круглые слуховые окна."
   ]
  },
  {
   "cell_type": "code",
   "execution_count": 45,
   "metadata": {},
   "outputs": [],
   "source": [
    "class WinDoorStairs:\n",
    "    def __init__(self, x, y):\n",
    "        self.s = x * y"
   ]
  },
  {
   "cell_type": "code",
   "execution_count": 46,
   "metadata": {},
   "outputs": [],
   "source": [
    "class CircleWindow:\n",
    "    def __init__(self, r):\n",
    "        self.s = 3.14 * (r ** 2)"
   ]
  },
  {
   "cell_type": "code",
   "execution_count": 47,
   "metadata": {},
   "outputs": [],
   "source": [
    "class Room:\n",
    "    def __init__(self, a, b, c):\n",
    "        self.fullSquare = 2 * (a * b + b * c + c * a)\n",
    "        self.WDSs = []\n",
    "    def addWDS(self, w, h):\n",
    "        self.WDSs.append(WinDoorStairs(w, h))\n",
    "    def addCW(self, r):\n",
    "        self.WDSs.append(CircleWindow(r))\n",
    "    def workSurface(self):\n",
    "        new_square = self.fullSquare\n",
    "        for i in self.WDSs:\n",
    "            new_square -= i.s\n",
    "        return new_square"
   ]
  },
  {
   "cell_type": "code",
   "execution_count": 48,
   "metadata": {},
   "outputs": [
    {
     "name": "stdout",
     "output_type": "stream",
     "text": [
      "Общая площадь поверхности комнаты равна 661900.0 см^2\n"
     ]
    }
   ],
   "source": [
    "SUPERDUPERROOM = Room(500, 400, 250)\n",
    "SUPERDUPERROOM.addWDS(100, 100) # окно\n",
    "SUPERDUPERROOM.addWDS(100, 100) # окно 2\n",
    "SUPERDUPERROOM.addWDS(100, 200) # ...окно 3? Не-а, это дверь\n",
    "SUPERDUPERROOM.addWDS(150, 150) # проём в полу\n",
    "SUPERDUPERROOM.addCW(200) # слуховое окно\n",
    "print('Общая площадь поверхности комнаты равна', SUPERDUPERROOM.workSurface(), 'см^2')"
   ]
  },
  {
   "cell_type": "markdown",
   "metadata": {},
   "source": [
    "# Домашнее задание (базовое):"
   ]
  },
  {
   "cell_type": "markdown",
   "metadata": {},
   "source": [
    "# Задание 1. \n",
    "\n",
    "Создайте класс \"Геометрические фигуры\", атрибутами которого будут параметры: \n",
    "\n",
    "- периметр\n",
    "- площадь\n",
    "- координаты некотрой характерной точки или точек (например, центра или вершин). \n",
    "\n",
    "Создайте три класса потомка: \n",
    "\n",
    "1. Треугольник\n",
    "2. Прямоугольник\n",
    "3. Круг. \n",
    "\n",
    "Для классов потомков определить функцию инициализации `__init__()` и функции для вычисления периметра и площади, функцию `paint()`, выводящую рисунок соответствующей геометрической фигуры с помощью библиотеки `matplotlib`."
   ]
  },
  {
   "cell_type": "code",
   "execution_count": 49,
   "metadata": {},
   "outputs": [],
   "source": [
    "import matplotlib.pyplot as plt\n",
    "import pylab"
   ]
  },
  {
   "cell_type": "code",
   "execution_count": 50,
   "metadata": {},
   "outputs": [],
   "source": [
    "class figure:\n",
    "    def __init__(self, P, S, **dots):\n",
    "        self.P = P\n",
    "        self.S = S\n",
    "        self.__dict__.update(dots)"
   ]
  },
  {
   "cell_type": "code",
   "execution_count": 51,
   "metadata": {},
   "outputs": [],
   "source": [
    "class triangle(figure):\n",
    "    def __init__(self, **dots):\n",
    "        super().__init__(self.p(dots['dot1'], dots['dot2'], dots['dot3']), \n",
    "                         self.s(dots['dot1'], dots['dot2'], dots['dot3']), \n",
    "                         dot1 = dots['dot1'], dot2 = dots['dot2'], dot3 = dots['dot3'])\n",
    "        \n",
    "    def side(self, dot1, dot2, dot3):\n",
    "        l1 = ((dot1[0]-dot2[0])**2+(dot1[1]-dot2[1])**2)**0.5\n",
    "        l2 = ((dot2[0]-dot3[0])**2+(dot2[1]-dot3[1])**2)**0.5\n",
    "        l3 = ((dot3[0]-dot1[0])**2+(dot3[1]-dot1[1])**2)**0.5\n",
    "        return l1, l2, l3\n",
    "    \n",
    "    def p(self, dot1, dot2, dot3):\n",
    "        l1, l2, l3 = self.side(dot1, dot2, dot3)\n",
    "        P = l1 + l2 + l3\n",
    "        return P\n",
    "    \n",
    "    def s(self, dot1, dot2, dot3):\n",
    "        S = 0.5 * abs((dot2[0] - dot1[0] ) * (dot3[1] - dot1[1]) \n",
    "                      - (dot3[0] - dot1[0] ) * (dot2[1] - dot1[1]))\n",
    "        return S\n",
    "    \n",
    "    def paint(self):\n",
    "        plt.xlim(-2, 8)\n",
    "        plt.ylim(-2, 8)\n",
    "        plt.grid()\n",
    "        axes = plt.gca()  \n",
    "        axes.set_aspect(\"equal\")\n",
    "        axes.add_patch(plt.Polygon([[self.dot1[0], self.dot1[1]],\n",
    "                                    [self.dot2[0], self.dot2[1]],\n",
    "                                    [self.dot3[0], self.dot3[1]]],\n",
    "                                   fill = True,\n",
    "                                   closed = True,\n",
    "                                   color= 'blue'))\n",
    "        plt.show()"
   ]
  },
  {
   "cell_type": "code",
   "execution_count": 52,
   "metadata": {},
   "outputs": [
    {
     "name": "stdout",
     "output_type": "stream",
     "text": [
      "Стороны треугольника: (3.1622776601683795, 6.324555320336759, 4.242640687119285)\n",
      "Периметр: 13.729473667624422\n",
      "Площадь: 6.0\n"
     ]
    },
    {
     "data": {
      "image/png": "[encoded data removed]",
      "text/plain": [
       "<Figure size 432x288 with 1 Axes>"
      ]
     },
     "metadata": {
      "needs_background": "light"
     },
     "output_type": "display_data"
    }
   ],
   "source": [
    "TRNGL = triangle(dot1 = [2, 4], dot2 = [3, 7], dot3 = [5, 1])\n",
    "print('Стороны треугольника:', TRNGL.side(TRNGL.dot1, TRNGL.dot2, TRNGL.dot3))\n",
    "print('Периметр:', TRNGL.P)\n",
    "print('Площадь:', TRNGL.S)\n",
    "TRNGL.paint()"
   ]
  },
  {
   "cell_type": "code",
   "execution_count": 53,
   "metadata": {},
   "outputs": [],
   "source": [
    "class rectangle(figure):\n",
    "    def __init__(self, **dots):\n",
    "        super().__init__(self.p(dots['dot1'], dots['dot2'], dots['dot3']), \n",
    "                         self.s(dots['dot1'], dots['dot2'], dots['dot3']), \n",
    "                         dot1 = dots['dot1'], \n",
    "                         dot2 = dots['dot2'], \n",
    "                         dot3 = dots['dot3'], \n",
    "                         dot4 = dots['dot4'])\n",
    "        \n",
    "    def side(self, dot1, dot2, dot3):\n",
    "        l1 = ((dot1[0]-dot2[0])**2+(dot1[1]-dot2[1])**2)**0.5\n",
    "        l2 = ((dot3[0]-dot1[0])**2+(dot3[1]-dot1[1])**2)**0.5\n",
    "        return l1, l2\n",
    "    \n",
    "    def p(self, dot1, dot2, dot3):\n",
    "        l1, l2 = self.side(dot1, dot2, dot3)\n",
    "        P = 2*(l1 + l2)\n",
    "        return P\n",
    "    \n",
    "    def s(self, dot1, dot2, dot3):\n",
    "        l1, l2 = self.side(dot1, dot2, dot3)\n",
    "        S = l1*l2\n",
    "        return S\n",
    "    \n",
    "    def paint(self):\n",
    "        plt.xlim(-2, 8)\n",
    "        plt.ylim(-2, 8)\n",
    "        plt.grid()\n",
    "        axes = plt.gca()\n",
    "        axes.set_aspect(\"equal\")\n",
    "        axes.add_patch(plt.Polygon([[self.dot1[0], self.dot1[1]],\n",
    "                                    [self.dot2[0], self.dot2[1]],\n",
    "                                    [self.dot4[0], self.dot4[1]],\n",
    "                                    [self.dot3[0], self.dot3[1]]],\n",
    "                                   fill = True,\n",
    "                                   closed = True,\n",
    "                                   color= 'blue'))\n",
    "        \n",
    "        plt.show()"
   ]
  },
  {
   "cell_type": "code",
   "execution_count": 54,
   "metadata": {},
   "outputs": [
    {
     "name": "stdout",
     "output_type": "stream",
     "text": [
      "Стороны прямоугольника: (3.0, 2.0)\n",
      "Периметр: 10.0\n",
      "Площадь: 6.0\n"
     ]
    },
    {
     "data": {
      "image/png": "[encoded data removed]",
      "text/plain": [
       "<Figure size 432x288 with 1 Axes>"
      ]
     },
     "metadata": {
      "needs_background": "light"
     },
     "output_type": "display_data"
    }
   ],
   "source": [
    "RECT = rectangle(dot1 = [2, 1], dot2 = [5, 1], dot3 = [2, 3], dot4 = [5, 3])\n",
    "print('Стороны прямоугольника:', RECT.side(RECT.dot1, RECT.dot2, RECT.dot3))\n",
    "print('Периметр:', RECT.P)\n",
    "print('Площадь:', RECT.S)\n",
    "RECT.paint()"
   ]
  },
  {
   "cell_type": "code",
   "execution_count": 55,
   "metadata": {},
   "outputs": [],
   "source": [
    "class circle(figure):\n",
    "    def __init__(self, **dots):\n",
    "        super().__init__(self.p(dots['dot1'], dots['dot2']), \n",
    "                         self.s(dots['dot1'], dots['dot2']),\n",
    "                         dot1 = dots['dot1'], \n",
    "                         dot2 = dots['dot2'])\n",
    "        \n",
    "    def r(self, dot1, dot2):\n",
    "        rr = ((dot1[0]-dot2[0])**2+(dot1[1]-dot2[1])**2)**0.5\n",
    "        return rr\n",
    "    \n",
    "    def p(self, dot1, dot2):\n",
    "        rr = self.r(dot1, dot2)\n",
    "        print(rr)\n",
    "        P = 3.14 * rr * 2\n",
    "        return P\n",
    "    \n",
    "    def s(self, dot1, dot2):\n",
    "        rr = self.r(dot1, dot2)\n",
    "        S = rr**2 * 3.14\n",
    "        return S\n",
    "    \n",
    "    def paint(self):\n",
    "        plt.xlim(-8, 8)\n",
    "        plt.ylim(-8, 8)\n",
    "        plt.grid()\n",
    "        axes = plt.gca()\n",
    "        axes.set_aspect(\"equal\")\n",
    "        axes.add_patch(plt.Circle((0, 0),\n",
    "                       radius= self.r(self.dot1, self.dot2),\n",
    "                       color= 'blue'))\n",
    "        plt.show()"
   ]
  },
  {
   "cell_type": "code",
   "execution_count": 56,
   "metadata": {},
   "outputs": [
    {
     "name": "stdout",
     "output_type": "stream",
     "text": [
      "3.0\n",
      "3.0\n",
      "18.84\n",
      "28.26\n"
     ]
    },
    {
     "data": {
      "image/png": "[encoded data removed]",
      "text/plain": [
       "<Figure size 432x288 with 1 Axes>"
      ]
     },
     "metadata": {
      "needs_background": "light"
     },
     "output_type": "display_data"
    }
   ],
   "source": [
    "CRCL = circle(dot1 = [0, 0], dot2 = [0, 3])\n",
    "print(CRCL.r(CRCL.dot1, CRCL.dot2))\n",
    "print(CRCL.P)\n",
    "print(CRCL.S)\n",
    "CRCL.paint()"
   ]
  },
  {
   "cell_type": "markdown",
   "metadata": {},
   "source": [
    "# Задание 2. "
   ]
  },
  {
   "cell_type": "markdown",
   "metadata": {
    "collapsed": true
   },
   "source": [
    "Реализуйте класс `Matrix`. Он должен содержать:\n",
    "\n",
    "- Конструктор от списка списков. Гарантируется, что списки состоят из чисел, не пусты и имеют одинаковый размер. Конструктор должен копировать содержимое списка списков, т.е. при изменении списков, от которых была сконструирована матрица, содержимое матрицы изменяться не должно.\n",
    "- Метод `__str__()`, переводящий матрицу в строку. При этом элементы внутри одной строки должны быть разделены знаками табуляции, а строки — переносами строк. После каждой строки не должно быть символа табуляции и в конце не должно быть переноса строки.\n",
    "- Метод `size()` без аргументов, возвращающий кортеж вида `(<число строк>, <число столбцов>)`. \n",
    "- `__add__()`, принимающий вторую матрицу того же размера и возвращающий сумму матриц. В случае, если две матрицы сложить невозможно, должно выводиться сообщение об ошибке.\n",
    "- `__mul__()`, таким образом, чтобы матрицы можно было умножать на скаляры и на другие матрицы. В случае, если две матрицы перемножить невозможно, должно выводиться сообщение об ошибке.\n",
    "- `__rmul__()`, делающий то же самое, что и `__mul__()`. Этот метод будет вызван в том случае, когда аргумент находится справа. Для реализации этого метода в коде класса достаточно написать `__rmul__()` = `__mul__()`.\n",
    "- Статический метод `transposed`, принимающий `Matrix` и возвращающий транспонированную матрицу."
   ]
  },
  {
   "cell_type": "code",
   "execution_count": 57,
   "metadata": {},
   "outputs": [],
   "source": [
    "import numpy as np"
   ]
  },
  {
   "cell_type": "code",
   "execution_count": 58,
   "metadata": {},
   "outputs": [],
   "source": [
    "class Matrix:\n",
    "    def __init__(self, matrix):\n",
    "        self.matrix = np.array(matrix)\n",
    "\n",
    "    def __str__(self):\n",
    "        S = ''\n",
    "        for i in range(len(self.matrix)):\n",
    "            for j in range(len(self.matrix[0])):\n",
    "                S += str(self.matrix[i][j]) + '\\t'\n",
    "            S = S[:-1]\n",
    "            S += '\\n'\n",
    "        return S[:-1]\n",
    "    \n",
    "    def size(self):\n",
    "        return (len(self.matrix), len(self.matrix[0]))\n",
    "    \n",
    "    def __add__(self1, self2):\n",
    "        if self1.size() != self2.size():\n",
    "            raise ValueError(\"Размеры не совпадают\")\n",
    "            return None\n",
    "        else:\n",
    "            return Matrix(self1.matrix + self2.matrix)\n",
    "        \n",
    "    def __mul__(self1, self2):\n",
    "        if type(self1) is int:\n",
    "            return Matrix(self1 * self2.matrix)\n",
    "        elif type(self2) is int:\n",
    "            return Matrix(self2 * self1.matrix)\n",
    "        elif len(self1.matrix[0]) != len(self2.matrix):\n",
    "            raise ValueError(\"Матрицы нельзя умножить\")\n",
    "            return None\n",
    "        else:\n",
    "            return Matrix(np.dot(self1.matrix, self2.matrix))\n",
    "    \n",
    "    __rmul__ = __mul__\n",
    "    \n",
    "    def transposed(self):\n",
    "        M = Matrix([])\n",
    "        M.matrix = np.transpose(self.matrix)\n",
    "        return M"
   ]
  },
  {
   "cell_type": "code",
   "execution_count": 59,
   "metadata": {},
   "outputs": [
    {
     "name": "stdout",
     "output_type": "stream",
     "text": [
      "Сумма двух одинаковых матриц m равна\n",
      "0\t2\t4\n",
      "6\t8\t10\n",
      "12\t14\t16\n",
      "Произведение матриц n и m равно\n",
      "69\t84\t99\n",
      "Матрица m - это\n",
      "0\t1\t2\n",
      "3\t4\t5\n",
      "6\t7\t8\n",
      "а транспонированная ей - \n",
      "0\t3\t6\n",
      "1\t4\t7\n",
      "2\t5\t8\n",
      "Произведение матрицы m на число 2 равно\n",
      "0\t2\t4\n",
      "6\t8\t10\n",
      "12\t14\t16\n"
     ]
    }
   ],
   "source": [
    "m = Matrix( [ [0, 1, 2], [3, 4, 5], [6, 7, 8] ] )\n",
    "n = Matrix( [ [1, 5, 9] ] )\n",
    "print('Сумма двух одинаковых матриц m равна\\n' + str(m + m))\n",
    "print('Произведение матриц n и m равно\\n' + str(n * m))\n",
    "print('Матрица m - это\\n' + str(m) + '\\nа транспонированная ей - \\n' + str(Matrix.transposed(m)))\n",
    "print('Произведение матрицы m на число 2 равно\\n' + str(2 * m))"
   ]
  },
  {
   "cell_type": "markdown",
   "metadata": {},
   "source": [
    "# Задание 3.\n",
    "\n",
    "Создайте класс `Vector`, наследующий все атрибуты класса `Matrix`, методы, реализованные в классе из задания 3 лабораторной 9, и обладающий методом векторного произведения векторов."
   ]
  },
  {
   "cell_type": "code",
   "execution_count": 60,
   "metadata": {},
   "outputs": [],
   "source": [
    "class Vector(Matrix):\n",
    "    def __init__(self, dot1, dot2):\n",
    "        self.begin = dot1\n",
    "        self.end = dot2\n",
    "        super().__init__([[ self.end[a] - self.begin[a] for a in range(len(self.begin)) ]])\n",
    "        \n",
    "    def __add__(self1, self2):\n",
    "        m = super().__add__(self1, self2)\n",
    "        if m == None:\n",
    "            return None\n",
    "        return Vector([ self1.begin[a] for a in range(len(self1.begin)) ], m.matrix)\n",
    "    \n",
    "    def __sub__(self1, self2):\n",
    "        return Vector([ self1.begin[a] for a in range(len(self1.begin)) ], \n",
    "                      [[ (self1.end[a] - self2.matrix[a]) for a in range(len(self1.matrix)) ]])\n",
    "    \n",
    "    def __mul__(self1, self2):\n",
    "        if type(self1) is not int and type(self2) is not int:\n",
    "            self2t = self2.transposed()\n",
    "        m = Matrix.__mul__(self1, self2t)\n",
    "        if m.matrix.shape == (1, 1):\n",
    "            return m.matrix[0][0]\n",
    "        return m.matrix\n",
    "    \n",
    "    __rmul__ = __mul__\n",
    "    \n",
    "    def getLength(self):\n",
    "        l2 = 0\n",
    "        for a in range(len(self.matrix[0])):\n",
    "            l2 += (self.matrix[0][a]) ** 2\n",
    "        l = l2 ** 0.5\n",
    "        return l\n",
    "    \n",
    "    def getCos(self1, self2):\n",
    "        return self1 * self2 / (self1.getLength() * self2.getLength())\n",
    "    \n",
    "    def about(self):\n",
    "        print('Вектор №%i:' % id(self))\n",
    "        print('\\tКоординаты вектора:', self.matrix)\n",
    "        print('\\tКоординаты начальной точки:', self.begin)\n",
    "        print('\\tКоординаты конечной точки:', self.end)\n",
    "        print('\\tДлина вектора:', self.getLength())\n",
    "    \n",
    "    def getVectMul(self1, self2):\n",
    "        if not 2 <= len(self1.matrix[0]) <= 3:\n",
    "            return Vector([0, 0, 0], [0, 0, 0])\n",
    "        else:\n",
    "            return Vector([0, 0, 0], np.cross(self1.matrix.reshape(-1), self2.matrix.reshape(-1)))"
   ]
  },
  {
   "cell_type": "code",
   "execution_count": 61,
   "metadata": {},
   "outputs": [
    {
     "name": "stdout",
     "output_type": "stream",
     "text": [
      "Вектор №140600016707296:\n",
      "\tКоординаты вектора: [[-1 -3 -5 -7 -9]]\n",
      "\tКоординаты начальной точки: [1, 2, 3, 4, 5]\n",
      "\tКоординаты конечной точки: [0, -1, -2, -3, -4]\n",
      "\tДлина вектора: 12.84523257866513\n"
     ]
    }
   ],
   "source": [
    "b = Vector([1, 2, 3, 4, 5], [0, -1, -2, -3, -4])\n",
    "b.about()"
   ]
  },
  {
   "cell_type": "code",
   "execution_count": 62,
   "metadata": {},
   "outputs": [
    {
     "name": "stdout",
     "output_type": "stream",
     "text": [
      "Скалярное произведение: 1115\n",
      "Косинус угла: 0.8093331613231335\n"
     ]
    }
   ],
   "source": [
    "a = Vector([12, 18, 5, 63, 8], [1, -21, -53, -16, -8])\n",
    "print('Скалярное произведение:', a * b)\n",
    "print('Косинус угла:', Vector.getCos(a, b))"
   ]
  },
  {
   "cell_type": "code",
   "execution_count": 63,
   "metadata": {},
   "outputs": [
    {
     "name": "stdout",
     "output_type": "stream",
     "text": [
      "Вектор №140600016305936:\n",
      "\tКоординаты вектора: [[ 6944 -3580   320]]\n",
      "\tКоординаты начальной точки: [0, 0, 0]\n",
      "\tКоординаты конечной точки: [ 6944 -3580   320]\n",
      "\tДлина вектора: 7819.075137124595\n"
     ]
    }
   ],
   "source": [
    "k1 = Vector([1, 2, 3], [1, 18, 182])\n",
    "k2 = Vector([4, 5, 6], [-16, -27, 82])\n",
    "k1.getVectMul(k2).about()"
   ]
  },
  {
   "cell_type": "markdown",
   "metadata": {},
   "source": [
    "# Домашнее задание (дополнительное):"
   ]
  },
  {
   "cell_type": "markdown",
   "metadata": {},
   "source": [
    "# Геометрические фигуры.\n",
    "\n",
    "Измените классы из 1 задания следующим образом. \n",
    "\n",
    "Создайте класс \"Параметры\", состоящий из двух атрибутов: значения и описания этого параметра (т.е. строки). Сделайте каждый параметр созданных в задании 1 классов объектом класса \"Параметры\". \n",
    "\n",
    "Создайте библиотеку функций для вычисления площадей и периметров двумя способами:\n",
    "\n",
    "- соберите функции в класс и объявите их как статические (для вычисления параметров фигур вызывайте функции из этого класса);\n",
    "- соберите функции в класс с помощью композиции (т.е. создавая внутри этого класса объекты соответствующих геометрических фигур и проводя соответствующие вычисления)."
   ]
  },
  {
   "cell_type": "markdown",
   "metadata": {
    "collapsed": true
   },
   "source": [
    "Статус: `задание не решено`."
   ]
  }
 ],
 "metadata": {
  "kernelspec": {
   "display_name": "Python 3",
   "language": "python",
   "name": "python3"
  },
  "language_info": {
   "codemirror_mode": {
    "name": "ipython",
    "version": 3
   },
   "file_extension": ".py",
   "mimetype": "text/x-python",
   "name": "python",
   "nbconvert_exporter": "python",
   "pygments_lexer": "ipython3",
   "version": "3.8.5"
  }
 },
 "nbformat": 4,
 "nbformat_minor": 2
}
